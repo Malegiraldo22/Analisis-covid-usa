{
 "cells": [
  {
   "cell_type": "markdown",
   "metadata": {},
   "source": [
    "# Análisis Covid USA"
   ]
  },
  {
   "cell_type": "markdown",
   "metadata": {},
   "source": [
    "## Bibliotecas"
   ]
  },
  {
   "cell_type": "code",
   "execution_count": 53,
   "metadata": {},
   "outputs": [],
   "source": [
    "import pandas as pd\n",
    "import numpy as np\n",
    "import matplotlib.pyplot as plt\n",
    "import seaborn as sns\n",
    "import plotly.express as px\n",
    "from sodapy import Socrata\n",
    "import requests\n",
    "from requests.structures import CaseInsensitiveDict\n",
    "import csv\n",
    "import io\n",
    "from matplotlib import lines\n",
    "from matplotlib import patches\n",
    "from matplotlib.patheffects import withStroke\n",
    "import plotly.offline as po\n",
    "import plotly.graph_objs as pg"
   ]
  },
  {
   "cell_type": "markdown",
   "metadata": {},
   "source": [
    "## Petición de datos\n",
    "La petición de datos se realiza usando la API socrata"
   ]
  },
  {
   "cell_type": "code",
   "execution_count": 54,
   "metadata": {},
   "outputs": [
    {
     "data": {
      "text/html": [
       "<div>\n",
       "<style scoped>\n",
       "    .dataframe tbody tr th:only-of-type {\n",
       "        vertical-align: middle;\n",
       "    }\n",
       "\n",
       "    .dataframe tbody tr th {\n",
       "        vertical-align: top;\n",
       "    }\n",
       "\n",
       "    .dataframe thead th {\n",
       "        text-align: right;\n",
       "    }\n",
       "</style>\n",
       "<table border=\"1\" class=\"dataframe\">\n",
       "  <thead>\n",
       "    <tr style=\"text-align: right;\">\n",
       "      <th></th>\n",
       "      <th>state</th>\n",
       "      <th>date</th>\n",
       "      <th>critical_staffing_shortage_today_yes</th>\n",
       "      <th>critical_staffing_shortage_today_no</th>\n",
       "      <th>critical_staffing_shortage_today_not_reported</th>\n",
       "      <th>critical_staffing_shortage_anticipated_within_week_yes</th>\n",
       "      <th>critical_staffing_shortage_anticipated_within_week_no</th>\n",
       "      <th>critical_staffing_shortage_anticipated_within_week_not_reported</th>\n",
       "      <th>hospital_onset_covid</th>\n",
       "      <th>hospital_onset_covid_coverage</th>\n",
       "      <th>...</th>\n",
       "      <th>previous_day_admission_pediatric_covid_confirmed_5_11</th>\n",
       "      <th>previous_day_admission_pediatric_covid_confirmed_5_11_coverage</th>\n",
       "      <th>previous_day_admission_pediatric_covid_confirmed_unknown</th>\n",
       "      <th>previous_day_admission_pediatric_covid_confirmed_unknown_coverage</th>\n",
       "      <th>staffed_icu_pediatric_patients_confirmed_covid</th>\n",
       "      <th>staffed_icu_pediatric_patients_confirmed_covid_coverage</th>\n",
       "      <th>staffed_pediatric_icu_bed_occupancy</th>\n",
       "      <th>staffed_pediatric_icu_bed_occupancy_coverage</th>\n",
       "      <th>total_staffed_pediatric_icu_beds</th>\n",
       "      <th>total_staffed_pediatric_icu_beds_coverage</th>\n",
       "    </tr>\n",
       "  </thead>\n",
       "  <tbody>\n",
       "    <tr>\n",
       "      <th>0</th>\n",
       "      <td>MT</td>\n",
       "      <td>2020-01-01</td>\n",
       "      <td>0</td>\n",
       "      <td>0</td>\n",
       "      <td>1</td>\n",
       "      <td>0</td>\n",
       "      <td>0</td>\n",
       "      <td>1</td>\n",
       "      <td>0.0</td>\n",
       "      <td>1</td>\n",
       "      <td>...</td>\n",
       "      <td>NaN</td>\n",
       "      <td>0</td>\n",
       "      <td>NaN</td>\n",
       "      <td>0</td>\n",
       "      <td>NaN</td>\n",
       "      <td>0</td>\n",
       "      <td>NaN</td>\n",
       "      <td>0</td>\n",
       "      <td>NaN</td>\n",
       "      <td>0</td>\n",
       "    </tr>\n",
       "    <tr>\n",
       "      <th>1</th>\n",
       "      <td>TX</td>\n",
       "      <td>2020-01-01</td>\n",
       "      <td>0</td>\n",
       "      <td>0</td>\n",
       "      <td>3</td>\n",
       "      <td>0</td>\n",
       "      <td>0</td>\n",
       "      <td>3</td>\n",
       "      <td>0.0</td>\n",
       "      <td>1</td>\n",
       "      <td>...</td>\n",
       "      <td>NaN</td>\n",
       "      <td>0</td>\n",
       "      <td>NaN</td>\n",
       "      <td>0</td>\n",
       "      <td>NaN</td>\n",
       "      <td>0</td>\n",
       "      <td>NaN</td>\n",
       "      <td>0</td>\n",
       "      <td>NaN</td>\n",
       "      <td>0</td>\n",
       "    </tr>\n",
       "    <tr>\n",
       "      <th>2</th>\n",
       "      <td>PR</td>\n",
       "      <td>2020-01-01</td>\n",
       "      <td>0</td>\n",
       "      <td>0</td>\n",
       "      <td>1</td>\n",
       "      <td>0</td>\n",
       "      <td>0</td>\n",
       "      <td>1</td>\n",
       "      <td>0.0</td>\n",
       "      <td>1</td>\n",
       "      <td>...</td>\n",
       "      <td>NaN</td>\n",
       "      <td>0</td>\n",
       "      <td>NaN</td>\n",
       "      <td>0</td>\n",
       "      <td>NaN</td>\n",
       "      <td>0</td>\n",
       "      <td>NaN</td>\n",
       "      <td>0</td>\n",
       "      <td>NaN</td>\n",
       "      <td>0</td>\n",
       "    </tr>\n",
       "    <tr>\n",
       "      <th>3</th>\n",
       "      <td>HI</td>\n",
       "      <td>2020-01-01</td>\n",
       "      <td>0</td>\n",
       "      <td>0</td>\n",
       "      <td>1</td>\n",
       "      <td>0</td>\n",
       "      <td>0</td>\n",
       "      <td>1</td>\n",
       "      <td>0.0</td>\n",
       "      <td>1</td>\n",
       "      <td>...</td>\n",
       "      <td>NaN</td>\n",
       "      <td>0</td>\n",
       "      <td>NaN</td>\n",
       "      <td>0</td>\n",
       "      <td>NaN</td>\n",
       "      <td>0</td>\n",
       "      <td>NaN</td>\n",
       "      <td>0</td>\n",
       "      <td>NaN</td>\n",
       "      <td>0</td>\n",
       "    </tr>\n",
       "    <tr>\n",
       "      <th>4</th>\n",
       "      <td>IN</td>\n",
       "      <td>2020-01-01</td>\n",
       "      <td>0</td>\n",
       "      <td>0</td>\n",
       "      <td>1</td>\n",
       "      <td>0</td>\n",
       "      <td>0</td>\n",
       "      <td>1</td>\n",
       "      <td>0.0</td>\n",
       "      <td>1</td>\n",
       "      <td>...</td>\n",
       "      <td>NaN</td>\n",
       "      <td>0</td>\n",
       "      <td>NaN</td>\n",
       "      <td>0</td>\n",
       "      <td>NaN</td>\n",
       "      <td>0</td>\n",
       "      <td>NaN</td>\n",
       "      <td>0</td>\n",
       "      <td>NaN</td>\n",
       "      <td>0</td>\n",
       "    </tr>\n",
       "    <tr>\n",
       "      <th>...</th>\n",
       "      <td>...</td>\n",
       "      <td>...</td>\n",
       "      <td>...</td>\n",
       "      <td>...</td>\n",
       "      <td>...</td>\n",
       "      <td>...</td>\n",
       "      <td>...</td>\n",
       "      <td>...</td>\n",
       "      <td>...</td>\n",
       "      <td>...</td>\n",
       "      <td>...</td>\n",
       "      <td>...</td>\n",
       "      <td>...</td>\n",
       "      <td>...</td>\n",
       "      <td>...</td>\n",
       "      <td>...</td>\n",
       "      <td>...</td>\n",
       "      <td>...</td>\n",
       "      <td>...</td>\n",
       "      <td>...</td>\n",
       "      <td>...</td>\n",
       "    </tr>\n",
       "    <tr>\n",
       "      <th>47418</th>\n",
       "      <td>SD</td>\n",
       "      <td>2022-08-01</td>\n",
       "      <td>1</td>\n",
       "      <td>53</td>\n",
       "      <td>10</td>\n",
       "      <td>2</td>\n",
       "      <td>52</td>\n",
       "      <td>10</td>\n",
       "      <td>14.0</td>\n",
       "      <td>61</td>\n",
       "      <td>...</td>\n",
       "      <td>0.0</td>\n",
       "      <td>42</td>\n",
       "      <td>0.0</td>\n",
       "      <td>61</td>\n",
       "      <td>0.0</td>\n",
       "      <td>61</td>\n",
       "      <td>7.0</td>\n",
       "      <td>61</td>\n",
       "      <td>23.0</td>\n",
       "      <td>61</td>\n",
       "    </tr>\n",
       "    <tr>\n",
       "      <th>47419</th>\n",
       "      <td>IL</td>\n",
       "      <td>2022-08-01</td>\n",
       "      <td>4</td>\n",
       "      <td>155</td>\n",
       "      <td>28</td>\n",
       "      <td>14</td>\n",
       "      <td>148</td>\n",
       "      <td>25</td>\n",
       "      <td>21.0</td>\n",
       "      <td>182</td>\n",
       "      <td>...</td>\n",
       "      <td>2.0</td>\n",
       "      <td>162</td>\n",
       "      <td>0.0</td>\n",
       "      <td>182</td>\n",
       "      <td>4.0</td>\n",
       "      <td>182</td>\n",
       "      <td>358.0</td>\n",
       "      <td>182</td>\n",
       "      <td>589.0</td>\n",
       "      <td>182</td>\n",
       "    </tr>\n",
       "    <tr>\n",
       "      <th>47420</th>\n",
       "      <td>RI</td>\n",
       "      <td>2022-08-01</td>\n",
       "      <td>1</td>\n",
       "      <td>0</td>\n",
       "      <td>13</td>\n",
       "      <td>5</td>\n",
       "      <td>7</td>\n",
       "      <td>2</td>\n",
       "      <td>2.0</td>\n",
       "      <td>13</td>\n",
       "      <td>...</td>\n",
       "      <td>0.0</td>\n",
       "      <td>13</td>\n",
       "      <td>0.0</td>\n",
       "      <td>13</td>\n",
       "      <td>0.0</td>\n",
       "      <td>13</td>\n",
       "      <td>79.0</td>\n",
       "      <td>13</td>\n",
       "      <td>91.0</td>\n",
       "      <td>13</td>\n",
       "    </tr>\n",
       "    <tr>\n",
       "      <th>47421</th>\n",
       "      <td>MA</td>\n",
       "      <td>2022-08-01</td>\n",
       "      <td>0</td>\n",
       "      <td>4</td>\n",
       "      <td>79</td>\n",
       "      <td>22</td>\n",
       "      <td>60</td>\n",
       "      <td>1</td>\n",
       "      <td>29.0</td>\n",
       "      <td>82</td>\n",
       "      <td>...</td>\n",
       "      <td>1.0</td>\n",
       "      <td>82</td>\n",
       "      <td>0.0</td>\n",
       "      <td>82</td>\n",
       "      <td>6.0</td>\n",
       "      <td>82</td>\n",
       "      <td>151.0</td>\n",
       "      <td>82</td>\n",
       "      <td>166.0</td>\n",
       "      <td>82</td>\n",
       "    </tr>\n",
       "    <tr>\n",
       "      <th>47422</th>\n",
       "      <td>AZ</td>\n",
       "      <td>2022-08-01</td>\n",
       "      <td>0</td>\n",
       "      <td>56</td>\n",
       "      <td>46</td>\n",
       "      <td>5</td>\n",
       "      <td>71</td>\n",
       "      <td>26</td>\n",
       "      <td>10.0</td>\n",
       "      <td>99</td>\n",
       "      <td>...</td>\n",
       "      <td>0.0</td>\n",
       "      <td>91</td>\n",
       "      <td>0.0</td>\n",
       "      <td>99</td>\n",
       "      <td>11.0</td>\n",
       "      <td>99</td>\n",
       "      <td>163.0</td>\n",
       "      <td>99</td>\n",
       "      <td>241.0</td>\n",
       "      <td>99</td>\n",
       "    </tr>\n",
       "  </tbody>\n",
       "</table>\n",
       "<p>47423 rows × 135 columns</p>\n",
       "</div>"
      ],
      "text/plain": [
       "      state       date  critical_staffing_shortage_today_yes  \\\n",
       "0        MT 2020-01-01                                     0   \n",
       "1        TX 2020-01-01                                     0   \n",
       "2        PR 2020-01-01                                     0   \n",
       "3        HI 2020-01-01                                     0   \n",
       "4        IN 2020-01-01                                     0   \n",
       "...     ...        ...                                   ...   \n",
       "47418    SD 2022-08-01                                     1   \n",
       "47419    IL 2022-08-01                                     4   \n",
       "47420    RI 2022-08-01                                     1   \n",
       "47421    MA 2022-08-01                                     0   \n",
       "47422    AZ 2022-08-01                                     0   \n",
       "\n",
       "       critical_staffing_shortage_today_no  \\\n",
       "0                                        0   \n",
       "1                                        0   \n",
       "2                                        0   \n",
       "3                                        0   \n",
       "4                                        0   \n",
       "...                                    ...   \n",
       "47418                                   53   \n",
       "47419                                  155   \n",
       "47420                                    0   \n",
       "47421                                    4   \n",
       "47422                                   56   \n",
       "\n",
       "       critical_staffing_shortage_today_not_reported  \\\n",
       "0                                                  1   \n",
       "1                                                  3   \n",
       "2                                                  1   \n",
       "3                                                  1   \n",
       "4                                                  1   \n",
       "...                                              ...   \n",
       "47418                                             10   \n",
       "47419                                             28   \n",
       "47420                                             13   \n",
       "47421                                             79   \n",
       "47422                                             46   \n",
       "\n",
       "       critical_staffing_shortage_anticipated_within_week_yes  \\\n",
       "0                                                      0        \n",
       "1                                                      0        \n",
       "2                                                      0        \n",
       "3                                                      0        \n",
       "4                                                      0        \n",
       "...                                                  ...        \n",
       "47418                                                  2        \n",
       "47419                                                 14        \n",
       "47420                                                  5        \n",
       "47421                                                 22        \n",
       "47422                                                  5        \n",
       "\n",
       "       critical_staffing_shortage_anticipated_within_week_no  \\\n",
       "0                                                      0       \n",
       "1                                                      0       \n",
       "2                                                      0       \n",
       "3                                                      0       \n",
       "4                                                      0       \n",
       "...                                                  ...       \n",
       "47418                                                 52       \n",
       "47419                                                148       \n",
       "47420                                                  7       \n",
       "47421                                                 60       \n",
       "47422                                                 71       \n",
       "\n",
       "       critical_staffing_shortage_anticipated_within_week_not_reported  \\\n",
       "0                                                      1                 \n",
       "1                                                      3                 \n",
       "2                                                      1                 \n",
       "3                                                      1                 \n",
       "4                                                      1                 \n",
       "...                                                  ...                 \n",
       "47418                                                 10                 \n",
       "47419                                                 25                 \n",
       "47420                                                  2                 \n",
       "47421                                                  1                 \n",
       "47422                                                 26                 \n",
       "\n",
       "       hospital_onset_covid  hospital_onset_covid_coverage  ...  \\\n",
       "0                       0.0                              1  ...   \n",
       "1                       0.0                              1  ...   \n",
       "2                       0.0                              1  ...   \n",
       "3                       0.0                              1  ...   \n",
       "4                       0.0                              1  ...   \n",
       "...                     ...                            ...  ...   \n",
       "47418                  14.0                             61  ...   \n",
       "47419                  21.0                            182  ...   \n",
       "47420                   2.0                             13  ...   \n",
       "47421                  29.0                             82  ...   \n",
       "47422                  10.0                             99  ...   \n",
       "\n",
       "       previous_day_admission_pediatric_covid_confirmed_5_11  \\\n",
       "0                                                    NaN       \n",
       "1                                                    NaN       \n",
       "2                                                    NaN       \n",
       "3                                                    NaN       \n",
       "4                                                    NaN       \n",
       "...                                                  ...       \n",
       "47418                                                0.0       \n",
       "47419                                                2.0       \n",
       "47420                                                0.0       \n",
       "47421                                                1.0       \n",
       "47422                                                0.0       \n",
       "\n",
       "       previous_day_admission_pediatric_covid_confirmed_5_11_coverage  \\\n",
       "0                                                      0                \n",
       "1                                                      0                \n",
       "2                                                      0                \n",
       "3                                                      0                \n",
       "4                                                      0                \n",
       "...                                                  ...                \n",
       "47418                                                 42                \n",
       "47419                                                162                \n",
       "47420                                                 13                \n",
       "47421                                                 82                \n",
       "47422                                                 91                \n",
       "\n",
       "       previous_day_admission_pediatric_covid_confirmed_unknown  \\\n",
       "0                                                    NaN          \n",
       "1                                                    NaN          \n",
       "2                                                    NaN          \n",
       "3                                                    NaN          \n",
       "4                                                    NaN          \n",
       "...                                                  ...          \n",
       "47418                                                0.0          \n",
       "47419                                                0.0          \n",
       "47420                                                0.0          \n",
       "47421                                                0.0          \n",
       "47422                                                0.0          \n",
       "\n",
       "       previous_day_admission_pediatric_covid_confirmed_unknown_coverage  \\\n",
       "0                                                      0                   \n",
       "1                                                      0                   \n",
       "2                                                      0                   \n",
       "3                                                      0                   \n",
       "4                                                      0                   \n",
       "...                                                  ...                   \n",
       "47418                                                 61                   \n",
       "47419                                                182                   \n",
       "47420                                                 13                   \n",
       "47421                                                 82                   \n",
       "47422                                                 99                   \n",
       "\n",
       "       staffed_icu_pediatric_patients_confirmed_covid  \\\n",
       "0                                                 NaN   \n",
       "1                                                 NaN   \n",
       "2                                                 NaN   \n",
       "3                                                 NaN   \n",
       "4                                                 NaN   \n",
       "...                                               ...   \n",
       "47418                                             0.0   \n",
       "47419                                             4.0   \n",
       "47420                                             0.0   \n",
       "47421                                             6.0   \n",
       "47422                                            11.0   \n",
       "\n",
       "       staffed_icu_pediatric_patients_confirmed_covid_coverage  \\\n",
       "0                                                      0         \n",
       "1                                                      0         \n",
       "2                                                      0         \n",
       "3                                                      0         \n",
       "4                                                      0         \n",
       "...                                                  ...         \n",
       "47418                                                 61         \n",
       "47419                                                182         \n",
       "47420                                                 13         \n",
       "47421                                                 82         \n",
       "47422                                                 99         \n",
       "\n",
       "       staffed_pediatric_icu_bed_occupancy  \\\n",
       "0                                      NaN   \n",
       "1                                      NaN   \n",
       "2                                      NaN   \n",
       "3                                      NaN   \n",
       "4                                      NaN   \n",
       "...                                    ...   \n",
       "47418                                  7.0   \n",
       "47419                                358.0   \n",
       "47420                                 79.0   \n",
       "47421                                151.0   \n",
       "47422                                163.0   \n",
       "\n",
       "       staffed_pediatric_icu_bed_occupancy_coverage  \\\n",
       "0                                                 0   \n",
       "1                                                 0   \n",
       "2                                                 0   \n",
       "3                                                 0   \n",
       "4                                                 0   \n",
       "...                                             ...   \n",
       "47418                                            61   \n",
       "47419                                           182   \n",
       "47420                                            13   \n",
       "47421                                            82   \n",
       "47422                                            99   \n",
       "\n",
       "       total_staffed_pediatric_icu_beds  \\\n",
       "0                                   NaN   \n",
       "1                                   NaN   \n",
       "2                                   NaN   \n",
       "3                                   NaN   \n",
       "4                                   NaN   \n",
       "...                                 ...   \n",
       "47418                              23.0   \n",
       "47419                             589.0   \n",
       "47420                              91.0   \n",
       "47421                             166.0   \n",
       "47422                             241.0   \n",
       "\n",
       "       total_staffed_pediatric_icu_beds_coverage  \n",
       "0                                              0  \n",
       "1                                              0  \n",
       "2                                              0  \n",
       "3                                              0  \n",
       "4                                              0  \n",
       "...                                          ...  \n",
       "47418                                         61  \n",
       "47419                                        182  \n",
       "47420                                         13  \n",
       "47421                                         82  \n",
       "47422                                         99  \n",
       "\n",
       "[47423 rows x 135 columns]"
      ]
     },
     "execution_count": 54,
     "metadata": {},
     "output_type": "execute_result"
    }
   ],
   "source": [
    "headers = CaseInsensitiveDict()\n",
    "headers[\"Accept\"] = \"application/json\"\n",
    "headers['X-App-Token'] = 'IMOet43b8hwoSHaZuEUxhiEId'\n",
    "\n",
    "\n",
    "url = 'https://healthdata.gov/resource/g62h-syeh.csv?$limit=48000'\n",
    "\n",
    "data = requests.get(url, headers=headers)\n",
    "data_df = pd.read_csv(io.StringIO(data.text), parse_dates=['date'])\n",
    "data_df.sort_values('date', inplace=True)\n",
    "data_df.reset_index(inplace=True, drop=True)\n",
    "data_df = data_df[data_df['date'] <= '2022-08-01']\n",
    "data_df"
   ]
  },
  {
   "cell_type": "markdown",
   "metadata": {},
   "source": [
    "## Resolución preguntas"
   ]
  },
  {
   "cell_type": "markdown",
   "metadata": {},
   "source": [
    "### 1. ¿Cuáles fueron los 5 Estados con mayor ocupación hospitalaria por COVID? Criterio de ocupación por cama común. Considere la cantidad de camas ocupadas con pacientes confirmados y tome como referencia los 6 primeros meses del 2020 - recuerde incluir la cifra de infectados en esos meses (acumulativo). ¿Influye el rango etario en este comportamiento?"
   ]
  },
  {
   "cell_type": "markdown",
   "metadata": {},
   "source": [
    "Se usó la documentación con el fin de identificar las columnas que aportan la información necesaria para resolver esta pregunta. Para calcular el número de casos positivos se sumó el total de pacientes adultos confirmados como positivos, los adultos internados en uci, los menores de edad confirmados como positivos y los menores de edad internados en uci"
   ]
  },
  {
   "cell_type": "code",
   "execution_count": 55,
   "metadata": {},
   "outputs": [
    {
     "data": {
      "text/html": [
       "<div>\n",
       "<style scoped>\n",
       "    .dataframe tbody tr th:only-of-type {\n",
       "        vertical-align: middle;\n",
       "    }\n",
       "\n",
       "    .dataframe tbody tr th {\n",
       "        vertical-align: top;\n",
       "    }\n",
       "\n",
       "    .dataframe thead th {\n",
       "        text-align: right;\n",
       "    }\n",
       "</style>\n",
       "<table border=\"1\" class=\"dataframe\">\n",
       "  <thead>\n",
       "    <tr style=\"text-align: right;\">\n",
       "      <th></th>\n",
       "      <th>state</th>\n",
       "      <th>date</th>\n",
       "      <th>beds_covid</th>\n",
       "      <th>adults_hospt</th>\n",
       "      <th>adults_uci</th>\n",
       "      <th>children_hospt</th>\n",
       "      <th>children_uci</th>\n",
       "    </tr>\n",
       "  </thead>\n",
       "  <tbody>\n",
       "    <tr>\n",
       "      <th>0</th>\n",
       "      <td>MT</td>\n",
       "      <td>2020-01-01</td>\n",
       "      <td>0.0</td>\n",
       "      <td>NaN</td>\n",
       "      <td>NaN</td>\n",
       "      <td>NaN</td>\n",
       "      <td>NaN</td>\n",
       "    </tr>\n",
       "    <tr>\n",
       "      <th>1</th>\n",
       "      <td>TX</td>\n",
       "      <td>2020-01-01</td>\n",
       "      <td>0.0</td>\n",
       "      <td>NaN</td>\n",
       "      <td>NaN</td>\n",
       "      <td>NaN</td>\n",
       "      <td>NaN</td>\n",
       "    </tr>\n",
       "    <tr>\n",
       "      <th>2</th>\n",
       "      <td>PR</td>\n",
       "      <td>2020-01-01</td>\n",
       "      <td>0.0</td>\n",
       "      <td>NaN</td>\n",
       "      <td>NaN</td>\n",
       "      <td>NaN</td>\n",
       "      <td>NaN</td>\n",
       "    </tr>\n",
       "    <tr>\n",
       "      <th>3</th>\n",
       "      <td>HI</td>\n",
       "      <td>2020-01-01</td>\n",
       "      <td>0.0</td>\n",
       "      <td>NaN</td>\n",
       "      <td>NaN</td>\n",
       "      <td>NaN</td>\n",
       "      <td>NaN</td>\n",
       "    </tr>\n",
       "    <tr>\n",
       "      <th>4</th>\n",
       "      <td>IN</td>\n",
       "      <td>2020-01-01</td>\n",
       "      <td>0.0</td>\n",
       "      <td>NaN</td>\n",
       "      <td>NaN</td>\n",
       "      <td>NaN</td>\n",
       "      <td>NaN</td>\n",
       "    </tr>\n",
       "  </tbody>\n",
       "</table>\n",
       "</div>"
      ],
      "text/plain": [
       "  state       date  beds_covid  adults_hospt  adults_uci  children_hospt  \\\n",
       "0    MT 2020-01-01         0.0           NaN         NaN             NaN   \n",
       "1    TX 2020-01-01         0.0           NaN         NaN             NaN   \n",
       "2    PR 2020-01-01         0.0           NaN         NaN             NaN   \n",
       "3    HI 2020-01-01         0.0           NaN         NaN             NaN   \n",
       "4    IN 2020-01-01         0.0           NaN         NaN             NaN   \n",
       "\n",
       "   children_uci  \n",
       "0           NaN  \n",
       "1           NaN  \n",
       "2           NaN  \n",
       "3           NaN  \n",
       "4           NaN  "
      ]
     },
     "execution_count": 55,
     "metadata": {},
     "output_type": "execute_result"
    }
   ],
   "source": [
    "df = data_df.copy()\n",
    "df = df[['state', 'date', 'inpatient_beds_used_covid',\n",
    "'total_adult_patients_hospitalized_confirmed_covid',\n",
    "'staffed_icu_adult_patients_confirmed_covid',\n",
    "'total_pediatric_patients_hospitalized_confirmed_covid',\n",
    "'staffed_icu_pediatric_patients_confirmed_covid']]\n",
    "\n",
    "df.rename(columns={\n",
    "    'inpatient_beds_used_covid': 'beds_covid',\n",
    "    'total_adult_patients_hospitalized_confirmed_covid': 'adults_hospt',\n",
    "    'staffed_icu_adult_patients_confirmed_covid': 'adults_uci',\n",
    "    'total_pediatric_patients_hospitalized_confirmed_covid': 'children_hospt',\n",
    "    'staffed_icu_pediatric_patients_confirmed_covid': 'children_uci'\n",
    "}, inplace=True)\n",
    "\n",
    "df.head()"
   ]
  },
  {
   "cell_type": "code",
   "execution_count": 56,
   "metadata": {},
   "outputs": [
    {
     "name": "stdout",
     "output_type": "stream",
     "text": [
      "<class 'pandas.core.frame.DataFrame'>\n",
      "Int64Index: 47423 entries, 0 to 47422\n",
      "Data columns (total 7 columns):\n",
      " #   Column          Non-Null Count  Dtype         \n",
      "---  ------          --------------  -----         \n",
      " 0   state           47423 non-null  object        \n",
      " 1   date            47423 non-null  datetime64[ns]\n",
      " 2   beds_covid      47339 non-null  float64       \n",
      " 3   adults_hospt    40902 non-null  float64       \n",
      " 4   adults_uci      40457 non-null  float64       \n",
      " 5   children_hospt  40224 non-null  float64       \n",
      " 6   children_uci    17274 non-null  float64       \n",
      "dtypes: datetime64[ns](1), float64(5), object(1)\n",
      "memory usage: 2.9+ MB\n"
     ]
    }
   ],
   "source": [
    "df.info()"
   ]
  },
  {
   "cell_type": "code",
   "execution_count": 57,
   "metadata": {},
   "outputs": [
    {
     "data": {
      "text/html": [
       "<div>\n",
       "<style scoped>\n",
       "    .dataframe tbody tr th:only-of-type {\n",
       "        vertical-align: middle;\n",
       "    }\n",
       "\n",
       "    .dataframe tbody tr th {\n",
       "        vertical-align: top;\n",
       "    }\n",
       "\n",
       "    .dataframe thead th {\n",
       "        text-align: right;\n",
       "    }\n",
       "</style>\n",
       "<table border=\"1\" class=\"dataframe\">\n",
       "  <thead>\n",
       "    <tr style=\"text-align: right;\">\n",
       "      <th></th>\n",
       "      <th>state</th>\n",
       "      <th>date</th>\n",
       "      <th>beds_covid</th>\n",
       "      <th>adults_hospt</th>\n",
       "      <th>adults_uci</th>\n",
       "      <th>children_hospt</th>\n",
       "      <th>children_uci</th>\n",
       "      <th>total_cases</th>\n",
       "    </tr>\n",
       "  </thead>\n",
       "  <tbody>\n",
       "    <tr>\n",
       "      <th>0</th>\n",
       "      <td>MT</td>\n",
       "      <td>2020-01-01</td>\n",
       "      <td>0.0</td>\n",
       "      <td>0.0</td>\n",
       "      <td>0.0</td>\n",
       "      <td>0.0</td>\n",
       "      <td>0.0</td>\n",
       "      <td>0.0</td>\n",
       "    </tr>\n",
       "    <tr>\n",
       "      <th>1</th>\n",
       "      <td>TX</td>\n",
       "      <td>2020-01-01</td>\n",
       "      <td>0.0</td>\n",
       "      <td>0.0</td>\n",
       "      <td>0.0</td>\n",
       "      <td>0.0</td>\n",
       "      <td>0.0</td>\n",
       "      <td>0.0</td>\n",
       "    </tr>\n",
       "    <tr>\n",
       "      <th>2</th>\n",
       "      <td>PR</td>\n",
       "      <td>2020-01-01</td>\n",
       "      <td>0.0</td>\n",
       "      <td>0.0</td>\n",
       "      <td>0.0</td>\n",
       "      <td>0.0</td>\n",
       "      <td>0.0</td>\n",
       "      <td>0.0</td>\n",
       "    </tr>\n",
       "    <tr>\n",
       "      <th>3</th>\n",
       "      <td>HI</td>\n",
       "      <td>2020-01-01</td>\n",
       "      <td>0.0</td>\n",
       "      <td>0.0</td>\n",
       "      <td>0.0</td>\n",
       "      <td>0.0</td>\n",
       "      <td>0.0</td>\n",
       "      <td>0.0</td>\n",
       "    </tr>\n",
       "    <tr>\n",
       "      <th>4</th>\n",
       "      <td>IN</td>\n",
       "      <td>2020-01-01</td>\n",
       "      <td>0.0</td>\n",
       "      <td>0.0</td>\n",
       "      <td>0.0</td>\n",
       "      <td>0.0</td>\n",
       "      <td>0.0</td>\n",
       "      <td>0.0</td>\n",
       "    </tr>\n",
       "  </tbody>\n",
       "</table>\n",
       "</div>"
      ],
      "text/plain": [
       "  state       date  beds_covid  adults_hospt  adults_uci  children_hospt  \\\n",
       "0    MT 2020-01-01         0.0           0.0         0.0             0.0   \n",
       "1    TX 2020-01-01         0.0           0.0         0.0             0.0   \n",
       "2    PR 2020-01-01         0.0           0.0         0.0             0.0   \n",
       "3    HI 2020-01-01         0.0           0.0         0.0             0.0   \n",
       "4    IN 2020-01-01         0.0           0.0         0.0             0.0   \n",
       "\n",
       "   children_uci  total_cases  \n",
       "0           0.0          0.0  \n",
       "1           0.0          0.0  \n",
       "2           0.0          0.0  \n",
       "3           0.0          0.0  \n",
       "4           0.0          0.0  "
      ]
     },
     "execution_count": 57,
     "metadata": {},
     "output_type": "execute_result"
    }
   ],
   "source": [
    "df.fillna(0, inplace=True)\n",
    "df['total_cases'] = df.iloc[:, 3:7].sum(axis=1)\n",
    "df.head()"
   ]
  },
  {
   "cell_type": "code",
   "execution_count": 58,
   "metadata": {},
   "outputs": [
    {
     "data": {
      "text/plain": [
       "state             0\n",
       "date              0\n",
       "beds_covid        0\n",
       "adults_hospt      0\n",
       "adults_uci        0\n",
       "children_hospt    0\n",
       "children_uci      0\n",
       "total_cases       0\n",
       "dtype: int64"
      ]
     },
     "execution_count": 58,
     "metadata": {},
     "output_type": "execute_result"
    }
   ],
   "source": [
    "df.isna().sum()"
   ]
  },
  {
   "cell_type": "code",
   "execution_count": 59,
   "metadata": {},
   "outputs": [
    {
     "data": {
      "text/html": [
       "<div>\n",
       "<style scoped>\n",
       "    .dataframe tbody tr th:only-of-type {\n",
       "        vertical-align: middle;\n",
       "    }\n",
       "\n",
       "    .dataframe tbody tr th {\n",
       "        vertical-align: top;\n",
       "    }\n",
       "\n",
       "    .dataframe thead th {\n",
       "        text-align: right;\n",
       "    }\n",
       "</style>\n",
       "<table border=\"1\" class=\"dataframe\">\n",
       "  <thead>\n",
       "    <tr style=\"text-align: right;\">\n",
       "      <th></th>\n",
       "      <th>beds_covid</th>\n",
       "      <th>total_cases</th>\n",
       "    </tr>\n",
       "    <tr>\n",
       "      <th>state</th>\n",
       "      <th></th>\n",
       "      <th></th>\n",
       "    </tr>\n",
       "  </thead>\n",
       "  <tbody>\n",
       "    <tr>\n",
       "      <th>NY</th>\n",
       "      <td>686528.0</td>\n",
       "      <td>87.0</td>\n",
       "    </tr>\n",
       "    <tr>\n",
       "      <th>CA</th>\n",
       "      <td>434721.0</td>\n",
       "      <td>36134.0</td>\n",
       "    </tr>\n",
       "    <tr>\n",
       "      <th>FL</th>\n",
       "      <td>322227.0</td>\n",
       "      <td>0.0</td>\n",
       "    </tr>\n",
       "    <tr>\n",
       "      <th>TX</th>\n",
       "      <td>246237.0</td>\n",
       "      <td>0.0</td>\n",
       "    </tr>\n",
       "    <tr>\n",
       "      <th>IL</th>\n",
       "      <td>214010.0</td>\n",
       "      <td>0.0</td>\n",
       "    </tr>\n",
       "  </tbody>\n",
       "</table>\n",
       "</div>"
      ],
      "text/plain": [
       "       beds_covid  total_cases\n",
       "state                         \n",
       "NY       686528.0         87.0\n",
       "CA       434721.0      36134.0\n",
       "FL       322227.0          0.0\n",
       "TX       246237.0          0.0\n",
       "IL       214010.0          0.0"
      ]
     },
     "execution_count": 59,
     "metadata": {},
     "output_type": "execute_result"
    }
   ],
   "source": [
    "df = df[df['date'] < '2020-07-01']\n",
    "df['month_string'] = [d.strftime('%b') for d in df.date]\n",
    "df_group = df.groupby('state')[['beds_covid','total_cases']].sum()\n",
    "df_group.sort_values('beds_covid', ascending=False, inplace=True)\n",
    "top_5 = df_group.head(5)\n",
    "top_5"
   ]
  },
  {
   "cell_type": "code",
   "execution_count": 60,
   "metadata": {},
   "outputs": [
    {
     "data": {
      "text/plain": [
       "Text(0, 0.5, 'Número Camas')"
      ]
     },
     "execution_count": 60,
     "metadata": {},
     "output_type": "execute_result"
    },
    {
     "data": {
      "image/png": "[encoded data removed]",
      "text/plain": [
       "<Figure size 432x288 with 1 Axes>"
      ]
     },
     "metadata": {
      "needs_background": "light"
     },
     "output_type": "display_data"
    }
   ],
   "source": [
    "sns.barplot(x=top_5.index, y='beds_covid', data=top_5)\n",
    "plt.xlabel('Estados')\n",
    "plt.ylabel('Número Camas')"
   ]
  },
  {
   "cell_type": "code",
   "execution_count": 61,
   "metadata": {},
   "outputs": [
    {
     "data": {
      "text/html": [
       "<div>\n",
       "<style scoped>\n",
       "    .dataframe tbody tr th:only-of-type {\n",
       "        vertical-align: middle;\n",
       "    }\n",
       "\n",
       "    .dataframe tbody tr th {\n",
       "        vertical-align: top;\n",
       "    }\n",
       "\n",
       "    .dataframe thead th {\n",
       "        text-align: right;\n",
       "    }\n",
       "</style>\n",
       "<table border=\"1\" class=\"dataframe\">\n",
       "  <thead>\n",
       "    <tr style=\"text-align: right;\">\n",
       "      <th></th>\n",
       "      <th>beds_covid</th>\n",
       "      <th>total_cases</th>\n",
       "      <th>states_full</th>\n",
       "    </tr>\n",
       "    <tr>\n",
       "      <th>state</th>\n",
       "      <th></th>\n",
       "      <th></th>\n",
       "      <th></th>\n",
       "    </tr>\n",
       "  </thead>\n",
       "  <tbody>\n",
       "    <tr>\n",
       "      <th>NY</th>\n",
       "      <td>686528.0</td>\n",
       "      <td>87.0</td>\n",
       "      <td>Nueva York</td>\n",
       "    </tr>\n",
       "    <tr>\n",
       "      <th>CA</th>\n",
       "      <td>434721.0</td>\n",
       "      <td>36134.0</td>\n",
       "      <td>California</td>\n",
       "    </tr>\n",
       "    <tr>\n",
       "      <th>FL</th>\n",
       "      <td>322227.0</td>\n",
       "      <td>0.0</td>\n",
       "      <td>Florida</td>\n",
       "    </tr>\n",
       "    <tr>\n",
       "      <th>TX</th>\n",
       "      <td>246237.0</td>\n",
       "      <td>0.0</td>\n",
       "      <td>Texas</td>\n",
       "    </tr>\n",
       "    <tr>\n",
       "      <th>IL</th>\n",
       "      <td>214010.0</td>\n",
       "      <td>0.0</td>\n",
       "      <td>Illinois</td>\n",
       "    </tr>\n",
       "  </tbody>\n",
       "</table>\n",
       "</div>"
      ],
      "text/plain": [
       "       beds_covid  total_cases states_full\n",
       "state                                     \n",
       "NY       686528.0         87.0  Nueva York\n",
       "CA       434721.0      36134.0  California\n",
       "FL       322227.0          0.0     Florida\n",
       "TX       246237.0          0.0       Texas\n",
       "IL       214010.0          0.0    Illinois"
      ]
     },
     "execution_count": 61,
     "metadata": {},
     "output_type": "execute_result"
    }
   ],
   "source": [
    "df = data_df.copy()\n",
    "df = df[['state', 'date', 'inpatient_beds_used_covid',\n",
    "'total_adult_patients_hospitalized_confirmed_covid',\n",
    "'staffed_icu_adult_patients_confirmed_covid',\n",
    "'total_pediatric_patients_hospitalized_confirmed_covid',\n",
    "'staffed_icu_pediatric_patients_confirmed_covid']]\n",
    "\n",
    "df.rename(columns={\n",
    "    'inpatient_beds_used_covid': 'beds_covid',\n",
    "    'total_adult_patients_hospitalized_confirmed_covid': 'adults_hospt',\n",
    "    'staffed_icu_adult_patients_confirmed_covid': 'adults_uci',\n",
    "    'total_pediatric_patients_hospitalized_confirmed_covid': 'children_hospt',\n",
    "    'staffed_icu_pediatric_patients_confirmed_covid': 'children_uci'\n",
    "}, inplace=True)\n",
    "\n",
    "df.fillna(0, inplace=True)\n",
    "df['total_cases'] = df.iloc[:, 3:7].sum(axis=1)\n",
    "\n",
    "df = df[df['date'] < '2020-07-01']\n",
    "df['month_string'] = [d.strftime('%b') for d in df.date]\n",
    "df_group = df.groupby('state')[['beds_covid','total_cases']].sum()\n",
    "df_group.sort_values('beds_covid', ascending=False, inplace=True)\n",
    "top_5 = df_group.head(5).copy()\n",
    "top_5['beds_covid'] = round(top_5['beds_covid'], 0)\n",
    "top_5['states_full'] = ['Nueva York', 'California', 'Florida', 'Texas', 'Illinois']\n",
    "\n",
    "top_5"
   ]
  },
  {
   "cell_type": "code",
   "execution_count": 62,
   "metadata": {},
   "outputs": [
    {
     "data": {
      "text/plain": [
       "<matplotlib.patches.Rectangle at 0x2906730a490>"
      ]
     },
     "execution_count": 62,
     "metadata": {},
     "output_type": "execute_result"
    },
    {
     "data": {
      "image/png": "[encoded data removed]",
      "text/plain": [
       "<Figure size 864x504 with 1 Axes>"
      ]
     },
     "metadata": {
      "needs_background": "light"
     },
     "output_type": "display_data"
    }
   ],
   "source": [
    "fig,ax = plt.subplots(figsize=(12, 7))\n",
    "sns.barplot(x='beds_covid', y='states_full', data=top_5)\n",
    "\n",
    "ax.set_axisbelow(True)\n",
    "ax.grid(axis = \"x\", color=\"#A8BAC4\", lw=1.2)\n",
    "ax.spines[\"right\"].set_visible(False)\n",
    "ax.spines[\"top\"].set_visible(False)\n",
    "ax.spines[\"bottom\"].set_visible(False)\n",
    "ax.spines[\"left\"].set_lw(1.5)\n",
    "ax.xaxis.set_tick_params(labelbottom=False, labeltop=True, length=0)\n",
    "\n",
    "plt.ylabel('')\n",
    "plt.xlabel('')\n",
    "\n",
    "fig.subplots_adjust(left=0.005, right=1, top=0.8, bottom=0.1)\n",
    "fig.text(\n",
    "    0, 0.925, \"Número de camas ocupadas\", \n",
    "    fontsize=16, fontweight=\"bold\"\n",
    ")\n",
    "fig.text(\n",
    "    0, 0.875, \"Periodo 2020-01-01 a 2020-06-30\", \n",
    "    fontsize=14\n",
    ")\n",
    "source = \"Sources: U.S. Department of Health & Human Services - HealthData.gov\"\n",
    "fig.text(\n",
    "    0, 0.06, source, color=\"#a2a2a2\", \n",
    "    fontsize=14, fontfamily=\"Econ Sans Cnd\"\n",
    ")\n",
    "fig.add_artist(lines.Line2D([0, 1], [1, 1], lw=3, color='red', solid_capstyle=\"butt\"))\n",
    "fig.add_artist(patches.Rectangle((0, 0.975), 0.05, 0.025, color='red'))"
   ]
  },
  {
   "cell_type": "markdown",
   "metadata": {},
   "source": [
    "Los 5 estados con mayor ocupación de camas son New York, California, Florida, Texas e Illinois. No se usó la columna de rango etario, ya que mostraba información incompleta. Analizando los resultados encontrados, se observa grandes cantidades de usos de camas para, relativamente, pocos casos. Esto puede ser a que la información no está bien cargada, o las columnas usadas para realizar el cálculo del número de casos no aportaban la información correcta. Aun así se puede realizar un análisis, los estados con más camas ocupadas son cinco de los seis estados más poblados de Estados Unidos, también son estados que sufrieron brotes muy grandes al inicio de la pandemia, llegando a tener incluso problemas en la atención de pacientes con COVID-19"
   ]
  },
  {
   "cell_type": "markdown",
   "metadata": {},
   "source": [
    "## 2. Analice la ocupación de camas (Común) por COVID en el Estado de Nueva York durante la cuarentena establecida e indique:\n",
    "\n",
    "* Intervalos de crecimiento y decrecimiento\n",
    "* Puntos críticos (mínimos y máximos)\n",
    "\n",
    "El periodo a analizar se toma a partir de la declaratoria del gobernador del estado de Nueva York Andrew Cuomo de iniciar el programa \"NYS on Pause\" el 20 de Marzo de 2020 y que se extendió hasta el 8 de Junio de 2020"
   ]
  },
  {
   "cell_type": "code",
   "execution_count": 63,
   "metadata": {},
   "outputs": [
    {
     "data": {
      "text/html": [
       "<div>\n",
       "<style scoped>\n",
       "    .dataframe tbody tr th:only-of-type {\n",
       "        vertical-align: middle;\n",
       "    }\n",
       "\n",
       "    .dataframe tbody tr th {\n",
       "        vertical-align: top;\n",
       "    }\n",
       "\n",
       "    .dataframe thead th {\n",
       "        text-align: right;\n",
       "    }\n",
       "</style>\n",
       "<table border=\"1\" class=\"dataframe\">\n",
       "  <thead>\n",
       "    <tr style=\"text-align: right;\">\n",
       "      <th></th>\n",
       "      <th>state</th>\n",
       "      <th>date</th>\n",
       "      <th>critical_staffing_shortage_today_yes</th>\n",
       "      <th>critical_staffing_shortage_today_no</th>\n",
       "      <th>critical_staffing_shortage_today_not_reported</th>\n",
       "      <th>critical_staffing_shortage_anticipated_within_week_yes</th>\n",
       "      <th>critical_staffing_shortage_anticipated_within_week_no</th>\n",
       "      <th>critical_staffing_shortage_anticipated_within_week_not_reported</th>\n",
       "      <th>hospital_onset_covid</th>\n",
       "      <th>hospital_onset_covid_coverage</th>\n",
       "      <th>...</th>\n",
       "      <th>previous_day_admission_pediatric_covid_confirmed_5_11</th>\n",
       "      <th>previous_day_admission_pediatric_covid_confirmed_5_11_coverage</th>\n",
       "      <th>previous_day_admission_pediatric_covid_confirmed_unknown</th>\n",
       "      <th>previous_day_admission_pediatric_covid_confirmed_unknown_coverage</th>\n",
       "      <th>staffed_icu_pediatric_patients_confirmed_covid</th>\n",
       "      <th>staffed_icu_pediatric_patients_confirmed_covid_coverage</th>\n",
       "      <th>staffed_pediatric_icu_bed_occupancy</th>\n",
       "      <th>staffed_pediatric_icu_bed_occupancy_coverage</th>\n",
       "      <th>total_staffed_pediatric_icu_beds</th>\n",
       "      <th>total_staffed_pediatric_icu_beds_coverage</th>\n",
       "    </tr>\n",
       "  </thead>\n",
       "  <tbody>\n",
       "    <tr>\n",
       "      <th>1323</th>\n",
       "      <td>NY</td>\n",
       "      <td>2020-03-20</td>\n",
       "      <td>0</td>\n",
       "      <td>0</td>\n",
       "      <td>4</td>\n",
       "      <td>0</td>\n",
       "      <td>0</td>\n",
       "      <td>4</td>\n",
       "      <td>0.0</td>\n",
       "      <td>3</td>\n",
       "      <td>...</td>\n",
       "      <td>NaN</td>\n",
       "      <td>0</td>\n",
       "      <td>NaN</td>\n",
       "      <td>0</td>\n",
       "      <td>NaN</td>\n",
       "      <td>0</td>\n",
       "      <td>NaN</td>\n",
       "      <td>0</td>\n",
       "      <td>NaN</td>\n",
       "      <td>0</td>\n",
       "    </tr>\n",
       "    <tr>\n",
       "      <th>1364</th>\n",
       "      <td>NY</td>\n",
       "      <td>2020-03-21</td>\n",
       "      <td>0</td>\n",
       "      <td>0</td>\n",
       "      <td>4</td>\n",
       "      <td>0</td>\n",
       "      <td>0</td>\n",
       "      <td>4</td>\n",
       "      <td>0.0</td>\n",
       "      <td>3</td>\n",
       "      <td>...</td>\n",
       "      <td>NaN</td>\n",
       "      <td>0</td>\n",
       "      <td>NaN</td>\n",
       "      <td>0</td>\n",
       "      <td>NaN</td>\n",
       "      <td>0</td>\n",
       "      <td>NaN</td>\n",
       "      <td>0</td>\n",
       "      <td>NaN</td>\n",
       "      <td>0</td>\n",
       "    </tr>\n",
       "    <tr>\n",
       "      <th>1411</th>\n",
       "      <td>NY</td>\n",
       "      <td>2020-03-22</td>\n",
       "      <td>0</td>\n",
       "      <td>0</td>\n",
       "      <td>4</td>\n",
       "      <td>0</td>\n",
       "      <td>0</td>\n",
       "      <td>4</td>\n",
       "      <td>0.0</td>\n",
       "      <td>3</td>\n",
       "      <td>...</td>\n",
       "      <td>NaN</td>\n",
       "      <td>0</td>\n",
       "      <td>NaN</td>\n",
       "      <td>0</td>\n",
       "      <td>NaN</td>\n",
       "      <td>0</td>\n",
       "      <td>NaN</td>\n",
       "      <td>0</td>\n",
       "      <td>NaN</td>\n",
       "      <td>0</td>\n",
       "    </tr>\n",
       "    <tr>\n",
       "      <th>1446</th>\n",
       "      <td>NY</td>\n",
       "      <td>2020-03-23</td>\n",
       "      <td>0</td>\n",
       "      <td>0</td>\n",
       "      <td>4</td>\n",
       "      <td>0</td>\n",
       "      <td>0</td>\n",
       "      <td>4</td>\n",
       "      <td>0.0</td>\n",
       "      <td>3</td>\n",
       "      <td>...</td>\n",
       "      <td>NaN</td>\n",
       "      <td>0</td>\n",
       "      <td>NaN</td>\n",
       "      <td>0</td>\n",
       "      <td>NaN</td>\n",
       "      <td>0</td>\n",
       "      <td>NaN</td>\n",
       "      <td>0</td>\n",
       "      <td>NaN</td>\n",
       "      <td>0</td>\n",
       "    </tr>\n",
       "    <tr>\n",
       "      <th>1505</th>\n",
       "      <td>NY</td>\n",
       "      <td>2020-03-24</td>\n",
       "      <td>0</td>\n",
       "      <td>0</td>\n",
       "      <td>4</td>\n",
       "      <td>0</td>\n",
       "      <td>0</td>\n",
       "      <td>4</td>\n",
       "      <td>0.0</td>\n",
       "      <td>3</td>\n",
       "      <td>...</td>\n",
       "      <td>NaN</td>\n",
       "      <td>0</td>\n",
       "      <td>NaN</td>\n",
       "      <td>0</td>\n",
       "      <td>NaN</td>\n",
       "      <td>0</td>\n",
       "      <td>NaN</td>\n",
       "      <td>0</td>\n",
       "      <td>NaN</td>\n",
       "      <td>0</td>\n",
       "    </tr>\n",
       "    <tr>\n",
       "      <th>...</th>\n",
       "      <td>...</td>\n",
       "      <td>...</td>\n",
       "      <td>...</td>\n",
       "      <td>...</td>\n",
       "      <td>...</td>\n",
       "      <td>...</td>\n",
       "      <td>...</td>\n",
       "      <td>...</td>\n",
       "      <td>...</td>\n",
       "      <td>...</td>\n",
       "      <td>...</td>\n",
       "      <td>...</td>\n",
       "      <td>...</td>\n",
       "      <td>...</td>\n",
       "      <td>...</td>\n",
       "      <td>...</td>\n",
       "      <td>...</td>\n",
       "      <td>...</td>\n",
       "      <td>...</td>\n",
       "      <td>...</td>\n",
       "      <td>...</td>\n",
       "    </tr>\n",
       "    <tr>\n",
       "      <th>9732</th>\n",
       "      <td>NY</td>\n",
       "      <td>2020-08-27</td>\n",
       "      <td>8</td>\n",
       "      <td>113</td>\n",
       "      <td>46</td>\n",
       "      <td>7</td>\n",
       "      <td>113</td>\n",
       "      <td>47</td>\n",
       "      <td>23.0</td>\n",
       "      <td>131</td>\n",
       "      <td>...</td>\n",
       "      <td>NaN</td>\n",
       "      <td>0</td>\n",
       "      <td>NaN</td>\n",
       "      <td>0</td>\n",
       "      <td>3.0</td>\n",
       "      <td>121</td>\n",
       "      <td>703.0</td>\n",
       "      <td>118</td>\n",
       "      <td>898.0</td>\n",
       "      <td>112</td>\n",
       "    </tr>\n",
       "    <tr>\n",
       "      <th>9786</th>\n",
       "      <td>NY</td>\n",
       "      <td>2020-08-28</td>\n",
       "      <td>8</td>\n",
       "      <td>115</td>\n",
       "      <td>45</td>\n",
       "      <td>7</td>\n",
       "      <td>115</td>\n",
       "      <td>46</td>\n",
       "      <td>17.0</td>\n",
       "      <td>132</td>\n",
       "      <td>...</td>\n",
       "      <td>NaN</td>\n",
       "      <td>0</td>\n",
       "      <td>NaN</td>\n",
       "      <td>0</td>\n",
       "      <td>3.0</td>\n",
       "      <td>122</td>\n",
       "      <td>721.0</td>\n",
       "      <td>118</td>\n",
       "      <td>900.0</td>\n",
       "      <td>114</td>\n",
       "    </tr>\n",
       "    <tr>\n",
       "      <th>9833</th>\n",
       "      <td>NY</td>\n",
       "      <td>2020-08-29</td>\n",
       "      <td>7</td>\n",
       "      <td>116</td>\n",
       "      <td>45</td>\n",
       "      <td>7</td>\n",
       "      <td>115</td>\n",
       "      <td>46</td>\n",
       "      <td>19.0</td>\n",
       "      <td>132</td>\n",
       "      <td>...</td>\n",
       "      <td>NaN</td>\n",
       "      <td>0</td>\n",
       "      <td>NaN</td>\n",
       "      <td>0</td>\n",
       "      <td>3.0</td>\n",
       "      <td>122</td>\n",
       "      <td>689.0</td>\n",
       "      <td>118</td>\n",
       "      <td>903.0</td>\n",
       "      <td>114</td>\n",
       "    </tr>\n",
       "    <tr>\n",
       "      <th>9920</th>\n",
       "      <td>NY</td>\n",
       "      <td>2020-08-30</td>\n",
       "      <td>7</td>\n",
       "      <td>117</td>\n",
       "      <td>44</td>\n",
       "      <td>7</td>\n",
       "      <td>116</td>\n",
       "      <td>45</td>\n",
       "      <td>24.0</td>\n",
       "      <td>132</td>\n",
       "      <td>...</td>\n",
       "      <td>NaN</td>\n",
       "      <td>0</td>\n",
       "      <td>NaN</td>\n",
       "      <td>0</td>\n",
       "      <td>2.0</td>\n",
       "      <td>123</td>\n",
       "      <td>696.0</td>\n",
       "      <td>118</td>\n",
       "      <td>900.0</td>\n",
       "      <td>112</td>\n",
       "    </tr>\n",
       "    <tr>\n",
       "      <th>9929</th>\n",
       "      <td>NY</td>\n",
       "      <td>2020-08-31</td>\n",
       "      <td>8</td>\n",
       "      <td>116</td>\n",
       "      <td>44</td>\n",
       "      <td>7</td>\n",
       "      <td>116</td>\n",
       "      <td>45</td>\n",
       "      <td>19.0</td>\n",
       "      <td>132</td>\n",
       "      <td>...</td>\n",
       "      <td>NaN</td>\n",
       "      <td>0</td>\n",
       "      <td>NaN</td>\n",
       "      <td>0</td>\n",
       "      <td>2.0</td>\n",
       "      <td>123</td>\n",
       "      <td>645.0</td>\n",
       "      <td>119</td>\n",
       "      <td>919.0</td>\n",
       "      <td>113</td>\n",
       "    </tr>\n",
       "  </tbody>\n",
       "</table>\n",
       "<p>165 rows × 135 columns</p>\n",
       "</div>"
      ],
      "text/plain": [
       "     state       date  critical_staffing_shortage_today_yes  \\\n",
       "1323    NY 2020-03-20                                     0   \n",
       "1364    NY 2020-03-21                                     0   \n",
       "1411    NY 2020-03-22                                     0   \n",
       "1446    NY 2020-03-23                                     0   \n",
       "1505    NY 2020-03-24                                     0   \n",
       "...    ...        ...                                   ...   \n",
       "9732    NY 2020-08-27                                     8   \n",
       "9786    NY 2020-08-28                                     8   \n",
       "9833    NY 2020-08-29                                     7   \n",
       "9920    NY 2020-08-30                                     7   \n",
       "9929    NY 2020-08-31                                     8   \n",
       "\n",
       "      critical_staffing_shortage_today_no  \\\n",
       "1323                                    0   \n",
       "1364                                    0   \n",
       "1411                                    0   \n",
       "1446                                    0   \n",
       "1505                                    0   \n",
       "...                                   ...   \n",
       "9732                                  113   \n",
       "9786                                  115   \n",
       "9833                                  116   \n",
       "9920                                  117   \n",
       "9929                                  116   \n",
       "\n",
       "      critical_staffing_shortage_today_not_reported  \\\n",
       "1323                                              4   \n",
       "1364                                              4   \n",
       "1411                                              4   \n",
       "1446                                              4   \n",
       "1505                                              4   \n",
       "...                                             ...   \n",
       "9732                                             46   \n",
       "9786                                             45   \n",
       "9833                                             45   \n",
       "9920                                             44   \n",
       "9929                                             44   \n",
       "\n",
       "      critical_staffing_shortage_anticipated_within_week_yes  \\\n",
       "1323                                                  0        \n",
       "1364                                                  0        \n",
       "1411                                                  0        \n",
       "1446                                                  0        \n",
       "1505                                                  0        \n",
       "...                                                 ...        \n",
       "9732                                                  7        \n",
       "9786                                                  7        \n",
       "9833                                                  7        \n",
       "9920                                                  7        \n",
       "9929                                                  7        \n",
       "\n",
       "      critical_staffing_shortage_anticipated_within_week_no  \\\n",
       "1323                                                  0       \n",
       "1364                                                  0       \n",
       "1411                                                  0       \n",
       "1446                                                  0       \n",
       "1505                                                  0       \n",
       "...                                                 ...       \n",
       "9732                                                113       \n",
       "9786                                                115       \n",
       "9833                                                115       \n",
       "9920                                                116       \n",
       "9929                                                116       \n",
       "\n",
       "      critical_staffing_shortage_anticipated_within_week_not_reported  \\\n",
       "1323                                                  4                 \n",
       "1364                                                  4                 \n",
       "1411                                                  4                 \n",
       "1446                                                  4                 \n",
       "1505                                                  4                 \n",
       "...                                                 ...                 \n",
       "9732                                                 47                 \n",
       "9786                                                 46                 \n",
       "9833                                                 46                 \n",
       "9920                                                 45                 \n",
       "9929                                                 45                 \n",
       "\n",
       "      hospital_onset_covid  hospital_onset_covid_coverage  ...  \\\n",
       "1323                   0.0                              3  ...   \n",
       "1364                   0.0                              3  ...   \n",
       "1411                   0.0                              3  ...   \n",
       "1446                   0.0                              3  ...   \n",
       "1505                   0.0                              3  ...   \n",
       "...                    ...                            ...  ...   \n",
       "9732                  23.0                            131  ...   \n",
       "9786                  17.0                            132  ...   \n",
       "9833                  19.0                            132  ...   \n",
       "9920                  24.0                            132  ...   \n",
       "9929                  19.0                            132  ...   \n",
       "\n",
       "      previous_day_admission_pediatric_covid_confirmed_5_11  \\\n",
       "1323                                                NaN       \n",
       "1364                                                NaN       \n",
       "1411                                                NaN       \n",
       "1446                                                NaN       \n",
       "1505                                                NaN       \n",
       "...                                                 ...       \n",
       "9732                                                NaN       \n",
       "9786                                                NaN       \n",
       "9833                                                NaN       \n",
       "9920                                                NaN       \n",
       "9929                                                NaN       \n",
       "\n",
       "      previous_day_admission_pediatric_covid_confirmed_5_11_coverage  \\\n",
       "1323                                                  0                \n",
       "1364                                                  0                \n",
       "1411                                                  0                \n",
       "1446                                                  0                \n",
       "1505                                                  0                \n",
       "...                                                 ...                \n",
       "9732                                                  0                \n",
       "9786                                                  0                \n",
       "9833                                                  0                \n",
       "9920                                                  0                \n",
       "9929                                                  0                \n",
       "\n",
       "      previous_day_admission_pediatric_covid_confirmed_unknown  \\\n",
       "1323                                                NaN          \n",
       "1364                                                NaN          \n",
       "1411                                                NaN          \n",
       "1446                                                NaN          \n",
       "1505                                                NaN          \n",
       "...                                                 ...          \n",
       "9732                                                NaN          \n",
       "9786                                                NaN          \n",
       "9833                                                NaN          \n",
       "9920                                                NaN          \n",
       "9929                                                NaN          \n",
       "\n",
       "      previous_day_admission_pediatric_covid_confirmed_unknown_coverage  \\\n",
       "1323                                                  0                   \n",
       "1364                                                  0                   \n",
       "1411                                                  0                   \n",
       "1446                                                  0                   \n",
       "1505                                                  0                   \n",
       "...                                                 ...                   \n",
       "9732                                                  0                   \n",
       "9786                                                  0                   \n",
       "9833                                                  0                   \n",
       "9920                                                  0                   \n",
       "9929                                                  0                   \n",
       "\n",
       "      staffed_icu_pediatric_patients_confirmed_covid  \\\n",
       "1323                                             NaN   \n",
       "1364                                             NaN   \n",
       "1411                                             NaN   \n",
       "1446                                             NaN   \n",
       "1505                                             NaN   \n",
       "...                                              ...   \n",
       "9732                                             3.0   \n",
       "9786                                             3.0   \n",
       "9833                                             3.0   \n",
       "9920                                             2.0   \n",
       "9929                                             2.0   \n",
       "\n",
       "      staffed_icu_pediatric_patients_confirmed_covid_coverage  \\\n",
       "1323                                                  0         \n",
       "1364                                                  0         \n",
       "1411                                                  0         \n",
       "1446                                                  0         \n",
       "1505                                                  0         \n",
       "...                                                 ...         \n",
       "9732                                                121         \n",
       "9786                                                122         \n",
       "9833                                                122         \n",
       "9920                                                123         \n",
       "9929                                                123         \n",
       "\n",
       "      staffed_pediatric_icu_bed_occupancy  \\\n",
       "1323                                  NaN   \n",
       "1364                                  NaN   \n",
       "1411                                  NaN   \n",
       "1446                                  NaN   \n",
       "1505                                  NaN   \n",
       "...                                   ...   \n",
       "9732                                703.0   \n",
       "9786                                721.0   \n",
       "9833                                689.0   \n",
       "9920                                696.0   \n",
       "9929                                645.0   \n",
       "\n",
       "      staffed_pediatric_icu_bed_occupancy_coverage  \\\n",
       "1323                                             0   \n",
       "1364                                             0   \n",
       "1411                                             0   \n",
       "1446                                             0   \n",
       "1505                                             0   \n",
       "...                                            ...   \n",
       "9732                                           118   \n",
       "9786                                           118   \n",
       "9833                                           118   \n",
       "9920                                           118   \n",
       "9929                                           119   \n",
       "\n",
       "      total_staffed_pediatric_icu_beds  \\\n",
       "1323                               NaN   \n",
       "1364                               NaN   \n",
       "1411                               NaN   \n",
       "1446                               NaN   \n",
       "1505                               NaN   \n",
       "...                                ...   \n",
       "9732                             898.0   \n",
       "9786                             900.0   \n",
       "9833                             903.0   \n",
       "9920                             900.0   \n",
       "9929                             919.0   \n",
       "\n",
       "      total_staffed_pediatric_icu_beds_coverage  \n",
       "1323                                          0  \n",
       "1364                                          0  \n",
       "1411                                          0  \n",
       "1446                                          0  \n",
       "1505                                          0  \n",
       "...                                         ...  \n",
       "9732                                        112  \n",
       "9786                                        114  \n",
       "9833                                        114  \n",
       "9920                                        112  \n",
       "9929                                        113  \n",
       "\n",
       "[165 rows x 135 columns]"
      ]
     },
     "execution_count": 63,
     "metadata": {},
     "output_type": "execute_result"
    }
   ],
   "source": [
    "df_ny = data_df[((data_df['date'] >= '2020-03-20') & (data_df['date'] <= '2020-08-31'))]\n",
    "df_ny = df_ny[df_ny['state'] == 'NY']\n",
    "df_ny"
   ]
  },
  {
   "cell_type": "code",
   "execution_count": 64,
   "metadata": {},
   "outputs": [
    {
     "data": {
      "image/png": "[encoded data removed]",
      "text/plain": [
       "<Figure size 1080x360 with 1 Axes>"
      ]
     },
     "metadata": {
      "needs_background": "light"
     },
     "output_type": "display_data"
    }
   ],
   "source": [
    "plt.figure(figsize=(15, 5))\n",
    "sns.lineplot(x='date', y='inpatient_beds_used_covid', data=df_ny)\n",
    "\n",
    "plt.axvline(pd.to_datetime('2020-06-13'), color='red', ls='--')\n",
    "\n",
    "ticks = [pd.to_datetime('2020-03-20'), pd.to_datetime('2020-04-01'), pd.to_datetime('2020-04-15'),\n",
    "         pd.to_datetime('2020-04-30'), pd.to_datetime('2020-05-15'), pd.to_datetime('2020-05-31'),\n",
    "         pd.to_datetime('2020-06-13'), pd.to_datetime('2020-06-30'), pd.to_datetime('2020-07-15'), \n",
    "         pd.to_datetime('2020-07-30'), pd.to_datetime('2020-08-15'), pd.to_datetime('2020-08-31')]\n",
    "\n",
    "plt.xticks(ticks, rotation=45)\n",
    "\n",
    "plt.xlabel('')\n",
    "plt.ylabel('Número de camas ocupadas')\n",
    "plt.title('Ocupación de camas hospitalarias comunes durante el programa NYS on Pause 2020-03-20 a 2020-06-13',\n",
    "          fontsize=16)\n",
    "sns.despine(left=False, bottom=False)"
   ]
  },
  {
   "cell_type": "code",
   "execution_count": 65,
   "metadata": {},
   "outputs": [
    {
     "data": {
      "text/plain": [
       "<matplotlib.patches.Rectangle at 0x29067a45910>"
      ]
     },
     "execution_count": 65,
     "metadata": {},
     "output_type": "execute_result"
    },
    {
     "data": {
      "image/png": "[encoded data removed]",
      "text/plain": [
       "<Figure size 1080x360 with 1 Axes>"
      ]
     },
     "metadata": {
      "needs_background": "light"
     },
     "output_type": "display_data"
    }
   ],
   "source": [
    "fig, ax = plt.subplots(figsize=(15, 5))\n",
    "sns.lineplot(x='date', y='inpatient_beds_used_covid', data=df_ny)\n",
    "\n",
    "plt.axvline(pd.to_datetime('2020-06-13'), color='red', ls='--')\n",
    "\n",
    "ticks = [pd.to_datetime('2020-03-20'), pd.to_datetime('2020-04-01'), pd.to_datetime('2020-04-15'),\n",
    "         pd.to_datetime('2020-04-30'), pd.to_datetime('2020-05-15'), pd.to_datetime('2020-05-31'),\n",
    "         pd.to_datetime('2020-06-13'), pd.to_datetime('2020-06-30'), pd.to_datetime('2020-07-15'), \n",
    "         pd.to_datetime('2020-07-30'), pd.to_datetime('2020-08-15'), pd.to_datetime('2020-08-31')]\n",
    "\n",
    "plt.xticks(ticks, rotation=45)\n",
    "\n",
    "plt.xlabel('')\n",
    "plt.ylabel('Número de camas ocupadas')\n",
    "sns.despine(left=False, bottom=False)\n",
    "\n",
    "fig.subplots_adjust(left=0.005, right=1, top=0.8, bottom=0.1)\n",
    "fig.text(\n",
    "    0, 0.925, \"Ocupación de camas hospitalarias comunes durante el programa NYS on Pause\",\n",
    "    fontsize=16, fontweight=\"bold\"\n",
    ")\n",
    "fig.text(\n",
    "    0, 0.875, \"2020-03-20 a 2020-06-13\", \n",
    "    fontsize=14\n",
    ")\n",
    "source = \"Sources: U.S. Department of Health & Human Services - HealthData.gov\"\n",
    "fig.text(\n",
    "    0, -0.15, source, color=\"#a2a2a2\", \n",
    "    fontsize=14, fontfamily=\"Econ Sans Cnd\"\n",
    ")\n",
    "fig.add_artist(lines.Line2D([0, 1], [1, 1], lw=3, color='red', solid_capstyle=\"butt\"))\n",
    "fig.add_artist(patches.Rectangle((0, 0.975), 0.05, 0.025, color='red'))"
   ]
  },
  {
   "cell_type": "markdown",
   "metadata": {},
   "source": [
    "Al iniciar el periodo de cuarentena se viene con un crecimiento lineal en el número de hospitalizaciones, finalizando el mes de marzo, se inicia un periodo de crecimiento exponencial llegando a un primer pico de 10000 camas ocupadas. Este pico sigue incrementando hasta llegar a casi 13000 camas. Hacia el 15 de Abril se tiene el pico absoluto de camas ocupadas rozando las 14000. A partir de los días posteriores se ve un decrecimiento general con picos en algunos momentos, el primero hacia el 20 de Abril y el segundo hacia el 15 de mayo coincidiendo con la autorización de reuniones de más de 10 personas. La línea punteada muestra la fecha del fin del programa, se agregó dos meses más de información para realizar una comparación con el programa, encontrando de esta manera, un pico justo al finalizar el programa, que se debe a la reapertura del estado y su economía, sin embargo este pico no dura más de dos semanas y el decrecimiento en la ocupación hospitalaria decrece constantemente y casi que se estabiliza en aproximadamente 3500 camas. Algo adicional que se puede mencionar es el aplanamiento de la curva, tal como se ve en el gráfico se pasó de un pico epidémico a una curva aplana en la que van a haber pequeños picos a futuro."
   ]
  },
  {
   "cell_type": "markdown",
   "metadata": {},
   "source": [
    "## 3. ¿Cuáles fueron los cinco Estados que más camas UCI -Unidades de Cuidados Intensivos- utilizaron durante el año 2020? La medición debe realizarse en términos absolutos."
   ]
  },
  {
   "cell_type": "code",
   "execution_count": 66,
   "metadata": {},
   "outputs": [
    {
     "data": {
      "text/html": [
       "<div>\n",
       "<style scoped>\n",
       "    .dataframe tbody tr th:only-of-type {\n",
       "        vertical-align: middle;\n",
       "    }\n",
       "\n",
       "    .dataframe tbody tr th {\n",
       "        vertical-align: top;\n",
       "    }\n",
       "\n",
       "    .dataframe thead th {\n",
       "        text-align: right;\n",
       "    }\n",
       "</style>\n",
       "<table border=\"1\" class=\"dataframe\">\n",
       "  <thead>\n",
       "    <tr style=\"text-align: right;\">\n",
       "      <th></th>\n",
       "      <th>state</th>\n",
       "      <th>date</th>\n",
       "      <th>critical_staffing_shortage_today_yes</th>\n",
       "      <th>critical_staffing_shortage_today_no</th>\n",
       "      <th>critical_staffing_shortage_today_not_reported</th>\n",
       "      <th>critical_staffing_shortage_anticipated_within_week_yes</th>\n",
       "      <th>critical_staffing_shortage_anticipated_within_week_no</th>\n",
       "      <th>critical_staffing_shortage_anticipated_within_week_not_reported</th>\n",
       "      <th>hospital_onset_covid</th>\n",
       "      <th>hospital_onset_covid_coverage</th>\n",
       "      <th>...</th>\n",
       "      <th>previous_day_admission_pediatric_covid_confirmed_5_11</th>\n",
       "      <th>previous_day_admission_pediatric_covid_confirmed_5_11_coverage</th>\n",
       "      <th>previous_day_admission_pediatric_covid_confirmed_unknown</th>\n",
       "      <th>previous_day_admission_pediatric_covid_confirmed_unknown_coverage</th>\n",
       "      <th>staffed_icu_pediatric_patients_confirmed_covid</th>\n",
       "      <th>staffed_icu_pediatric_patients_confirmed_covid_coverage</th>\n",
       "      <th>staffed_pediatric_icu_bed_occupancy</th>\n",
       "      <th>staffed_pediatric_icu_bed_occupancy_coverage</th>\n",
       "      <th>total_staffed_pediatric_icu_beds</th>\n",
       "      <th>total_staffed_pediatric_icu_beds_coverage</th>\n",
       "    </tr>\n",
       "  </thead>\n",
       "  <tbody>\n",
       "    <tr>\n",
       "      <th>0</th>\n",
       "      <td>MT</td>\n",
       "      <td>2020-01-01</td>\n",
       "      <td>0</td>\n",
       "      <td>0</td>\n",
       "      <td>1</td>\n",
       "      <td>0</td>\n",
       "      <td>0</td>\n",
       "      <td>1</td>\n",
       "      <td>0.0</td>\n",
       "      <td>1</td>\n",
       "      <td>...</td>\n",
       "      <td>NaN</td>\n",
       "      <td>0</td>\n",
       "      <td>NaN</td>\n",
       "      <td>0</td>\n",
       "      <td>NaN</td>\n",
       "      <td>0</td>\n",
       "      <td>NaN</td>\n",
       "      <td>0</td>\n",
       "      <td>NaN</td>\n",
       "      <td>0</td>\n",
       "    </tr>\n",
       "    <tr>\n",
       "      <th>1</th>\n",
       "      <td>TX</td>\n",
       "      <td>2020-01-01</td>\n",
       "      <td>0</td>\n",
       "      <td>0</td>\n",
       "      <td>3</td>\n",
       "      <td>0</td>\n",
       "      <td>0</td>\n",
       "      <td>3</td>\n",
       "      <td>0.0</td>\n",
       "      <td>1</td>\n",
       "      <td>...</td>\n",
       "      <td>NaN</td>\n",
       "      <td>0</td>\n",
       "      <td>NaN</td>\n",
       "      <td>0</td>\n",
       "      <td>NaN</td>\n",
       "      <td>0</td>\n",
       "      <td>NaN</td>\n",
       "      <td>0</td>\n",
       "      <td>NaN</td>\n",
       "      <td>0</td>\n",
       "    </tr>\n",
       "    <tr>\n",
       "      <th>2</th>\n",
       "      <td>PR</td>\n",
       "      <td>2020-01-01</td>\n",
       "      <td>0</td>\n",
       "      <td>0</td>\n",
       "      <td>1</td>\n",
       "      <td>0</td>\n",
       "      <td>0</td>\n",
       "      <td>1</td>\n",
       "      <td>0.0</td>\n",
       "      <td>1</td>\n",
       "      <td>...</td>\n",
       "      <td>NaN</td>\n",
       "      <td>0</td>\n",
       "      <td>NaN</td>\n",
       "      <td>0</td>\n",
       "      <td>NaN</td>\n",
       "      <td>0</td>\n",
       "      <td>NaN</td>\n",
       "      <td>0</td>\n",
       "      <td>NaN</td>\n",
       "      <td>0</td>\n",
       "    </tr>\n",
       "    <tr>\n",
       "      <th>3</th>\n",
       "      <td>HI</td>\n",
       "      <td>2020-01-01</td>\n",
       "      <td>0</td>\n",
       "      <td>0</td>\n",
       "      <td>1</td>\n",
       "      <td>0</td>\n",
       "      <td>0</td>\n",
       "      <td>1</td>\n",
       "      <td>0.0</td>\n",
       "      <td>1</td>\n",
       "      <td>...</td>\n",
       "      <td>NaN</td>\n",
       "      <td>0</td>\n",
       "      <td>NaN</td>\n",
       "      <td>0</td>\n",
       "      <td>NaN</td>\n",
       "      <td>0</td>\n",
       "      <td>NaN</td>\n",
       "      <td>0</td>\n",
       "      <td>NaN</td>\n",
       "      <td>0</td>\n",
       "    </tr>\n",
       "    <tr>\n",
       "      <th>4</th>\n",
       "      <td>IN</td>\n",
       "      <td>2020-01-01</td>\n",
       "      <td>0</td>\n",
       "      <td>0</td>\n",
       "      <td>1</td>\n",
       "      <td>0</td>\n",
       "      <td>0</td>\n",
       "      <td>1</td>\n",
       "      <td>0.0</td>\n",
       "      <td>1</td>\n",
       "      <td>...</td>\n",
       "      <td>NaN</td>\n",
       "      <td>0</td>\n",
       "      <td>NaN</td>\n",
       "      <td>0</td>\n",
       "      <td>NaN</td>\n",
       "      <td>0</td>\n",
       "      <td>NaN</td>\n",
       "      <td>0</td>\n",
       "      <td>NaN</td>\n",
       "      <td>0</td>\n",
       "    </tr>\n",
       "    <tr>\n",
       "      <th>...</th>\n",
       "      <td>...</td>\n",
       "      <td>...</td>\n",
       "      <td>...</td>\n",
       "      <td>...</td>\n",
       "      <td>...</td>\n",
       "      <td>...</td>\n",
       "      <td>...</td>\n",
       "      <td>...</td>\n",
       "      <td>...</td>\n",
       "      <td>...</td>\n",
       "      <td>...</td>\n",
       "      <td>...</td>\n",
       "      <td>...</td>\n",
       "      <td>...</td>\n",
       "      <td>...</td>\n",
       "      <td>...</td>\n",
       "      <td>...</td>\n",
       "      <td>...</td>\n",
       "      <td>...</td>\n",
       "      <td>...</td>\n",
       "      <td>...</td>\n",
       "    </tr>\n",
       "    <tr>\n",
       "      <th>16441</th>\n",
       "      <td>NV</td>\n",
       "      <td>2020-12-31</td>\n",
       "      <td>20</td>\n",
       "      <td>41</td>\n",
       "      <td>2</td>\n",
       "      <td>23</td>\n",
       "      <td>38</td>\n",
       "      <td>2</td>\n",
       "      <td>45.0</td>\n",
       "      <td>61</td>\n",
       "      <td>...</td>\n",
       "      <td>NaN</td>\n",
       "      <td>0</td>\n",
       "      <td>NaN</td>\n",
       "      <td>0</td>\n",
       "      <td>NaN</td>\n",
       "      <td>0</td>\n",
       "      <td>0.0</td>\n",
       "      <td>5</td>\n",
       "      <td>0.0</td>\n",
       "      <td>5</td>\n",
       "    </tr>\n",
       "    <tr>\n",
       "      <th>16442</th>\n",
       "      <td>SD</td>\n",
       "      <td>2020-12-31</td>\n",
       "      <td>1</td>\n",
       "      <td>61</td>\n",
       "      <td>3</td>\n",
       "      <td>2</td>\n",
       "      <td>60</td>\n",
       "      <td>3</td>\n",
       "      <td>46.0</td>\n",
       "      <td>62</td>\n",
       "      <td>...</td>\n",
       "      <td>NaN</td>\n",
       "      <td>0</td>\n",
       "      <td>NaN</td>\n",
       "      <td>0</td>\n",
       "      <td>NaN</td>\n",
       "      <td>0</td>\n",
       "      <td>30.0</td>\n",
       "      <td>62</td>\n",
       "      <td>83.0</td>\n",
       "      <td>62</td>\n",
       "    </tr>\n",
       "    <tr>\n",
       "      <th>16443</th>\n",
       "      <td>AR</td>\n",
       "      <td>2020-12-31</td>\n",
       "      <td>18</td>\n",
       "      <td>92</td>\n",
       "      <td>2</td>\n",
       "      <td>21</td>\n",
       "      <td>89</td>\n",
       "      <td>2</td>\n",
       "      <td>14.0</td>\n",
       "      <td>110</td>\n",
       "      <td>...</td>\n",
       "      <td>NaN</td>\n",
       "      <td>0</td>\n",
       "      <td>NaN</td>\n",
       "      <td>0</td>\n",
       "      <td>NaN</td>\n",
       "      <td>0</td>\n",
       "      <td>238.0</td>\n",
       "      <td>110</td>\n",
       "      <td>415.0</td>\n",
       "      <td>110</td>\n",
       "    </tr>\n",
       "    <tr>\n",
       "      <th>16444</th>\n",
       "      <td>LA</td>\n",
       "      <td>2020-12-31</td>\n",
       "      <td>47</td>\n",
       "      <td>166</td>\n",
       "      <td>8</td>\n",
       "      <td>50</td>\n",
       "      <td>163</td>\n",
       "      <td>8</td>\n",
       "      <td>14.0</td>\n",
       "      <td>213</td>\n",
       "      <td>...</td>\n",
       "      <td>NaN</td>\n",
       "      <td>0</td>\n",
       "      <td>NaN</td>\n",
       "      <td>0</td>\n",
       "      <td>NaN</td>\n",
       "      <td>0</td>\n",
       "      <td>4.0</td>\n",
       "      <td>4</td>\n",
       "      <td>11.0</td>\n",
       "      <td>4</td>\n",
       "    </tr>\n",
       "    <tr>\n",
       "      <th>16445</th>\n",
       "      <td>GA</td>\n",
       "      <td>2020-12-31</td>\n",
       "      <td>42</td>\n",
       "      <td>113</td>\n",
       "      <td>15</td>\n",
       "      <td>47</td>\n",
       "      <td>108</td>\n",
       "      <td>15</td>\n",
       "      <td>99.0</td>\n",
       "      <td>167</td>\n",
       "      <td>...</td>\n",
       "      <td>NaN</td>\n",
       "      <td>0</td>\n",
       "      <td>NaN</td>\n",
       "      <td>0</td>\n",
       "      <td>NaN</td>\n",
       "      <td>0</td>\n",
       "      <td>106.0</td>\n",
       "      <td>80</td>\n",
       "      <td>226.0</td>\n",
       "      <td>80</td>\n",
       "    </tr>\n",
       "  </tbody>\n",
       "</table>\n",
       "<p>16446 rows × 135 columns</p>\n",
       "</div>"
      ],
      "text/plain": [
       "      state       date  critical_staffing_shortage_today_yes  \\\n",
       "0        MT 2020-01-01                                     0   \n",
       "1        TX 2020-01-01                                     0   \n",
       "2        PR 2020-01-01                                     0   \n",
       "3        HI 2020-01-01                                     0   \n",
       "4        IN 2020-01-01                                     0   \n",
       "...     ...        ...                                   ...   \n",
       "16441    NV 2020-12-31                                    20   \n",
       "16442    SD 2020-12-31                                     1   \n",
       "16443    AR 2020-12-31                                    18   \n",
       "16444    LA 2020-12-31                                    47   \n",
       "16445    GA 2020-12-31                                    42   \n",
       "\n",
       "       critical_staffing_shortage_today_no  \\\n",
       "0                                        0   \n",
       "1                                        0   \n",
       "2                                        0   \n",
       "3                                        0   \n",
       "4                                        0   \n",
       "...                                    ...   \n",
       "16441                                   41   \n",
       "16442                                   61   \n",
       "16443                                   92   \n",
       "16444                                  166   \n",
       "16445                                  113   \n",
       "\n",
       "       critical_staffing_shortage_today_not_reported  \\\n",
       "0                                                  1   \n",
       "1                                                  3   \n",
       "2                                                  1   \n",
       "3                                                  1   \n",
       "4                                                  1   \n",
       "...                                              ...   \n",
       "16441                                              2   \n",
       "16442                                              3   \n",
       "16443                                              2   \n",
       "16444                                              8   \n",
       "16445                                             15   \n",
       "\n",
       "       critical_staffing_shortage_anticipated_within_week_yes  \\\n",
       "0                                                      0        \n",
       "1                                                      0        \n",
       "2                                                      0        \n",
       "3                                                      0        \n",
       "4                                                      0        \n",
       "...                                                  ...        \n",
       "16441                                                 23        \n",
       "16442                                                  2        \n",
       "16443                                                 21        \n",
       "16444                                                 50        \n",
       "16445                                                 47        \n",
       "\n",
       "       critical_staffing_shortage_anticipated_within_week_no  \\\n",
       "0                                                      0       \n",
       "1                                                      0       \n",
       "2                                                      0       \n",
       "3                                                      0       \n",
       "4                                                      0       \n",
       "...                                                  ...       \n",
       "16441                                                 38       \n",
       "16442                                                 60       \n",
       "16443                                                 89       \n",
       "16444                                                163       \n",
       "16445                                                108       \n",
       "\n",
       "       critical_staffing_shortage_anticipated_within_week_not_reported  \\\n",
       "0                                                      1                 \n",
       "1                                                      3                 \n",
       "2                                                      1                 \n",
       "3                                                      1                 \n",
       "4                                                      1                 \n",
       "...                                                  ...                 \n",
       "16441                                                  2                 \n",
       "16442                                                  3                 \n",
       "16443                                                  2                 \n",
       "16444                                                  8                 \n",
       "16445                                                 15                 \n",
       "\n",
       "       hospital_onset_covid  hospital_onset_covid_coverage  ...  \\\n",
       "0                       0.0                              1  ...   \n",
       "1                       0.0                              1  ...   \n",
       "2                       0.0                              1  ...   \n",
       "3                       0.0                              1  ...   \n",
       "4                       0.0                              1  ...   \n",
       "...                     ...                            ...  ...   \n",
       "16441                  45.0                             61  ...   \n",
       "16442                  46.0                             62  ...   \n",
       "16443                  14.0                            110  ...   \n",
       "16444                  14.0                            213  ...   \n",
       "16445                  99.0                            167  ...   \n",
       "\n",
       "       previous_day_admission_pediatric_covid_confirmed_5_11  \\\n",
       "0                                                    NaN       \n",
       "1                                                    NaN       \n",
       "2                                                    NaN       \n",
       "3                                                    NaN       \n",
       "4                                                    NaN       \n",
       "...                                                  ...       \n",
       "16441                                                NaN       \n",
       "16442                                                NaN       \n",
       "16443                                                NaN       \n",
       "16444                                                NaN       \n",
       "16445                                                NaN       \n",
       "\n",
       "       previous_day_admission_pediatric_covid_confirmed_5_11_coverage  \\\n",
       "0                                                      0                \n",
       "1                                                      0                \n",
       "2                                                      0                \n",
       "3                                                      0                \n",
       "4                                                      0                \n",
       "...                                                  ...                \n",
       "16441                                                  0                \n",
       "16442                                                  0                \n",
       "16443                                                  0                \n",
       "16444                                                  0                \n",
       "16445                                                  0                \n",
       "\n",
       "       previous_day_admission_pediatric_covid_confirmed_unknown  \\\n",
       "0                                                    NaN          \n",
       "1                                                    NaN          \n",
       "2                                                    NaN          \n",
       "3                                                    NaN          \n",
       "4                                                    NaN          \n",
       "...                                                  ...          \n",
       "16441                                                NaN          \n",
       "16442                                                NaN          \n",
       "16443                                                NaN          \n",
       "16444                                                NaN          \n",
       "16445                                                NaN          \n",
       "\n",
       "       previous_day_admission_pediatric_covid_confirmed_unknown_coverage  \\\n",
       "0                                                      0                   \n",
       "1                                                      0                   \n",
       "2                                                      0                   \n",
       "3                                                      0                   \n",
       "4                                                      0                   \n",
       "...                                                  ...                   \n",
       "16441                                                  0                   \n",
       "16442                                                  0                   \n",
       "16443                                                  0                   \n",
       "16444                                                  0                   \n",
       "16445                                                  0                   \n",
       "\n",
       "       staffed_icu_pediatric_patients_confirmed_covid  \\\n",
       "0                                                 NaN   \n",
       "1                                                 NaN   \n",
       "2                                                 NaN   \n",
       "3                                                 NaN   \n",
       "4                                                 NaN   \n",
       "...                                               ...   \n",
       "16441                                             NaN   \n",
       "16442                                             NaN   \n",
       "16443                                             NaN   \n",
       "16444                                             NaN   \n",
       "16445                                             NaN   \n",
       "\n",
       "       staffed_icu_pediatric_patients_confirmed_covid_coverage  \\\n",
       "0                                                      0         \n",
       "1                                                      0         \n",
       "2                                                      0         \n",
       "3                                                      0         \n",
       "4                                                      0         \n",
       "...                                                  ...         \n",
       "16441                                                  0         \n",
       "16442                                                  0         \n",
       "16443                                                  0         \n",
       "16444                                                  0         \n",
       "16445                                                  0         \n",
       "\n",
       "       staffed_pediatric_icu_bed_occupancy  \\\n",
       "0                                      NaN   \n",
       "1                                      NaN   \n",
       "2                                      NaN   \n",
       "3                                      NaN   \n",
       "4                                      NaN   \n",
       "...                                    ...   \n",
       "16441                                  0.0   \n",
       "16442                                 30.0   \n",
       "16443                                238.0   \n",
       "16444                                  4.0   \n",
       "16445                                106.0   \n",
       "\n",
       "       staffed_pediatric_icu_bed_occupancy_coverage  \\\n",
       "0                                                 0   \n",
       "1                                                 0   \n",
       "2                                                 0   \n",
       "3                                                 0   \n",
       "4                                                 0   \n",
       "...                                             ...   \n",
       "16441                                             5   \n",
       "16442                                            62   \n",
       "16443                                           110   \n",
       "16444                                             4   \n",
       "16445                                            80   \n",
       "\n",
       "       total_staffed_pediatric_icu_beds  \\\n",
       "0                                   NaN   \n",
       "1                                   NaN   \n",
       "2                                   NaN   \n",
       "3                                   NaN   \n",
       "4                                   NaN   \n",
       "...                                 ...   \n",
       "16441                               0.0   \n",
       "16442                              83.0   \n",
       "16443                             415.0   \n",
       "16444                              11.0   \n",
       "16445                             226.0   \n",
       "\n",
       "       total_staffed_pediatric_icu_beds_coverage  \n",
       "0                                              0  \n",
       "1                                              0  \n",
       "2                                              0  \n",
       "3                                              0  \n",
       "4                                              0  \n",
       "...                                          ...  \n",
       "16441                                          5  \n",
       "16442                                         62  \n",
       "16443                                        110  \n",
       "16444                                          4  \n",
       "16445                                         80  \n",
       "\n",
       "[16446 rows x 135 columns]"
      ]
     },
     "execution_count": 66,
     "metadata": {},
     "output_type": "execute_result"
    }
   ],
   "source": [
    "df = data_df[data_df['date'] < '2021-01-01']\n",
    "df"
   ]
  },
  {
   "cell_type": "code",
   "execution_count": 67,
   "metadata": {},
   "outputs": [
    {
     "data": {
      "text/html": [
       "<div>\n",
       "<style scoped>\n",
       "    .dataframe tbody tr th:only-of-type {\n",
       "        vertical-align: middle;\n",
       "    }\n",
       "\n",
       "    .dataframe tbody tr th {\n",
       "        vertical-align: top;\n",
       "    }\n",
       "\n",
       "    .dataframe thead th {\n",
       "        text-align: right;\n",
       "    }\n",
       "</style>\n",
       "<table border=\"1\" class=\"dataframe\">\n",
       "  <thead>\n",
       "    <tr style=\"text-align: right;\">\n",
       "      <th></th>\n",
       "      <th>staffed_icu_adult_patients_confirmed_covid</th>\n",
       "      <th>states_full</th>\n",
       "    </tr>\n",
       "    <tr>\n",
       "      <th>state</th>\n",
       "      <th></th>\n",
       "      <th></th>\n",
       "    </tr>\n",
       "  </thead>\n",
       "  <tbody>\n",
       "    <tr>\n",
       "      <th>TX</th>\n",
       "      <td>335836.0</td>\n",
       "      <td>Texas</td>\n",
       "    </tr>\n",
       "    <tr>\n",
       "      <th>CA</th>\n",
       "      <td>260865.0</td>\n",
       "      <td>California</td>\n",
       "    </tr>\n",
       "    <tr>\n",
       "      <th>FL</th>\n",
       "      <td>175859.0</td>\n",
       "      <td>Florida</td>\n",
       "    </tr>\n",
       "    <tr>\n",
       "      <th>GA</th>\n",
       "      <td>95596.0</td>\n",
       "      <td>Georgia</td>\n",
       "    </tr>\n",
       "    <tr>\n",
       "      <th>OH</th>\n",
       "      <td>89483.0</td>\n",
       "      <td>Ohio</td>\n",
       "    </tr>\n",
       "  </tbody>\n",
       "</table>\n",
       "</div>"
      ],
      "text/plain": [
       "       staffed_icu_adult_patients_confirmed_covid states_full\n",
       "state                                                        \n",
       "TX                                       335836.0       Texas\n",
       "CA                                       260865.0  California\n",
       "FL                                       175859.0     Florida\n",
       "GA                                        95596.0     Georgia\n",
       "OH                                        89483.0        Ohio"
      ]
     },
     "execution_count": 67,
     "metadata": {},
     "output_type": "execute_result"
    }
   ],
   "source": [
    "df = df[['state', 'staffed_icu_adult_patients_confirmed_covid']]\n",
    "df_group = df.groupby('state').sum()\n",
    "df_group.sort_values('staffed_icu_adult_patients_confirmed_covid', ascending=False, inplace=True)\n",
    "camas_icu = df_group.head(5).copy()\n",
    "camas_icu['states_full'] = ['Texas', 'California', 'Florida', 'Georgia', 'Ohio']\n",
    "camas_icu"
   ]
  },
  {
   "cell_type": "code",
   "execution_count": 68,
   "metadata": {},
   "outputs": [
    {
     "data": {
      "text/plain": [
       "<matplotlib.patches.Rectangle at 0x29067a88520>"
      ]
     },
     "execution_count": 68,
     "metadata": {},
     "output_type": "execute_result"
    },
    {
     "data": {
      "image/png": "[encoded data removed]",
      "text/plain": [
       "<Figure size 864x504 with 1 Axes>"
      ]
     },
     "metadata": {
      "needs_background": "light"
     },
     "output_type": "display_data"
    }
   ],
   "source": [
    "df = data_df[data_df['date'] < '2021-01-01']\n",
    "df = df[['state', 'staffed_icu_adult_patients_confirmed_covid']]\n",
    "df_group = df.groupby('state').sum()\n",
    "df_group.sort_values('staffed_icu_adult_patients_confirmed_covid', ascending=False, inplace=True)\n",
    "camas_icu = df_group.head(5).copy()\n",
    "camas_icu['states_full'] = ['Texas', 'California', 'Florida', 'Georgia', 'Ohio']\n",
    "fig,ax = plt.subplots(figsize=(12, 7))\n",
    "sns.barplot(x='staffed_icu_adult_patients_confirmed_covid', y='states_full', data=camas_icu)\n",
    "\n",
    "ax.set_axisbelow(True)\n",
    "ax.grid(axis = \"x\", color=\"#A8BAC4\", lw=1.2)\n",
    "ax.spines[\"right\"].set_visible(False)\n",
    "ax.spines[\"top\"].set_visible(False)\n",
    "ax.spines[\"bottom\"].set_visible(False)\n",
    "ax.spines[\"left\"].set_lw(1.5)\n",
    "ax.xaxis.set_tick_params(labelbottom=False, labeltop=True, length=0)\n",
    "\n",
    "plt.ylabel('')\n",
    "plt.xlabel('')\n",
    "\n",
    "fig.subplots_adjust(left=0.005, right=1, top=0.8, bottom=0.1)\n",
    "fig.text(\n",
    "    0, 0.925, \"Número de camas ICU ocupadas\", \n",
    "    fontsize=16, fontweight=\"bold\"\n",
    ")\n",
    "fig.text(\n",
    "    0, 0.875, \"Periodo 2020-01-01 a 2020-12-31\", \n",
    "    fontsize=14\n",
    ")\n",
    "source = \"Sources: U.S. Department of Health & Human Services - HealthData.gov\"\n",
    "fig.text(\n",
    "    0, 0.06, source, color=\"#a2a2a2\", \n",
    "    fontsize=14, fontfamily=\"Econ Sans Cnd\"\n",
    ")\n",
    "fig.add_artist(lines.Line2D([0, 1], [1, 1], lw=3, color='red', solid_capstyle=\"butt\"))\n",
    "fig.add_artist(patches.Rectangle((0, 0.975), 0.05, 0.025, color='red'))"
   ]
  },
  {
   "cell_type": "markdown",
   "metadata": {},
   "source": [
    "Los estados de Texas, California, Florida, Georgia y Ohio son los estados con más ocupación de camas UCI en los estados unidos durante el año 2020. De estos 5, solo Texas, California y Florida aparecen en el top 5 con mayor ocupación hospitalaria. Se puede argumentar que Georgia y Ohio tuvieron que enfrentar casos más graves de covid durante el año en mención. También es interesante notar que Nueva York, que fue el estado que usó más camas comunes, no aparece en el top 5 de uso de camas de cuidado intensivo, así que se puede asumir que Nueva York tuvo menos casos graves y/o la atención dada en este estado a los pacientes con COVID-19 fue mejor evitando la admisión de pacientes en UCI"
   ]
  },
  {
   "cell_type": "markdown",
   "metadata": {},
   "source": [
    "## 4. ¿Qué cantidad de camas se utilizaron, por Estado, para pacientes pediátricos con COVID durante el 2020?"
   ]
  },
  {
   "cell_type": "code",
   "execution_count": 69,
   "metadata": {},
   "outputs": [
    {
     "data": {
      "text/html": [
       "<div>\n",
       "<style scoped>\n",
       "    .dataframe tbody tr th:only-of-type {\n",
       "        vertical-align: middle;\n",
       "    }\n",
       "\n",
       "    .dataframe tbody tr th {\n",
       "        vertical-align: top;\n",
       "    }\n",
       "\n",
       "    .dataframe thead th {\n",
       "        text-align: right;\n",
       "    }\n",
       "</style>\n",
       "<table border=\"1\" class=\"dataframe\">\n",
       "  <thead>\n",
       "    <tr style=\"text-align: right;\">\n",
       "      <th></th>\n",
       "      <th>state</th>\n",
       "      <th>date</th>\n",
       "      <th>critical_staffing_shortage_today_yes</th>\n",
       "      <th>critical_staffing_shortage_today_no</th>\n",
       "      <th>critical_staffing_shortage_today_not_reported</th>\n",
       "      <th>critical_staffing_shortage_anticipated_within_week_yes</th>\n",
       "      <th>critical_staffing_shortage_anticipated_within_week_no</th>\n",
       "      <th>critical_staffing_shortage_anticipated_within_week_not_reported</th>\n",
       "      <th>hospital_onset_covid</th>\n",
       "      <th>hospital_onset_covid_coverage</th>\n",
       "      <th>...</th>\n",
       "      <th>previous_day_admission_pediatric_covid_confirmed_5_11</th>\n",
       "      <th>previous_day_admission_pediatric_covid_confirmed_5_11_coverage</th>\n",
       "      <th>previous_day_admission_pediatric_covid_confirmed_unknown</th>\n",
       "      <th>previous_day_admission_pediatric_covid_confirmed_unknown_coverage</th>\n",
       "      <th>staffed_icu_pediatric_patients_confirmed_covid</th>\n",
       "      <th>staffed_icu_pediatric_patients_confirmed_covid_coverage</th>\n",
       "      <th>staffed_pediatric_icu_bed_occupancy</th>\n",
       "      <th>staffed_pediatric_icu_bed_occupancy_coverage</th>\n",
       "      <th>total_staffed_pediatric_icu_beds</th>\n",
       "      <th>total_staffed_pediatric_icu_beds_coverage</th>\n",
       "    </tr>\n",
       "  </thead>\n",
       "  <tbody>\n",
       "    <tr>\n",
       "      <th>0</th>\n",
       "      <td>MT</td>\n",
       "      <td>2020-01-01</td>\n",
       "      <td>0</td>\n",
       "      <td>0</td>\n",
       "      <td>1</td>\n",
       "      <td>0</td>\n",
       "      <td>0</td>\n",
       "      <td>1</td>\n",
       "      <td>0.0</td>\n",
       "      <td>1</td>\n",
       "      <td>...</td>\n",
       "      <td>NaN</td>\n",
       "      <td>0</td>\n",
       "      <td>NaN</td>\n",
       "      <td>0</td>\n",
       "      <td>NaN</td>\n",
       "      <td>0</td>\n",
       "      <td>NaN</td>\n",
       "      <td>0</td>\n",
       "      <td>NaN</td>\n",
       "      <td>0</td>\n",
       "    </tr>\n",
       "    <tr>\n",
       "      <th>1</th>\n",
       "      <td>TX</td>\n",
       "      <td>2020-01-01</td>\n",
       "      <td>0</td>\n",
       "      <td>0</td>\n",
       "      <td>3</td>\n",
       "      <td>0</td>\n",
       "      <td>0</td>\n",
       "      <td>3</td>\n",
       "      <td>0.0</td>\n",
       "      <td>1</td>\n",
       "      <td>...</td>\n",
       "      <td>NaN</td>\n",
       "      <td>0</td>\n",
       "      <td>NaN</td>\n",
       "      <td>0</td>\n",
       "      <td>NaN</td>\n",
       "      <td>0</td>\n",
       "      <td>NaN</td>\n",
       "      <td>0</td>\n",
       "      <td>NaN</td>\n",
       "      <td>0</td>\n",
       "    </tr>\n",
       "    <tr>\n",
       "      <th>2</th>\n",
       "      <td>PR</td>\n",
       "      <td>2020-01-01</td>\n",
       "      <td>0</td>\n",
       "      <td>0</td>\n",
       "      <td>1</td>\n",
       "      <td>0</td>\n",
       "      <td>0</td>\n",
       "      <td>1</td>\n",
       "      <td>0.0</td>\n",
       "      <td>1</td>\n",
       "      <td>...</td>\n",
       "      <td>NaN</td>\n",
       "      <td>0</td>\n",
       "      <td>NaN</td>\n",
       "      <td>0</td>\n",
       "      <td>NaN</td>\n",
       "      <td>0</td>\n",
       "      <td>NaN</td>\n",
       "      <td>0</td>\n",
       "      <td>NaN</td>\n",
       "      <td>0</td>\n",
       "    </tr>\n",
       "    <tr>\n",
       "      <th>3</th>\n",
       "      <td>HI</td>\n",
       "      <td>2020-01-01</td>\n",
       "      <td>0</td>\n",
       "      <td>0</td>\n",
       "      <td>1</td>\n",
       "      <td>0</td>\n",
       "      <td>0</td>\n",
       "      <td>1</td>\n",
       "      <td>0.0</td>\n",
       "      <td>1</td>\n",
       "      <td>...</td>\n",
       "      <td>NaN</td>\n",
       "      <td>0</td>\n",
       "      <td>NaN</td>\n",
       "      <td>0</td>\n",
       "      <td>NaN</td>\n",
       "      <td>0</td>\n",
       "      <td>NaN</td>\n",
       "      <td>0</td>\n",
       "      <td>NaN</td>\n",
       "      <td>0</td>\n",
       "    </tr>\n",
       "    <tr>\n",
       "      <th>4</th>\n",
       "      <td>IN</td>\n",
       "      <td>2020-01-01</td>\n",
       "      <td>0</td>\n",
       "      <td>0</td>\n",
       "      <td>1</td>\n",
       "      <td>0</td>\n",
       "      <td>0</td>\n",
       "      <td>1</td>\n",
       "      <td>0.0</td>\n",
       "      <td>1</td>\n",
       "      <td>...</td>\n",
       "      <td>NaN</td>\n",
       "      <td>0</td>\n",
       "      <td>NaN</td>\n",
       "      <td>0</td>\n",
       "      <td>NaN</td>\n",
       "      <td>0</td>\n",
       "      <td>NaN</td>\n",
       "      <td>0</td>\n",
       "      <td>NaN</td>\n",
       "      <td>0</td>\n",
       "    </tr>\n",
       "    <tr>\n",
       "      <th>...</th>\n",
       "      <td>...</td>\n",
       "      <td>...</td>\n",
       "      <td>...</td>\n",
       "      <td>...</td>\n",
       "      <td>...</td>\n",
       "      <td>...</td>\n",
       "      <td>...</td>\n",
       "      <td>...</td>\n",
       "      <td>...</td>\n",
       "      <td>...</td>\n",
       "      <td>...</td>\n",
       "      <td>...</td>\n",
       "      <td>...</td>\n",
       "      <td>...</td>\n",
       "      <td>...</td>\n",
       "      <td>...</td>\n",
       "      <td>...</td>\n",
       "      <td>...</td>\n",
       "      <td>...</td>\n",
       "      <td>...</td>\n",
       "      <td>...</td>\n",
       "    </tr>\n",
       "    <tr>\n",
       "      <th>16441</th>\n",
       "      <td>NV</td>\n",
       "      <td>2020-12-31</td>\n",
       "      <td>20</td>\n",
       "      <td>41</td>\n",
       "      <td>2</td>\n",
       "      <td>23</td>\n",
       "      <td>38</td>\n",
       "      <td>2</td>\n",
       "      <td>45.0</td>\n",
       "      <td>61</td>\n",
       "      <td>...</td>\n",
       "      <td>NaN</td>\n",
       "      <td>0</td>\n",
       "      <td>NaN</td>\n",
       "      <td>0</td>\n",
       "      <td>NaN</td>\n",
       "      <td>0</td>\n",
       "      <td>0.0</td>\n",
       "      <td>5</td>\n",
       "      <td>0.0</td>\n",
       "      <td>5</td>\n",
       "    </tr>\n",
       "    <tr>\n",
       "      <th>16442</th>\n",
       "      <td>SD</td>\n",
       "      <td>2020-12-31</td>\n",
       "      <td>1</td>\n",
       "      <td>61</td>\n",
       "      <td>3</td>\n",
       "      <td>2</td>\n",
       "      <td>60</td>\n",
       "      <td>3</td>\n",
       "      <td>46.0</td>\n",
       "      <td>62</td>\n",
       "      <td>...</td>\n",
       "      <td>NaN</td>\n",
       "      <td>0</td>\n",
       "      <td>NaN</td>\n",
       "      <td>0</td>\n",
       "      <td>NaN</td>\n",
       "      <td>0</td>\n",
       "      <td>30.0</td>\n",
       "      <td>62</td>\n",
       "      <td>83.0</td>\n",
       "      <td>62</td>\n",
       "    </tr>\n",
       "    <tr>\n",
       "      <th>16443</th>\n",
       "      <td>AR</td>\n",
       "      <td>2020-12-31</td>\n",
       "      <td>18</td>\n",
       "      <td>92</td>\n",
       "      <td>2</td>\n",
       "      <td>21</td>\n",
       "      <td>89</td>\n",
       "      <td>2</td>\n",
       "      <td>14.0</td>\n",
       "      <td>110</td>\n",
       "      <td>...</td>\n",
       "      <td>NaN</td>\n",
       "      <td>0</td>\n",
       "      <td>NaN</td>\n",
       "      <td>0</td>\n",
       "      <td>NaN</td>\n",
       "      <td>0</td>\n",
       "      <td>238.0</td>\n",
       "      <td>110</td>\n",
       "      <td>415.0</td>\n",
       "      <td>110</td>\n",
       "    </tr>\n",
       "    <tr>\n",
       "      <th>16444</th>\n",
       "      <td>LA</td>\n",
       "      <td>2020-12-31</td>\n",
       "      <td>47</td>\n",
       "      <td>166</td>\n",
       "      <td>8</td>\n",
       "      <td>50</td>\n",
       "      <td>163</td>\n",
       "      <td>8</td>\n",
       "      <td>14.0</td>\n",
       "      <td>213</td>\n",
       "      <td>...</td>\n",
       "      <td>NaN</td>\n",
       "      <td>0</td>\n",
       "      <td>NaN</td>\n",
       "      <td>0</td>\n",
       "      <td>NaN</td>\n",
       "      <td>0</td>\n",
       "      <td>4.0</td>\n",
       "      <td>4</td>\n",
       "      <td>11.0</td>\n",
       "      <td>4</td>\n",
       "    </tr>\n",
       "    <tr>\n",
       "      <th>16445</th>\n",
       "      <td>GA</td>\n",
       "      <td>2020-12-31</td>\n",
       "      <td>42</td>\n",
       "      <td>113</td>\n",
       "      <td>15</td>\n",
       "      <td>47</td>\n",
       "      <td>108</td>\n",
       "      <td>15</td>\n",
       "      <td>99.0</td>\n",
       "      <td>167</td>\n",
       "      <td>...</td>\n",
       "      <td>NaN</td>\n",
       "      <td>0</td>\n",
       "      <td>NaN</td>\n",
       "      <td>0</td>\n",
       "      <td>NaN</td>\n",
       "      <td>0</td>\n",
       "      <td>106.0</td>\n",
       "      <td>80</td>\n",
       "      <td>226.0</td>\n",
       "      <td>80</td>\n",
       "    </tr>\n",
       "  </tbody>\n",
       "</table>\n",
       "<p>16446 rows × 135 columns</p>\n",
       "</div>"
      ],
      "text/plain": [
       "      state       date  critical_staffing_shortage_today_yes  \\\n",
       "0        MT 2020-01-01                                     0   \n",
       "1        TX 2020-01-01                                     0   \n",
       "2        PR 2020-01-01                                     0   \n",
       "3        HI 2020-01-01                                     0   \n",
       "4        IN 2020-01-01                                     0   \n",
       "...     ...        ...                                   ...   \n",
       "16441    NV 2020-12-31                                    20   \n",
       "16442    SD 2020-12-31                                     1   \n",
       "16443    AR 2020-12-31                                    18   \n",
       "16444    LA 2020-12-31                                    47   \n",
       "16445    GA 2020-12-31                                    42   \n",
       "\n",
       "       critical_staffing_shortage_today_no  \\\n",
       "0                                        0   \n",
       "1                                        0   \n",
       "2                                        0   \n",
       "3                                        0   \n",
       "4                                        0   \n",
       "...                                    ...   \n",
       "16441                                   41   \n",
       "16442                                   61   \n",
       "16443                                   92   \n",
       "16444                                  166   \n",
       "16445                                  113   \n",
       "\n",
       "       critical_staffing_shortage_today_not_reported  \\\n",
       "0                                                  1   \n",
       "1                                                  3   \n",
       "2                                                  1   \n",
       "3                                                  1   \n",
       "4                                                  1   \n",
       "...                                              ...   \n",
       "16441                                              2   \n",
       "16442                                              3   \n",
       "16443                                              2   \n",
       "16444                                              8   \n",
       "16445                                             15   \n",
       "\n",
       "       critical_staffing_shortage_anticipated_within_week_yes  \\\n",
       "0                                                      0        \n",
       "1                                                      0        \n",
       "2                                                      0        \n",
       "3                                                      0        \n",
       "4                                                      0        \n",
       "...                                                  ...        \n",
       "16441                                                 23        \n",
       "16442                                                  2        \n",
       "16443                                                 21        \n",
       "16444                                                 50        \n",
       "16445                                                 47        \n",
       "\n",
       "       critical_staffing_shortage_anticipated_within_week_no  \\\n",
       "0                                                      0       \n",
       "1                                                      0       \n",
       "2                                                      0       \n",
       "3                                                      0       \n",
       "4                                                      0       \n",
       "...                                                  ...       \n",
       "16441                                                 38       \n",
       "16442                                                 60       \n",
       "16443                                                 89       \n",
       "16444                                                163       \n",
       "16445                                                108       \n",
       "\n",
       "       critical_staffing_shortage_anticipated_within_week_not_reported  \\\n",
       "0                                                      1                 \n",
       "1                                                      3                 \n",
       "2                                                      1                 \n",
       "3                                                      1                 \n",
       "4                                                      1                 \n",
       "...                                                  ...                 \n",
       "16441                                                  2                 \n",
       "16442                                                  3                 \n",
       "16443                                                  2                 \n",
       "16444                                                  8                 \n",
       "16445                                                 15                 \n",
       "\n",
       "       hospital_onset_covid  hospital_onset_covid_coverage  ...  \\\n",
       "0                       0.0                              1  ...   \n",
       "1                       0.0                              1  ...   \n",
       "2                       0.0                              1  ...   \n",
       "3                       0.0                              1  ...   \n",
       "4                       0.0                              1  ...   \n",
       "...                     ...                            ...  ...   \n",
       "16441                  45.0                             61  ...   \n",
       "16442                  46.0                             62  ...   \n",
       "16443                  14.0                            110  ...   \n",
       "16444                  14.0                            213  ...   \n",
       "16445                  99.0                            167  ...   \n",
       "\n",
       "       previous_day_admission_pediatric_covid_confirmed_5_11  \\\n",
       "0                                                    NaN       \n",
       "1                                                    NaN       \n",
       "2                                                    NaN       \n",
       "3                                                    NaN       \n",
       "4                                                    NaN       \n",
       "...                                                  ...       \n",
       "16441                                                NaN       \n",
       "16442                                                NaN       \n",
       "16443                                                NaN       \n",
       "16444                                                NaN       \n",
       "16445                                                NaN       \n",
       "\n",
       "       previous_day_admission_pediatric_covid_confirmed_5_11_coverage  \\\n",
       "0                                                      0                \n",
       "1                                                      0                \n",
       "2                                                      0                \n",
       "3                                                      0                \n",
       "4                                                      0                \n",
       "...                                                  ...                \n",
       "16441                                                  0                \n",
       "16442                                                  0                \n",
       "16443                                                  0                \n",
       "16444                                                  0                \n",
       "16445                                                  0                \n",
       "\n",
       "       previous_day_admission_pediatric_covid_confirmed_unknown  \\\n",
       "0                                                    NaN          \n",
       "1                                                    NaN          \n",
       "2                                                    NaN          \n",
       "3                                                    NaN          \n",
       "4                                                    NaN          \n",
       "...                                                  ...          \n",
       "16441                                                NaN          \n",
       "16442                                                NaN          \n",
       "16443                                                NaN          \n",
       "16444                                                NaN          \n",
       "16445                                                NaN          \n",
       "\n",
       "       previous_day_admission_pediatric_covid_confirmed_unknown_coverage  \\\n",
       "0                                                      0                   \n",
       "1                                                      0                   \n",
       "2                                                      0                   \n",
       "3                                                      0                   \n",
       "4                                                      0                   \n",
       "...                                                  ...                   \n",
       "16441                                                  0                   \n",
       "16442                                                  0                   \n",
       "16443                                                  0                   \n",
       "16444                                                  0                   \n",
       "16445                                                  0                   \n",
       "\n",
       "       staffed_icu_pediatric_patients_confirmed_covid  \\\n",
       "0                                                 NaN   \n",
       "1                                                 NaN   \n",
       "2                                                 NaN   \n",
       "3                                                 NaN   \n",
       "4                                                 NaN   \n",
       "...                                               ...   \n",
       "16441                                             NaN   \n",
       "16442                                             NaN   \n",
       "16443                                             NaN   \n",
       "16444                                             NaN   \n",
       "16445                                             NaN   \n",
       "\n",
       "       staffed_icu_pediatric_patients_confirmed_covid_coverage  \\\n",
       "0                                                      0         \n",
       "1                                                      0         \n",
       "2                                                      0         \n",
       "3                                                      0         \n",
       "4                                                      0         \n",
       "...                                                  ...         \n",
       "16441                                                  0         \n",
       "16442                                                  0         \n",
       "16443                                                  0         \n",
       "16444                                                  0         \n",
       "16445                                                  0         \n",
       "\n",
       "       staffed_pediatric_icu_bed_occupancy  \\\n",
       "0                                      NaN   \n",
       "1                                      NaN   \n",
       "2                                      NaN   \n",
       "3                                      NaN   \n",
       "4                                      NaN   \n",
       "...                                    ...   \n",
       "16441                                  0.0   \n",
       "16442                                 30.0   \n",
       "16443                                238.0   \n",
       "16444                                  4.0   \n",
       "16445                                106.0   \n",
       "\n",
       "       staffed_pediatric_icu_bed_occupancy_coverage  \\\n",
       "0                                                 0   \n",
       "1                                                 0   \n",
       "2                                                 0   \n",
       "3                                                 0   \n",
       "4                                                 0   \n",
       "...                                             ...   \n",
       "16441                                             5   \n",
       "16442                                            62   \n",
       "16443                                           110   \n",
       "16444                                             4   \n",
       "16445                                            80   \n",
       "\n",
       "       total_staffed_pediatric_icu_beds  \\\n",
       "0                                   NaN   \n",
       "1                                   NaN   \n",
       "2                                   NaN   \n",
       "3                                   NaN   \n",
       "4                                   NaN   \n",
       "...                                 ...   \n",
       "16441                               0.0   \n",
       "16442                              83.0   \n",
       "16443                             415.0   \n",
       "16444                              11.0   \n",
       "16445                             226.0   \n",
       "\n",
       "       total_staffed_pediatric_icu_beds_coverage  \n",
       "0                                              0  \n",
       "1                                              0  \n",
       "2                                              0  \n",
       "3                                              0  \n",
       "4                                              0  \n",
       "...                                          ...  \n",
       "16441                                          5  \n",
       "16442                                         62  \n",
       "16443                                        110  \n",
       "16444                                          4  \n",
       "16445                                         80  \n",
       "\n",
       "[16446 rows x 135 columns]"
      ]
     },
     "execution_count": 69,
     "metadata": {},
     "output_type": "execute_result"
    }
   ],
   "source": [
    "df = data_df[data_df['date'] < '2021-01-01']\n",
    "df"
   ]
  },
  {
   "cell_type": "code",
   "execution_count": 70,
   "metadata": {},
   "outputs": [
    {
     "data": {
      "text/html": [
       "<div>\n",
       "<style scoped>\n",
       "    .dataframe tbody tr th:only-of-type {\n",
       "        vertical-align: middle;\n",
       "    }\n",
       "\n",
       "    .dataframe tbody tr th {\n",
       "        vertical-align: top;\n",
       "    }\n",
       "\n",
       "    .dataframe thead th {\n",
       "        text-align: right;\n",
       "    }\n",
       "</style>\n",
       "<table border=\"1\" class=\"dataframe\">\n",
       "  <thead>\n",
       "    <tr style=\"text-align: right;\">\n",
       "      <th></th>\n",
       "      <th>total_pediatric_patients_hospitalized_confirmed_covid</th>\n",
       "      <th>states_full</th>\n",
       "    </tr>\n",
       "    <tr>\n",
       "      <th>state</th>\n",
       "      <th></th>\n",
       "      <th></th>\n",
       "    </tr>\n",
       "  </thead>\n",
       "  <tbody>\n",
       "    <tr>\n",
       "      <th>TX</th>\n",
       "      <td>12525.0</td>\n",
       "      <td>Texas</td>\n",
       "    </tr>\n",
       "    <tr>\n",
       "      <th>CA</th>\n",
       "      <td>10012.0</td>\n",
       "      <td>California</td>\n",
       "    </tr>\n",
       "    <tr>\n",
       "      <th>FL</th>\n",
       "      <td>7239.0</td>\n",
       "      <td>Florida</td>\n",
       "    </tr>\n",
       "    <tr>\n",
       "      <th>AZ</th>\n",
       "      <td>5762.0</td>\n",
       "      <td>Arizona</td>\n",
       "    </tr>\n",
       "    <tr>\n",
       "      <th>PA</th>\n",
       "      <td>5686.0</td>\n",
       "      <td>Pensilvania</td>\n",
       "    </tr>\n",
       "  </tbody>\n",
       "</table>\n",
       "</div>"
      ],
      "text/plain": [
       "       total_pediatric_patients_hospitalized_confirmed_covid  states_full\n",
       "state                                                                    \n",
       "TX                                               12525.0            Texas\n",
       "CA                                               10012.0       California\n",
       "FL                                                7239.0          Florida\n",
       "AZ                                                5762.0          Arizona\n",
       "PA                                                5686.0      Pensilvania"
      ]
     },
     "execution_count": 70,
     "metadata": {},
     "output_type": "execute_result"
    }
   ],
   "source": [
    "df = df[['state', 'total_pediatric_patients_hospitalized_confirmed_covid']]\n",
    "df_group = df.groupby('state').sum()\n",
    "df_group.sort_values('total_pediatric_patients_hospitalized_confirmed_covid', ascending=False, inplace=True)\n",
    "peds = df_group.head(5).copy()\n",
    "peds['states_full'] = ['Texas', 'California', 'Florida', 'Arizona', 'Pensilvania']\n",
    "peds"
   ]
  },
  {
   "cell_type": "code",
   "execution_count": 71,
   "metadata": {},
   "outputs": [
    {
     "data": {
      "text/plain": [
       "<matplotlib.patches.Rectangle at 0x29067ada3a0>"
      ]
     },
     "execution_count": 71,
     "metadata": {},
     "output_type": "execute_result"
    },
    {
     "data": {
      "image/png": "[encoded data removed]",
      "text/plain": [
       "<Figure size 864x504 with 1 Axes>"
      ]
     },
     "metadata": {
      "needs_background": "light"
     },
     "output_type": "display_data"
    }
   ],
   "source": [
    "fig,ax = plt.subplots(figsize=(12, 7))\n",
    "sns.barplot(x='total_pediatric_patients_hospitalized_confirmed_covid', y='states_full', data=peds)\n",
    "\n",
    "ax.set_axisbelow(True)\n",
    "ax.grid(axis = \"x\", color=\"#A8BAC4\", lw=1.2)\n",
    "ax.spines[\"right\"].set_visible(False)\n",
    "ax.spines[\"top\"].set_visible(False)\n",
    "ax.spines[\"bottom\"].set_visible(False)\n",
    "ax.spines[\"left\"].set_lw(1.5)\n",
    "ax.xaxis.set_tick_params(labelbottom=False, labeltop=True, length=0)\n",
    "\n",
    "plt.ylabel('')\n",
    "plt.xlabel('')\n",
    "\n",
    "fig.subplots_adjust(left=0.005, right=1, top=0.8, bottom=0.1)\n",
    "fig.text(\n",
    "    0, 0.925, \"Número de camas pediátricas ocupadas\", \n",
    "    fontsize=16, fontweight=\"bold\"\n",
    ")\n",
    "fig.text(\n",
    "    0, 0.875, \"Periodo 2020-01-01 a 2020-06-30\", \n",
    "    fontsize=14\n",
    ")\n",
    "source = \"Sources: U.S. Department of Health & Human Services - HealthData.gov\"\n",
    "fig.text(\n",
    "    0, 0.06, source, color=\"#a2a2a2\", \n",
    "    fontsize=14, fontfamily=\"Econ Sans Cnd\"\n",
    ")\n",
    "fig.add_artist(lines.Line2D([0, 1], [1, 1], lw=3, color='red', solid_capstyle=\"butt\"))\n",
    "fig.add_artist(patches.Rectangle((0, 0.975), 0.05, 0.025, color='red'))"
   ]
  },
  {
   "cell_type": "markdown",
   "metadata": {},
   "source": [
    "En el caso de camas pediátricas, Texas, California y Florida vuelven a aparecer, estos son los 3 estados más poblados de la comunidad americana. Los sigue Arizona y Pensilvania, que son el quinto y catorceavo estado en población respectivamente. Algo importante a decir es que la Academia Americana de pediatría, solo recopila datos de 49 estados de los Estados Unidos con respecto al covid, dentro de los cuales no se encuentra Texas, que solo reporta una pequeña porción de los casos relacionados con menores de edad, por lo que los casos en Texas pueden ser más de lo reportado. Así pues la información sobre la ocupación de camas de pediatría no es muy confiable. Sin embargo, es preocupante la cantidad de camas ocupadas por pacientes menores de edad."
   ]
  },
  {
   "cell_type": "markdown",
   "metadata": {},
   "source": [
    "## 5 - ¿Qué porcentaje de camas UCI corresponden a casos confirmados de COVID-19? Agrupe por Estado."
   ]
  },
  {
   "cell_type": "code",
   "execution_count": 72,
   "metadata": {},
   "outputs": [
    {
     "data": {
      "text/html": [
       "<div>\n",
       "<style scoped>\n",
       "    .dataframe tbody tr th:only-of-type {\n",
       "        vertical-align: middle;\n",
       "    }\n",
       "\n",
       "    .dataframe tbody tr th {\n",
       "        vertical-align: top;\n",
       "    }\n",
       "\n",
       "    .dataframe thead th {\n",
       "        text-align: right;\n",
       "    }\n",
       "</style>\n",
       "<table border=\"1\" class=\"dataframe\">\n",
       "  <thead>\n",
       "    <tr style=\"text-align: right;\">\n",
       "      <th></th>\n",
       "      <th>icu_beds_available</th>\n",
       "      <th>icu_beds_occupied</th>\n",
       "      <th>%_occupation</th>\n",
       "    </tr>\n",
       "    <tr>\n",
       "      <th>state</th>\n",
       "      <th></th>\n",
       "      <th></th>\n",
       "      <th></th>\n",
       "    </tr>\n",
       "  </thead>\n",
       "  <tbody>\n",
       "    <tr>\n",
       "      <th>TX</th>\n",
       "      <td>5054130.0</td>\n",
       "      <td>4381263.0</td>\n",
       "      <td>86.687</td>\n",
       "    </tr>\n",
       "    <tr>\n",
       "      <th>AL</th>\n",
       "      <td>1169591.0</td>\n",
       "      <td>995509.0</td>\n",
       "      <td>85.116</td>\n",
       "    </tr>\n",
       "    <tr>\n",
       "      <th>RI</th>\n",
       "      <td>116703.0</td>\n",
       "      <td>96462.0</td>\n",
       "      <td>82.656</td>\n",
       "    </tr>\n",
       "    <tr>\n",
       "      <th>GA</th>\n",
       "      <td>1931468.0</td>\n",
       "      <td>1578410.0</td>\n",
       "      <td>81.721</td>\n",
       "    </tr>\n",
       "    <tr>\n",
       "      <th>NM</th>\n",
       "      <td>319348.0</td>\n",
       "      <td>259303.0</td>\n",
       "      <td>81.198</td>\n",
       "    </tr>\n",
       "  </tbody>\n",
       "</table>\n",
       "</div>"
      ],
      "text/plain": [
       "       icu_beds_available  icu_beds_occupied  %_occupation\n",
       "state                                                     \n",
       "TX              5054130.0          4381263.0        86.687\n",
       "AL              1169591.0           995509.0        85.116\n",
       "RI               116703.0            96462.0        82.656\n",
       "GA              1931468.0          1578410.0        81.721\n",
       "NM               319348.0           259303.0        81.198"
      ]
     },
     "execution_count": 72,
     "metadata": {},
     "output_type": "execute_result"
    }
   ],
   "source": [
    "df = data_df[['state', 'total_staffed_adult_icu_beds', 'staffed_adult_icu_bed_occupancy']].copy()\n",
    "df.rename(columns={\n",
    "    'total_staffed_adult_icu_beds' : 'icu_beds_available',\n",
    "    'staffed_adult_icu_bed_occupancy' : 'icu_beds_occupied'\n",
    "}, inplace=True)\n",
    "df_grouped = df.groupby('state').sum()\n",
    "df_grouped['%_occupation'] = round((df_grouped['icu_beds_occupied'] / df_grouped['icu_beds_available']) * 100, 3)\n",
    "df_grouped.sort_values('%_occupation', ascending=False, inplace=True)\n",
    "df_grouped.head()"
   ]
  },
  {
   "cell_type": "code",
   "execution_count": 73,
   "metadata": {},
   "outputs": [
    {
     "data": {
      "application/vnd.plotly.v1+json": {
       "config": {
        "linkText": "Export to plot.ly",
        "plotlyServerURL": "https://plot.ly",
        "showLink": false
       },
       "data": [
        {
         "locationmode": "USA-states",
         "locations": [
          "TX",
          "AL",
          "RI",
          "GA",
          "NM",
          "MS",
          "NC",
          "DE",
          "IA",
          "MI",
          "NV",
          "FL",
          "MO",
          "PA",
          "OK",
          "DC",
          "WA",
          "AK",
          "MN",
          "AR",
          "CA",
          "WV",
          "KS",
          "KY",
          "SC",
          "ID",
          "ME",
          "MD",
          "LA",
          "IN",
          "OH",
          "OR",
          "MA",
          "PR",
          "VT",
          "VA",
          "TN",
          "UT",
          "CO",
          "HI",
          "NH",
          "NE",
          "NY",
          "IL",
          "ND",
          "MT",
          "AZ",
          "WI",
          "SD",
          "CT",
          "AS",
          "NJ",
          "VI",
          "WY"
         ],
         "type": "choropleth",
         "z": [
          86.687,
          85.116,
          82.656,
          81.721,
          81.198,
          80.212,
          79.231,
          79.192,
          79.028,
          77.731,
          77.722,
          77.721,
          77.653,
          77.506,
          77.367,
          76.962,
          76.471,
          75.316,
          74.819,
          74.813,
          74.587,
          74.482,
          73.451,
          73.3,
          73.099,
          71.912,
          71.276,
          71.264,
          71.114,
          71.067,
          70.79,
          70.784,
          70.353,
          69.515,
          69.025,
          69.002,
          68.859,
          68.446,
          67.873,
          67.611,
          67.393,
          67.118,
          66.432,
          63.922,
          63.606,
          62.869,
          62.714,
          62.699,
          59.521,
          58.306,
          54.833,
          47.542,
          42.92,
          41.162
         ]
        }
       ],
       "layout": {
        "geo": {
         "scope": "usa"
        },
        "height": 600,
        "template": {
         "data": {
          "bar": [
           {
            "error_x": {
             "color": "#2a3f5f"
            },
            "error_y": {
             "color": "#2a3f5f"
            },
            "marker": {
             "line": {
              "color": "#E5ECF6",
              "width": 0.5
             },
             "pattern": {
              "fillmode": "overlay",
              "size": 10,
              "solidity": 0.2
             }
            },
            "type": "bar"
           }
          ],
          "barpolar": [
           {
            "marker": {
             "line": {
              "color": "#E5ECF6",
              "width": 0.5
             },
             "pattern": {
              "fillmode": "overlay",
              "size": 10,
              "solidity": 0.2
             }
            },
            "type": "barpolar"
           }
          ],
          "carpet": [
           {
            "aaxis": {
             "endlinecolor": "#2a3f5f",
             "gridcolor": "white",
             "linecolor": "white",
             "minorgridcolor": "white",
             "startlinecolor": "#2a3f5f"
            },
            "baxis": {
             "endlinecolor": "#2a3f5f",
             "gridcolor": "white",
             "linecolor": "white",
             "minorgridcolor": "white",
             "startlinecolor": "#2a3f5f"
            },
            "type": "carpet"
           }
          ],
          "choropleth": [
           {
            "colorbar": {
             "outlinewidth": 0,
             "ticks": ""
            },
            "type": "choropleth"
           }
          ],
          "contour": [
           {
            "colorbar": {
             "outlinewidth": 0,
             "ticks": ""
            },
            "colorscale": [
             [
              0,
              "#0d0887"
             ],
             [
              0.1111111111111111,
              "#46039f"
             ],
             [
              0.2222222222222222,
              "#7201a8"
             ],
             [
              0.3333333333333333,
              "#9c179e"
             ],
             [
              0.4444444444444444,
              "#bd3786"
             ],
             [
              0.5555555555555556,
              "#d8576b"
             ],
             [
              0.6666666666666666,
              "#ed7953"
             ],
             [
              0.7777777777777778,
              "#fb9f3a"
             ],
             [
              0.8888888888888888,
              "#fdca26"
             ],
             [
              1,
              "#f0f921"
             ]
            ],
            "type": "contour"
           }
          ],
          "contourcarpet": [
           {
            "colorbar": {
             "outlinewidth": 0,
             "ticks": ""
            },
            "type": "contourcarpet"
           }
          ],
          "heatmap": [
           {
            "colorbar": {
             "outlinewidth": 0,
             "ticks": ""
            },
            "colorscale": [
             [
              0,
              "#0d0887"
             ],
             [
              0.1111111111111111,
              "#46039f"
             ],
             [
              0.2222222222222222,
              "#7201a8"
             ],
             [
              0.3333333333333333,
              "#9c179e"
             ],
             [
              0.4444444444444444,
              "#bd3786"
             ],
             [
              0.5555555555555556,
              "#d8576b"
             ],
             [
              0.6666666666666666,
              "#ed7953"
             ],
             [
              0.7777777777777778,
              "#fb9f3a"
             ],
             [
              0.8888888888888888,
              "#fdca26"
             ],
             [
              1,
              "#f0f921"
             ]
            ],
            "type": "heatmap"
           }
          ],
          "heatmapgl": [
           {
            "colorbar": {
             "outlinewidth": 0,
             "ticks": ""
            },
            "colorscale": [
             [
              0,
              "#0d0887"
             ],
             [
              0.1111111111111111,
              "#46039f"
             ],
             [
              0.2222222222222222,
              "#7201a8"
             ],
             [
              0.3333333333333333,
              "#9c179e"
             ],
             [
              0.4444444444444444,
              "#bd3786"
             ],
             [
              0.5555555555555556,
              "#d8576b"
             ],
             [
              0.6666666666666666,
              "#ed7953"
             ],
             [
              0.7777777777777778,
              "#fb9f3a"
             ],
             [
              0.8888888888888888,
              "#fdca26"
             ],
             [
              1,
              "#f0f921"
             ]
            ],
            "type": "heatmapgl"
           }
          ],
          "histogram": [
           {
            "marker": {
             "pattern": {
              "fillmode": "overlay",
              "size": 10,
              "solidity": 0.2
             }
            },
            "type": "histogram"
           }
          ],
          "histogram2d": [
           {
            "colorbar": {
             "outlinewidth": 0,
             "ticks": ""
            },
            "colorscale": [
             [
              0,
              "#0d0887"
             ],
             [
              0.1111111111111111,
              "#46039f"
             ],
             [
              0.2222222222222222,
              "#7201a8"
             ],
             [
              0.3333333333333333,
              "#9c179e"
             ],
             [
              0.4444444444444444,
              "#bd3786"
             ],
             [
              0.5555555555555556,
              "#d8576b"
             ],
             [
              0.6666666666666666,
              "#ed7953"
             ],
             [
              0.7777777777777778,
              "#fb9f3a"
             ],
             [
              0.8888888888888888,
              "#fdca26"
             ],
             [
              1,
              "#f0f921"
             ]
            ],
            "type": "histogram2d"
           }
          ],
          "histogram2dcontour": [
           {
            "colorbar": {
             "outlinewidth": 0,
             "ticks": ""
            },
            "colorscale": [
             [
              0,
              "#0d0887"
             ],
             [
              0.1111111111111111,
              "#46039f"
             ],
             [
              0.2222222222222222,
              "#7201a8"
             ],
             [
              0.3333333333333333,
              "#9c179e"
             ],
             [
              0.4444444444444444,
              "#bd3786"
             ],
             [
              0.5555555555555556,
              "#d8576b"
             ],
             [
              0.6666666666666666,
              "#ed7953"
             ],
             [
              0.7777777777777778,
              "#fb9f3a"
             ],
             [
              0.8888888888888888,
              "#fdca26"
             ],
             [
              1,
              "#f0f921"
             ]
            ],
            "type": "histogram2dcontour"
           }
          ],
          "mesh3d": [
           {
            "colorbar": {
             "outlinewidth": 0,
             "ticks": ""
            },
            "type": "mesh3d"
           }
          ],
          "parcoords": [
           {
            "line": {
             "colorbar": {
              "outlinewidth": 0,
              "ticks": ""
             }
            },
            "type": "parcoords"
           }
          ],
          "pie": [
           {
            "automargin": true,
            "type": "pie"
           }
          ],
          "scatter": [
           {
            "fillpattern": {
             "fillmode": "overlay",
             "size": 10,
             "solidity": 0.2
            },
            "type": "scatter"
           }
          ],
          "scatter3d": [
           {
            "line": {
             "colorbar": {
              "outlinewidth": 0,
              "ticks": ""
             }
            },
            "marker": {
             "colorbar": {
              "outlinewidth": 0,
              "ticks": ""
             }
            },
            "type": "scatter3d"
           }
          ],
          "scattercarpet": [
           {
            "marker": {
             "colorbar": {
              "outlinewidth": 0,
              "ticks": ""
             }
            },
            "type": "scattercarpet"
           }
          ],
          "scattergeo": [
           {
            "marker": {
             "colorbar": {
              "outlinewidth": 0,
              "ticks": ""
             }
            },
            "type": "scattergeo"
           }
          ],
          "scattergl": [
           {
            "marker": {
             "colorbar": {
              "outlinewidth": 0,
              "ticks": ""
             }
            },
            "type": "scattergl"
           }
          ],
          "scattermapbox": [
           {
            "marker": {
             "colorbar": {
              "outlinewidth": 0,
              "ticks": ""
             }
            },
            "type": "scattermapbox"
           }
          ],
          "scatterpolar": [
           {
            "marker": {
             "colorbar": {
              "outlinewidth": 0,
              "ticks": ""
             }
            },
            "type": "scatterpolar"
           }
          ],
          "scatterpolargl": [
           {
            "marker": {
             "colorbar": {
              "outlinewidth": 0,
              "ticks": ""
             }
            },
            "type": "scatterpolargl"
           }
          ],
          "scatterternary": [
           {
            "marker": {
             "colorbar": {
              "outlinewidth": 0,
              "ticks": ""
             }
            },
            "type": "scatterternary"
           }
          ],
          "surface": [
           {
            "colorbar": {
             "outlinewidth": 0,
             "ticks": ""
            },
            "colorscale": [
             [
              0,
              "#0d0887"
             ],
             [
              0.1111111111111111,
              "#46039f"
             ],
             [
              0.2222222222222222,
              "#7201a8"
             ],
             [
              0.3333333333333333,
              "#9c179e"
             ],
             [
              0.4444444444444444,
              "#bd3786"
             ],
             [
              0.5555555555555556,
              "#d8576b"
             ],
             [
              0.6666666666666666,
              "#ed7953"
             ],
             [
              0.7777777777777778,
              "#fb9f3a"
             ],
             [
              0.8888888888888888,
              "#fdca26"
             ],
             [
              1,
              "#f0f921"
             ]
            ],
            "type": "surface"
           }
          ],
          "table": [
           {
            "cells": {
             "fill": {
              "color": "#EBF0F8"
             },
             "line": {
              "color": "white"
             }
            },
            "header": {
             "fill": {
              "color": "#C8D4E3"
             },
             "line": {
              "color": "white"
             }
            },
            "type": "table"
           }
          ]
         },
         "layout": {
          "annotationdefaults": {
           "arrowcolor": "#2a3f5f",
           "arrowhead": 0,
           "arrowwidth": 1
          },
          "autotypenumbers": "strict",
          "coloraxis": {
           "colorbar": {
            "outlinewidth": 0,
            "ticks": ""
           }
          },
          "colorscale": {
           "diverging": [
            [
             0,
             "#8e0152"
            ],
            [
             0.1,
             "#c51b7d"
            ],
            [
             0.2,
             "#de77ae"
            ],
            [
             0.3,
             "#f1b6da"
            ],
            [
             0.4,
             "#fde0ef"
            ],
            [
             0.5,
             "#f7f7f7"
            ],
            [
             0.6,
             "#e6f5d0"
            ],
            [
             0.7,
             "#b8e186"
            ],
            [
             0.8,
             "#7fbc41"
            ],
            [
             0.9,
             "#4d9221"
            ],
            [
             1,
             "#276419"
            ]
           ],
           "sequential": [
            [
             0,
             "#0d0887"
            ],
            [
             0.1111111111111111,
             "#46039f"
            ],
            [
             0.2222222222222222,
             "#7201a8"
            ],
            [
             0.3333333333333333,
             "#9c179e"
            ],
            [
             0.4444444444444444,
             "#bd3786"
            ],
            [
             0.5555555555555556,
             "#d8576b"
            ],
            [
             0.6666666666666666,
             "#ed7953"
            ],
            [
             0.7777777777777778,
             "#fb9f3a"
            ],
            [
             0.8888888888888888,
             "#fdca26"
            ],
            [
             1,
             "#f0f921"
            ]
           ],
           "sequentialminus": [
            [
             0,
             "#0d0887"
            ],
            [
             0.1111111111111111,
             "#46039f"
            ],
            [
             0.2222222222222222,
             "#7201a8"
            ],
            [
             0.3333333333333333,
             "#9c179e"
            ],
            [
             0.4444444444444444,
             "#bd3786"
            ],
            [
             0.5555555555555556,
             "#d8576b"
            ],
            [
             0.6666666666666666,
             "#ed7953"
            ],
            [
             0.7777777777777778,
             "#fb9f3a"
            ],
            [
             0.8888888888888888,
             "#fdca26"
            ],
            [
             1,
             "#f0f921"
            ]
           ]
          },
          "colorway": [
           "#636efa",
           "#EF553B",
           "#00cc96",
           "#ab63fa",
           "#FFA15A",
           "#19d3f3",
           "#FF6692",
           "#B6E880",
           "#FF97FF",
           "#FECB52"
          ],
          "font": {
           "color": "#2a3f5f"
          },
          "geo": {
           "bgcolor": "white",
           "lakecolor": "white",
           "landcolor": "#E5ECF6",
           "showlakes": true,
           "showland": true,
           "subunitcolor": "white"
          },
          "hoverlabel": {
           "align": "left"
          },
          "hovermode": "closest",
          "mapbox": {
           "style": "light"
          },
          "paper_bgcolor": "white",
          "plot_bgcolor": "#E5ECF6",
          "polar": {
           "angularaxis": {
            "gridcolor": "white",
            "linecolor": "white",
            "ticks": ""
           },
           "bgcolor": "#E5ECF6",
           "radialaxis": {
            "gridcolor": "white",
            "linecolor": "white",
            "ticks": ""
           }
          },
          "scene": {
           "xaxis": {
            "backgroundcolor": "#E5ECF6",
            "gridcolor": "white",
            "gridwidth": 2,
            "linecolor": "white",
            "showbackground": true,
            "ticks": "",
            "zerolinecolor": "white"
           },
           "yaxis": {
            "backgroundcolor": "#E5ECF6",
            "gridcolor": "white",
            "gridwidth": 2,
            "linecolor": "white",
            "showbackground": true,
            "ticks": "",
            "zerolinecolor": "white"
           },
           "zaxis": {
            "backgroundcolor": "#E5ECF6",
            "gridcolor": "white",
            "gridwidth": 2,
            "linecolor": "white",
            "showbackground": true,
            "ticks": "",
            "zerolinecolor": "white"
           }
          },
          "shapedefaults": {
           "line": {
            "color": "#2a3f5f"
           }
          },
          "ternary": {
           "aaxis": {
            "gridcolor": "white",
            "linecolor": "white",
            "ticks": ""
           },
           "baxis": {
            "gridcolor": "white",
            "linecolor": "white",
            "ticks": ""
           },
           "bgcolor": "#E5ECF6",
           "caxis": {
            "gridcolor": "white",
            "linecolor": "white",
            "ticks": ""
           }
          },
          "title": {
           "x": 0.05
          },
          "xaxis": {
           "automargin": true,
           "gridcolor": "white",
           "linecolor": "white",
           "ticks": "",
           "title": {
            "standoff": 15
           },
           "zerolinecolor": "white",
           "zerolinewidth": 2
          },
          "yaxis": {
           "automargin": true,
           "gridcolor": "white",
           "linecolor": "white",
           "ticks": "",
           "title": {
            "standoff": 15
           },
           "zerolinecolor": "white",
           "zerolinewidth": 2
          }
         }
        },
        "title": {
         "text": "Porcentaje ocupación camas UCI desde Enero 2020 a hoy"
        },
        "width": 900
       }
      }
     },
     "metadata": {},
     "output_type": "display_data"
    }
   ],
   "source": [
    "data_plot = {\n",
    "    'type':'choropleth',\n",
    "    'locations':df_grouped.index.values,\n",
    "    'locationmode': 'USA-states',\n",
    "    'z':df_grouped['%_occupation']\n",
    "}\n",
    "\n",
    "layout = {'title':'Porcentaje ocupación camas UCI desde Enero 2020 a hoy',\n",
    "          'geo':{'scope':'usa'},\n",
    "          'height': 600,\n",
    "          'width': 900}\n",
    "\n",
    "x = pg.Figure(data = [data_plot], layout=layout)\n",
    "po.iplot(x)"
   ]
  },
  {
   "cell_type": "markdown",
   "metadata": {},
   "source": [
    "Texas ocupa el primer lugar en el porcentaje de camas UCI ocupadas con un 87%, lo cual es interesante ya que como se ha mencionado anteriormente, Texas es el segundo estado con más población en los Estados Unidos. Alabama ocupa el segundo lugar con una ocupación del 85%. Rhode Island ocupa la tercera posición con un 83% de ocupación, le sigue Georgia y Nuevo México con un 82 y 81% respectivamente. Ninguno de estos estados estuvo en una cuarentena obligatoria. En comparación el estado de Wyoming, que tampoco tuvo cuarentena, es el estado con menor porcentaje de ocupación con apenas 41%. Esto se debe a que este estado es el que menos población tiene (sin tener en cuenta los territorios insulares de Estados Unidos en el Atlántico y Pacífico)"
   ]
  },
  {
   "cell_type": "markdown",
   "metadata": {},
   "source": [
    "## 6 - ¿Cuántas muertes por covid hubo, por Estado, durante el año 2021?"
   ]
  },
  {
   "cell_type": "code",
   "execution_count": 74,
   "metadata": {},
   "outputs": [
    {
     "data": {
      "text/html": [
       "<div>\n",
       "<style scoped>\n",
       "    .dataframe tbody tr th:only-of-type {\n",
       "        vertical-align: middle;\n",
       "    }\n",
       "\n",
       "    .dataframe tbody tr th {\n",
       "        vertical-align: top;\n",
       "    }\n",
       "\n",
       "    .dataframe thead th {\n",
       "        text-align: right;\n",
       "    }\n",
       "</style>\n",
       "<table border=\"1\" class=\"dataframe\">\n",
       "  <thead>\n",
       "    <tr style=\"text-align: right;\">\n",
       "      <th></th>\n",
       "      <th>deaths_covid</th>\n",
       "    </tr>\n",
       "    <tr>\n",
       "      <th>state</th>\n",
       "      <th></th>\n",
       "    </tr>\n",
       "  </thead>\n",
       "  <tbody>\n",
       "    <tr>\n",
       "      <th>CA</th>\n",
       "      <td>35108.0</td>\n",
       "    </tr>\n",
       "    <tr>\n",
       "      <th>TX</th>\n",
       "      <td>32889.0</td>\n",
       "    </tr>\n",
       "    <tr>\n",
       "      <th>FL</th>\n",
       "      <td>26004.0</td>\n",
       "    </tr>\n",
       "    <tr>\n",
       "      <th>NY</th>\n",
       "      <td>17620.0</td>\n",
       "    </tr>\n",
       "    <tr>\n",
       "      <th>AZ</th>\n",
       "      <td>16250.0</td>\n",
       "    </tr>\n",
       "    <tr>\n",
       "      <th>PA</th>\n",
       "      <td>13363.0</td>\n",
       "    </tr>\n",
       "    <tr>\n",
       "      <th>GA</th>\n",
       "      <td>12338.0</td>\n",
       "    </tr>\n",
       "    <tr>\n",
       "      <th>OH</th>\n",
       "      <td>12023.0</td>\n",
       "    </tr>\n",
       "    <tr>\n",
       "      <th>NC</th>\n",
       "      <td>10922.0</td>\n",
       "    </tr>\n",
       "    <tr>\n",
       "      <th>TN</th>\n",
       "      <td>9439.0</td>\n",
       "    </tr>\n",
       "    <tr>\n",
       "      <th>MI</th>\n",
       "      <td>9332.0</td>\n",
       "    </tr>\n",
       "    <tr>\n",
       "      <th>IL</th>\n",
       "      <td>7500.0</td>\n",
       "    </tr>\n",
       "    <tr>\n",
       "      <th>KY</th>\n",
       "      <td>7252.0</td>\n",
       "    </tr>\n",
       "    <tr>\n",
       "      <th>NJ</th>\n",
       "      <td>6889.0</td>\n",
       "    </tr>\n",
       "    <tr>\n",
       "      <th>VA</th>\n",
       "      <td>6479.0</td>\n",
       "    </tr>\n",
       "    <tr>\n",
       "      <th>SC</th>\n",
       "      <td>6434.0</td>\n",
       "    </tr>\n",
       "    <tr>\n",
       "      <th>AL</th>\n",
       "      <td>6390.0</td>\n",
       "    </tr>\n",
       "    <tr>\n",
       "      <th>MO</th>\n",
       "      <td>6285.0</td>\n",
       "    </tr>\n",
       "    <tr>\n",
       "      <th>IN</th>\n",
       "      <td>5846.0</td>\n",
       "    </tr>\n",
       "    <tr>\n",
       "      <th>PR</th>\n",
       "      <td>4516.0</td>\n",
       "    </tr>\n",
       "    <tr>\n",
       "      <th>NV</th>\n",
       "      <td>4412.0</td>\n",
       "    </tr>\n",
       "    <tr>\n",
       "      <th>OK</th>\n",
       "      <td>4180.0</td>\n",
       "    </tr>\n",
       "    <tr>\n",
       "      <th>MD</th>\n",
       "      <td>4025.0</td>\n",
       "    </tr>\n",
       "    <tr>\n",
       "      <th>WA</th>\n",
       "      <td>3847.0</td>\n",
       "    </tr>\n",
       "    <tr>\n",
       "      <th>WI</th>\n",
       "      <td>3665.0</td>\n",
       "    </tr>\n",
       "    <tr>\n",
       "      <th>MS</th>\n",
       "      <td>3664.0</td>\n",
       "    </tr>\n",
       "    <tr>\n",
       "      <th>MA</th>\n",
       "      <td>3631.0</td>\n",
       "    </tr>\n",
       "    <tr>\n",
       "      <th>LA</th>\n",
       "      <td>3624.0</td>\n",
       "    </tr>\n",
       "    <tr>\n",
       "      <th>AR</th>\n",
       "      <td>3582.0</td>\n",
       "    </tr>\n",
       "    <tr>\n",
       "      <th>CO</th>\n",
       "      <td>2835.0</td>\n",
       "    </tr>\n",
       "    <tr>\n",
       "      <th>CT</th>\n",
       "      <td>2725.0</td>\n",
       "    </tr>\n",
       "    <tr>\n",
       "      <th>WV</th>\n",
       "      <td>2507.0</td>\n",
       "    </tr>\n",
       "    <tr>\n",
       "      <th>KS</th>\n",
       "      <td>2469.0</td>\n",
       "    </tr>\n",
       "    <tr>\n",
       "      <th>OR</th>\n",
       "      <td>2412.0</td>\n",
       "    </tr>\n",
       "    <tr>\n",
       "      <th>MN</th>\n",
       "      <td>2377.0</td>\n",
       "    </tr>\n",
       "    <tr>\n",
       "      <th>NM</th>\n",
       "      <td>1898.0</td>\n",
       "    </tr>\n",
       "    <tr>\n",
       "      <th>IA</th>\n",
       "      <td>1876.0</td>\n",
       "    </tr>\n",
       "    <tr>\n",
       "      <th>ID</th>\n",
       "      <td>1529.0</td>\n",
       "    </tr>\n",
       "    <tr>\n",
       "      <th>NE</th>\n",
       "      <td>1220.0</td>\n",
       "    </tr>\n",
       "    <tr>\n",
       "      <th>MT</th>\n",
       "      <td>1172.0</td>\n",
       "    </tr>\n",
       "    <tr>\n",
       "      <th>RI</th>\n",
       "      <td>914.0</td>\n",
       "    </tr>\n",
       "    <tr>\n",
       "      <th>ME</th>\n",
       "      <td>704.0</td>\n",
       "    </tr>\n",
       "    <tr>\n",
       "      <th>UT</th>\n",
       "      <td>618.0</td>\n",
       "    </tr>\n",
       "    <tr>\n",
       "      <th>AK</th>\n",
       "      <td>614.0</td>\n",
       "    </tr>\n",
       "    <tr>\n",
       "      <th>SD</th>\n",
       "      <td>572.0</td>\n",
       "    </tr>\n",
       "    <tr>\n",
       "      <th>DE</th>\n",
       "      <td>562.0</td>\n",
       "    </tr>\n",
       "    <tr>\n",
       "      <th>DC</th>\n",
       "      <td>532.0</td>\n",
       "    </tr>\n",
       "    <tr>\n",
       "      <th>NH</th>\n",
       "      <td>520.0</td>\n",
       "    </tr>\n",
       "    <tr>\n",
       "      <th>WY</th>\n",
       "      <td>496.0</td>\n",
       "    </tr>\n",
       "    <tr>\n",
       "      <th>HI</th>\n",
       "      <td>445.0</td>\n",
       "    </tr>\n",
       "    <tr>\n",
       "      <th>ND</th>\n",
       "      <td>334.0</td>\n",
       "    </tr>\n",
       "    <tr>\n",
       "      <th>VT</th>\n",
       "      <td>131.0</td>\n",
       "    </tr>\n",
       "    <tr>\n",
       "      <th>VI</th>\n",
       "      <td>44.0</td>\n",
       "    </tr>\n",
       "    <tr>\n",
       "      <th>AS</th>\n",
       "      <td>0.0</td>\n",
       "    </tr>\n",
       "  </tbody>\n",
       "</table>\n",
       "</div>"
      ],
      "text/plain": [
       "       deaths_covid\n",
       "state              \n",
       "CA          35108.0\n",
       "TX          32889.0\n",
       "FL          26004.0\n",
       "NY          17620.0\n",
       "AZ          16250.0\n",
       "PA          13363.0\n",
       "GA          12338.0\n",
       "OH          12023.0\n",
       "NC          10922.0\n",
       "TN           9439.0\n",
       "MI           9332.0\n",
       "IL           7500.0\n",
       "KY           7252.0\n",
       "NJ           6889.0\n",
       "VA           6479.0\n",
       "SC           6434.0\n",
       "AL           6390.0\n",
       "MO           6285.0\n",
       "IN           5846.0\n",
       "PR           4516.0\n",
       "NV           4412.0\n",
       "OK           4180.0\n",
       "MD           4025.0\n",
       "WA           3847.0\n",
       "WI           3665.0\n",
       "MS           3664.0\n",
       "MA           3631.0\n",
       "LA           3624.0\n",
       "AR           3582.0\n",
       "CO           2835.0\n",
       "CT           2725.0\n",
       "WV           2507.0\n",
       "KS           2469.0\n",
       "OR           2412.0\n",
       "MN           2377.0\n",
       "NM           1898.0\n",
       "IA           1876.0\n",
       "ID           1529.0\n",
       "NE           1220.0\n",
       "MT           1172.0\n",
       "RI            914.0\n",
       "ME            704.0\n",
       "UT            618.0\n",
       "AK            614.0\n",
       "SD            572.0\n",
       "DE            562.0\n",
       "DC            532.0\n",
       "NH            520.0\n",
       "WY            496.0\n",
       "HI            445.0\n",
       "ND            334.0\n",
       "VT            131.0\n",
       "VI             44.0\n",
       "AS              0.0"
      ]
     },
     "execution_count": 74,
     "metadata": {},
     "output_type": "execute_result"
    }
   ],
   "source": [
    "df = data_df[(data_df['date'] >= '2021-01-01') & (data_df['date'] < '2022-01-01')].copy()\n",
    "df = df[['state', 'deaths_covid']]\n",
    "df_grouped = df.groupby('state').sum()\n",
    "df_grouped.sort_values('deaths_covid', inplace=True, ascending=False)\n",
    "df_grouped"
   ]
  },
  {
   "cell_type": "code",
   "execution_count": 75,
   "metadata": {},
   "outputs": [
    {
     "data": {
      "application/vnd.plotly.v1+json": {
       "config": {
        "linkText": "Export to plot.ly",
        "plotlyServerURL": "https://plot.ly",
        "showLink": false
       },
       "data": [
        {
         "locationmode": "USA-states",
         "locations": [
          "CA",
          "TX",
          "FL",
          "NY",
          "AZ",
          "PA",
          "GA",
          "OH",
          "NC",
          "TN",
          "MI",
          "IL",
          "KY",
          "NJ",
          "VA",
          "SC",
          "AL",
          "MO",
          "IN",
          "PR",
          "NV",
          "OK",
          "MD",
          "WA",
          "WI",
          "MS",
          "MA",
          "LA",
          "AR",
          "CO",
          "CT",
          "WV",
          "KS",
          "OR",
          "MN",
          "NM",
          "IA",
          "ID",
          "NE",
          "MT",
          "RI",
          "ME",
          "UT",
          "AK",
          "SD",
          "DE",
          "DC",
          "NH",
          "WY",
          "HI",
          "ND",
          "VT",
          "VI",
          "AS"
         ],
         "type": "choropleth",
         "z": [
          35108,
          32889,
          26004,
          17620,
          16250,
          13363,
          12338,
          12023,
          10922,
          9439,
          9332,
          7500,
          7252,
          6889,
          6479,
          6434,
          6390,
          6285,
          5846,
          4516,
          4412,
          4180,
          4025,
          3847,
          3665,
          3664,
          3631,
          3624,
          3582,
          2835,
          2725,
          2507,
          2469,
          2412,
          2377,
          1898,
          1876,
          1529,
          1220,
          1172,
          914,
          704,
          618,
          614,
          572,
          562,
          532,
          520,
          496,
          445,
          334,
          131,
          44,
          0
         ]
        }
       ],
       "layout": {
        "geo": {
         "scope": "usa"
        },
        "height": 600,
        "template": {
         "data": {
          "bar": [
           {
            "error_x": {
             "color": "#2a3f5f"
            },
            "error_y": {
             "color": "#2a3f5f"
            },
            "marker": {
             "line": {
              "color": "#E5ECF6",
              "width": 0.5
             },
             "pattern": {
              "fillmode": "overlay",
              "size": 10,
              "solidity": 0.2
             }
            },
            "type": "bar"
           }
          ],
          "barpolar": [
           {
            "marker": {
             "line": {
              "color": "#E5ECF6",
              "width": 0.5
             },
             "pattern": {
              "fillmode": "overlay",
              "size": 10,
              "solidity": 0.2
             }
            },
            "type": "barpolar"
           }
          ],
          "carpet": [
           {
            "aaxis": {
             "endlinecolor": "#2a3f5f",
             "gridcolor": "white",
             "linecolor": "white",
             "minorgridcolor": "white",
             "startlinecolor": "#2a3f5f"
            },
            "baxis": {
             "endlinecolor": "#2a3f5f",
             "gridcolor": "white",
             "linecolor": "white",
             "minorgridcolor": "white",
             "startlinecolor": "#2a3f5f"
            },
            "type": "carpet"
           }
          ],
          "choropleth": [
           {
            "colorbar": {
             "outlinewidth": 0,
             "ticks": ""
            },
            "type": "choropleth"
           }
          ],
          "contour": [
           {
            "colorbar": {
             "outlinewidth": 0,
             "ticks": ""
            },
            "colorscale": [
             [
              0,
              "#0d0887"
             ],
             [
              0.1111111111111111,
              "#46039f"
             ],
             [
              0.2222222222222222,
              "#7201a8"
             ],
             [
              0.3333333333333333,
              "#9c179e"
             ],
             [
              0.4444444444444444,
              "#bd3786"
             ],
             [
              0.5555555555555556,
              "#d8576b"
             ],
             [
              0.6666666666666666,
              "#ed7953"
             ],
             [
              0.7777777777777778,
              "#fb9f3a"
             ],
             [
              0.8888888888888888,
              "#fdca26"
             ],
             [
              1,
              "#f0f921"
             ]
            ],
            "type": "contour"
           }
          ],
          "contourcarpet": [
           {
            "colorbar": {
             "outlinewidth": 0,
             "ticks": ""
            },
            "type": "contourcarpet"
           }
          ],
          "heatmap": [
           {
            "colorbar": {
             "outlinewidth": 0,
             "ticks": ""
            },
            "colorscale": [
             [
              0,
              "#0d0887"
             ],
             [
              0.1111111111111111,
              "#46039f"
             ],
             [
              0.2222222222222222,
              "#7201a8"
             ],
             [
              0.3333333333333333,
              "#9c179e"
             ],
             [
              0.4444444444444444,
              "#bd3786"
             ],
             [
              0.5555555555555556,
              "#d8576b"
             ],
             [
              0.6666666666666666,
              "#ed7953"
             ],
             [
              0.7777777777777778,
              "#fb9f3a"
             ],
             [
              0.8888888888888888,
              "#fdca26"
             ],
             [
              1,
              "#f0f921"
             ]
            ],
            "type": "heatmap"
           }
          ],
          "heatmapgl": [
           {
            "colorbar": {
             "outlinewidth": 0,
             "ticks": ""
            },
            "colorscale": [
             [
              0,
              "#0d0887"
             ],
             [
              0.1111111111111111,
              "#46039f"
             ],
             [
              0.2222222222222222,
              "#7201a8"
             ],
             [
              0.3333333333333333,
              "#9c179e"
             ],
             [
              0.4444444444444444,
              "#bd3786"
             ],
             [
              0.5555555555555556,
              "#d8576b"
             ],
             [
              0.6666666666666666,
              "#ed7953"
             ],
             [
              0.7777777777777778,
              "#fb9f3a"
             ],
             [
              0.8888888888888888,
              "#fdca26"
             ],
             [
              1,
              "#f0f921"
             ]
            ],
            "type": "heatmapgl"
           }
          ],
          "histogram": [
           {
            "marker": {
             "pattern": {
              "fillmode": "overlay",
              "size": 10,
              "solidity": 0.2
             }
            },
            "type": "histogram"
           }
          ],
          "histogram2d": [
           {
            "colorbar": {
             "outlinewidth": 0,
             "ticks": ""
            },
            "colorscale": [
             [
              0,
              "#0d0887"
             ],
             [
              0.1111111111111111,
              "#46039f"
             ],
             [
              0.2222222222222222,
              "#7201a8"
             ],
             [
              0.3333333333333333,
              "#9c179e"
             ],
             [
              0.4444444444444444,
              "#bd3786"
             ],
             [
              0.5555555555555556,
              "#d8576b"
             ],
             [
              0.6666666666666666,
              "#ed7953"
             ],
             [
              0.7777777777777778,
              "#fb9f3a"
             ],
             [
              0.8888888888888888,
              "#fdca26"
             ],
             [
              1,
              "#f0f921"
             ]
            ],
            "type": "histogram2d"
           }
          ],
          "histogram2dcontour": [
           {
            "colorbar": {
             "outlinewidth": 0,
             "ticks": ""
            },
            "colorscale": [
             [
              0,
              "#0d0887"
             ],
             [
              0.1111111111111111,
              "#46039f"
             ],
             [
              0.2222222222222222,
              "#7201a8"
             ],
             [
              0.3333333333333333,
              "#9c179e"
             ],
             [
              0.4444444444444444,
              "#bd3786"
             ],
             [
              0.5555555555555556,
              "#d8576b"
             ],
             [
              0.6666666666666666,
              "#ed7953"
             ],
             [
              0.7777777777777778,
              "#fb9f3a"
             ],
             [
              0.8888888888888888,
              "#fdca26"
             ],
             [
              1,
              "#f0f921"
             ]
            ],
            "type": "histogram2dcontour"
           }
          ],
          "mesh3d": [
           {
            "colorbar": {
             "outlinewidth": 0,
             "ticks": ""
            },
            "type": "mesh3d"
           }
          ],
          "parcoords": [
           {
            "line": {
             "colorbar": {
              "outlinewidth": 0,
              "ticks": ""
             }
            },
            "type": "parcoords"
           }
          ],
          "pie": [
           {
            "automargin": true,
            "type": "pie"
           }
          ],
          "scatter": [
           {
            "fillpattern": {
             "fillmode": "overlay",
             "size": 10,
             "solidity": 0.2
            },
            "type": "scatter"
           }
          ],
          "scatter3d": [
           {
            "line": {
             "colorbar": {
              "outlinewidth": 0,
              "ticks": ""
             }
            },
            "marker": {
             "colorbar": {
              "outlinewidth": 0,
              "ticks": ""
             }
            },
            "type": "scatter3d"
           }
          ],
          "scattercarpet": [
           {
            "marker": {
             "colorbar": {
              "outlinewidth": 0,
              "ticks": ""
             }
            },
            "type": "scattercarpet"
           }
          ],
          "scattergeo": [
           {
            "marker": {
             "colorbar": {
              "outlinewidth": 0,
              "ticks": ""
             }
            },
            "type": "scattergeo"
           }
          ],
          "scattergl": [
           {
            "marker": {
             "colorbar": {
              "outlinewidth": 0,
              "ticks": ""
             }
            },
            "type": "scattergl"
           }
          ],
          "scattermapbox": [
           {
            "marker": {
             "colorbar": {
              "outlinewidth": 0,
              "ticks": ""
             }
            },
            "type": "scattermapbox"
           }
          ],
          "scatterpolar": [
           {
            "marker": {
             "colorbar": {
              "outlinewidth": 0,
              "ticks": ""
             }
            },
            "type": "scatterpolar"
           }
          ],
          "scatterpolargl": [
           {
            "marker": {
             "colorbar": {
              "outlinewidth": 0,
              "ticks": ""
             }
            },
            "type": "scatterpolargl"
           }
          ],
          "scatterternary": [
           {
            "marker": {
             "colorbar": {
              "outlinewidth": 0,
              "ticks": ""
             }
            },
            "type": "scatterternary"
           }
          ],
          "surface": [
           {
            "colorbar": {
             "outlinewidth": 0,
             "ticks": ""
            },
            "colorscale": [
             [
              0,
              "#0d0887"
             ],
             [
              0.1111111111111111,
              "#46039f"
             ],
             [
              0.2222222222222222,
              "#7201a8"
             ],
             [
              0.3333333333333333,
              "#9c179e"
             ],
             [
              0.4444444444444444,
              "#bd3786"
             ],
             [
              0.5555555555555556,
              "#d8576b"
             ],
             [
              0.6666666666666666,
              "#ed7953"
             ],
             [
              0.7777777777777778,
              "#fb9f3a"
             ],
             [
              0.8888888888888888,
              "#fdca26"
             ],
             [
              1,
              "#f0f921"
             ]
            ],
            "type": "surface"
           }
          ],
          "table": [
           {
            "cells": {
             "fill": {
              "color": "#EBF0F8"
             },
             "line": {
              "color": "white"
             }
            },
            "header": {
             "fill": {
              "color": "#C8D4E3"
             },
             "line": {
              "color": "white"
             }
            },
            "type": "table"
           }
          ]
         },
         "layout": {
          "annotationdefaults": {
           "arrowcolor": "#2a3f5f",
           "arrowhead": 0,
           "arrowwidth": 1
          },
          "autotypenumbers": "strict",
          "coloraxis": {
           "colorbar": {
            "outlinewidth": 0,
            "ticks": ""
           }
          },
          "colorscale": {
           "diverging": [
            [
             0,
             "#8e0152"
            ],
            [
             0.1,
             "#c51b7d"
            ],
            [
             0.2,
             "#de77ae"
            ],
            [
             0.3,
             "#f1b6da"
            ],
            [
             0.4,
             "#fde0ef"
            ],
            [
             0.5,
             "#f7f7f7"
            ],
            [
             0.6,
             "#e6f5d0"
            ],
            [
             0.7,
             "#b8e186"
            ],
            [
             0.8,
             "#7fbc41"
            ],
            [
             0.9,
             "#4d9221"
            ],
            [
             1,
             "#276419"
            ]
           ],
           "sequential": [
            [
             0,
             "#0d0887"
            ],
            [
             0.1111111111111111,
             "#46039f"
            ],
            [
             0.2222222222222222,
             "#7201a8"
            ],
            [
             0.3333333333333333,
             "#9c179e"
            ],
            [
             0.4444444444444444,
             "#bd3786"
            ],
            [
             0.5555555555555556,
             "#d8576b"
            ],
            [
             0.6666666666666666,
             "#ed7953"
            ],
            [
             0.7777777777777778,
             "#fb9f3a"
            ],
            [
             0.8888888888888888,
             "#fdca26"
            ],
            [
             1,
             "#f0f921"
            ]
           ],
           "sequentialminus": [
            [
             0,
             "#0d0887"
            ],
            [
             0.1111111111111111,
             "#46039f"
            ],
            [
             0.2222222222222222,
             "#7201a8"
            ],
            [
             0.3333333333333333,
             "#9c179e"
            ],
            [
             0.4444444444444444,
             "#bd3786"
            ],
            [
             0.5555555555555556,
             "#d8576b"
            ],
            [
             0.6666666666666666,
             "#ed7953"
            ],
            [
             0.7777777777777778,
             "#fb9f3a"
            ],
            [
             0.8888888888888888,
             "#fdca26"
            ],
            [
             1,
             "#f0f921"
            ]
           ]
          },
          "colorway": [
           "#636efa",
           "#EF553B",
           "#00cc96",
           "#ab63fa",
           "#FFA15A",
           "#19d3f3",
           "#FF6692",
           "#B6E880",
           "#FF97FF",
           "#FECB52"
          ],
          "font": {
           "color": "#2a3f5f"
          },
          "geo": {
           "bgcolor": "white",
           "lakecolor": "white",
           "landcolor": "#E5ECF6",
           "showlakes": true,
           "showland": true,
           "subunitcolor": "white"
          },
          "hoverlabel": {
           "align": "left"
          },
          "hovermode": "closest",
          "mapbox": {
           "style": "light"
          },
          "paper_bgcolor": "white",
          "plot_bgcolor": "#E5ECF6",
          "polar": {
           "angularaxis": {
            "gridcolor": "white",
            "linecolor": "white",
            "ticks": ""
           },
           "bgcolor": "#E5ECF6",
           "radialaxis": {
            "gridcolor": "white",
            "linecolor": "white",
            "ticks": ""
           }
          },
          "scene": {
           "xaxis": {
            "backgroundcolor": "#E5ECF6",
            "gridcolor": "white",
            "gridwidth": 2,
            "linecolor": "white",
            "showbackground": true,
            "ticks": "",
            "zerolinecolor": "white"
           },
           "yaxis": {
            "backgroundcolor": "#E5ECF6",
            "gridcolor": "white",
            "gridwidth": 2,
            "linecolor": "white",
            "showbackground": true,
            "ticks": "",
            "zerolinecolor": "white"
           },
           "zaxis": {
            "backgroundcolor": "#E5ECF6",
            "gridcolor": "white",
            "gridwidth": 2,
            "linecolor": "white",
            "showbackground": true,
            "ticks": "",
            "zerolinecolor": "white"
           }
          },
          "shapedefaults": {
           "line": {
            "color": "#2a3f5f"
           }
          },
          "ternary": {
           "aaxis": {
            "gridcolor": "white",
            "linecolor": "white",
            "ticks": ""
           },
           "baxis": {
            "gridcolor": "white",
            "linecolor": "white",
            "ticks": ""
           },
           "bgcolor": "#E5ECF6",
           "caxis": {
            "gridcolor": "white",
            "linecolor": "white",
            "ticks": ""
           }
          },
          "title": {
           "x": 0.05
          },
          "xaxis": {
           "automargin": true,
           "gridcolor": "white",
           "linecolor": "white",
           "ticks": "",
           "title": {
            "standoff": 15
           },
           "zerolinecolor": "white",
           "zerolinewidth": 2
          },
          "yaxis": {
           "automargin": true,
           "gridcolor": "white",
           "linecolor": "white",
           "ticks": "",
           "title": {
            "standoff": 15
           },
           "zerolinecolor": "white",
           "zerolinewidth": 2
          }
         }
        },
        "title": {
         "text": "Muertes por estado desde Enero 2020 a hoy"
        },
        "width": 900
       }
      }
     },
     "metadata": {},
     "output_type": "display_data"
    }
   ],
   "source": [
    "df = data_df[(data_df['date'] >= '2021-01-01') & (data_df['date'] < '2022-01-01')].copy()\n",
    "df = df[['state', 'deaths_covid']]\n",
    "df_grouped = df.groupby('state').sum()\n",
    "df_grouped.sort_values('deaths_covid', inplace=True, ascending=False)\n",
    "data_plot = {\n",
    "    'type':'choropleth',\n",
    "    'locations':df_grouped.index.values,\n",
    "    'locationmode': 'USA-states',\n",
    "    'z':df_grouped['deaths_covid']\n",
    "}\n",
    "\n",
    "layout = {'title':'Muertes por estado desde Enero 2020 a hoy',\n",
    "          'geo':{'scope':'usa'},\n",
    "          'height': 600,\n",
    "          'width': 900}\n",
    "\n",
    "x = pg.Figure(data = [data_plot], layout=layout)\n",
    "po.iplot(x)"
   ]
  },
  {
   "cell_type": "markdown",
   "metadata": {},
   "source": [
    "Por tendencia los estados con mayor población ocupan los primeros lugares en la cantidad de muertes por COVID-19. El caso más interesante es de Arizona que ocupa el 14vo lugar en población, pero el quinto en número de fallecimientos. Este estado no tuvo una cuarentena obligatoria y tampoco ha tenido exito en su plan de vacunación debido a la resistencia de las personas por razones politicas y religiosas."
   ]
  },
  {
   "cell_type": "markdown",
   "metadata": {},
   "source": [
    "## 7 - ¿Qué relación presenta la falta de personal médico, con la cantidad de muertes por covid durante el año 2021? "
   ]
  },
  {
   "cell_type": "code",
   "execution_count": 76,
   "metadata": {},
   "outputs": [
    {
     "data": {
      "text/html": [
       "<div>\n",
       "<style scoped>\n",
       "    .dataframe tbody tr th:only-of-type {\n",
       "        vertical-align: middle;\n",
       "    }\n",
       "\n",
       "    .dataframe tbody tr th {\n",
       "        vertical-align: top;\n",
       "    }\n",
       "\n",
       "    .dataframe thead th {\n",
       "        text-align: right;\n",
       "    }\n",
       "</style>\n",
       "<table border=\"1\" class=\"dataframe\">\n",
       "  <thead>\n",
       "    <tr style=\"text-align: right;\">\n",
       "      <th></th>\n",
       "      <th>deaths_covid</th>\n",
       "      <th>critical_staffing_shortage_today_yes</th>\n",
       "    </tr>\n",
       "    <tr>\n",
       "      <th>state</th>\n",
       "      <th></th>\n",
       "      <th></th>\n",
       "    </tr>\n",
       "  </thead>\n",
       "  <tbody>\n",
       "    <tr>\n",
       "      <th>CA</th>\n",
       "      <td>35108.0</td>\n",
       "      <td>35082</td>\n",
       "    </tr>\n",
       "    <tr>\n",
       "      <th>TX</th>\n",
       "      <td>32889.0</td>\n",
       "      <td>27164</td>\n",
       "    </tr>\n",
       "    <tr>\n",
       "      <th>FL</th>\n",
       "      <td>26004.0</td>\n",
       "      <td>7993</td>\n",
       "    </tr>\n",
       "    <tr>\n",
       "      <th>NY</th>\n",
       "      <td>17620.0</td>\n",
       "      <td>2643</td>\n",
       "    </tr>\n",
       "    <tr>\n",
       "      <th>AZ</th>\n",
       "      <td>16250.0</td>\n",
       "      <td>10783</td>\n",
       "    </tr>\n",
       "    <tr>\n",
       "      <th>PA</th>\n",
       "      <td>13363.0</td>\n",
       "      <td>9160</td>\n",
       "    </tr>\n",
       "    <tr>\n",
       "      <th>GA</th>\n",
       "      <td>12338.0</td>\n",
       "      <td>12194</td>\n",
       "    </tr>\n",
       "    <tr>\n",
       "      <th>OH</th>\n",
       "      <td>12023.0</td>\n",
       "      <td>7330</td>\n",
       "    </tr>\n",
       "    <tr>\n",
       "      <th>NC</th>\n",
       "      <td>10922.0</td>\n",
       "      <td>2213</td>\n",
       "    </tr>\n",
       "    <tr>\n",
       "      <th>TN</th>\n",
       "      <td>9439.0</td>\n",
       "      <td>7188</td>\n",
       "    </tr>\n",
       "    <tr>\n",
       "      <th>MI</th>\n",
       "      <td>9332.0</td>\n",
       "      <td>3994</td>\n",
       "    </tr>\n",
       "    <tr>\n",
       "      <th>IL</th>\n",
       "      <td>7500.0</td>\n",
       "      <td>4178</td>\n",
       "    </tr>\n",
       "    <tr>\n",
       "      <th>KY</th>\n",
       "      <td>7252.0</td>\n",
       "      <td>6302</td>\n",
       "    </tr>\n",
       "    <tr>\n",
       "      <th>NJ</th>\n",
       "      <td>6889.0</td>\n",
       "      <td>2758</td>\n",
       "    </tr>\n",
       "    <tr>\n",
       "      <th>VA</th>\n",
       "      <td>6479.0</td>\n",
       "      <td>6480</td>\n",
       "    </tr>\n",
       "    <tr>\n",
       "      <th>SC</th>\n",
       "      <td>6434.0</td>\n",
       "      <td>8549</td>\n",
       "    </tr>\n",
       "    <tr>\n",
       "      <th>AL</th>\n",
       "      <td>6390.0</td>\n",
       "      <td>11085</td>\n",
       "    </tr>\n",
       "    <tr>\n",
       "      <th>MO</th>\n",
       "      <td>6285.0</td>\n",
       "      <td>9847</td>\n",
       "    </tr>\n",
       "    <tr>\n",
       "      <th>IN</th>\n",
       "      <td>5846.0</td>\n",
       "      <td>6252</td>\n",
       "    </tr>\n",
       "    <tr>\n",
       "      <th>PR</th>\n",
       "      <td>4516.0</td>\n",
       "      <td>469</td>\n",
       "    </tr>\n",
       "    <tr>\n",
       "      <th>NV</th>\n",
       "      <td>4412.0</td>\n",
       "      <td>100</td>\n",
       "    </tr>\n",
       "    <tr>\n",
       "      <th>OK</th>\n",
       "      <td>4180.0</td>\n",
       "      <td>13242</td>\n",
       "    </tr>\n",
       "    <tr>\n",
       "      <th>MD</th>\n",
       "      <td>4025.0</td>\n",
       "      <td>1298</td>\n",
       "    </tr>\n",
       "    <tr>\n",
       "      <th>WA</th>\n",
       "      <td>3847.0</td>\n",
       "      <td>4475</td>\n",
       "    </tr>\n",
       "    <tr>\n",
       "      <th>WI</th>\n",
       "      <td>3665.0</td>\n",
       "      <td>7815</td>\n",
       "    </tr>\n",
       "    <tr>\n",
       "      <th>MS</th>\n",
       "      <td>3664.0</td>\n",
       "      <td>3543</td>\n",
       "    </tr>\n",
       "    <tr>\n",
       "      <th>MA</th>\n",
       "      <td>3631.0</td>\n",
       "      <td>4561</td>\n",
       "    </tr>\n",
       "    <tr>\n",
       "      <th>LA</th>\n",
       "      <td>3624.0</td>\n",
       "      <td>17531</td>\n",
       "    </tr>\n",
       "    <tr>\n",
       "      <th>AR</th>\n",
       "      <td>3582.0</td>\n",
       "      <td>6148</td>\n",
       "    </tr>\n",
       "    <tr>\n",
       "      <th>CO</th>\n",
       "      <td>2835.0</td>\n",
       "      <td>3751</td>\n",
       "    </tr>\n",
       "    <tr>\n",
       "      <th>CT</th>\n",
       "      <td>2725.0</td>\n",
       "      <td>741</td>\n",
       "    </tr>\n",
       "    <tr>\n",
       "      <th>WV</th>\n",
       "      <td>2507.0</td>\n",
       "      <td>6480</td>\n",
       "    </tr>\n",
       "    <tr>\n",
       "      <th>KS</th>\n",
       "      <td>2469.0</td>\n",
       "      <td>5934</td>\n",
       "    </tr>\n",
       "    <tr>\n",
       "      <th>OR</th>\n",
       "      <td>2412.0</td>\n",
       "      <td>1422</td>\n",
       "    </tr>\n",
       "    <tr>\n",
       "      <th>MN</th>\n",
       "      <td>2377.0</td>\n",
       "      <td>6198</td>\n",
       "    </tr>\n",
       "    <tr>\n",
       "      <th>NM</th>\n",
       "      <td>1898.0</td>\n",
       "      <td>6436</td>\n",
       "    </tr>\n",
       "    <tr>\n",
       "      <th>IA</th>\n",
       "      <td>1876.0</td>\n",
       "      <td>1206</td>\n",
       "    </tr>\n",
       "    <tr>\n",
       "      <th>ID</th>\n",
       "      <td>1529.0</td>\n",
       "      <td>1375</td>\n",
       "    </tr>\n",
       "    <tr>\n",
       "      <th>NE</th>\n",
       "      <td>1220.0</td>\n",
       "      <td>4516</td>\n",
       "    </tr>\n",
       "    <tr>\n",
       "      <th>MT</th>\n",
       "      <td>1172.0</td>\n",
       "      <td>2726</td>\n",
       "    </tr>\n",
       "    <tr>\n",
       "      <th>RI</th>\n",
       "      <td>914.0</td>\n",
       "      <td>1805</td>\n",
       "    </tr>\n",
       "    <tr>\n",
       "      <th>ME</th>\n",
       "      <td>704.0</td>\n",
       "      <td>846</td>\n",
       "    </tr>\n",
       "    <tr>\n",
       "      <th>UT</th>\n",
       "      <td>618.0</td>\n",
       "      <td>243</td>\n",
       "    </tr>\n",
       "    <tr>\n",
       "      <th>AK</th>\n",
       "      <td>614.0</td>\n",
       "      <td>843</td>\n",
       "    </tr>\n",
       "    <tr>\n",
       "      <th>SD</th>\n",
       "      <td>572.0</td>\n",
       "      <td>422</td>\n",
       "    </tr>\n",
       "    <tr>\n",
       "      <th>DE</th>\n",
       "      <td>562.0</td>\n",
       "      <td>428</td>\n",
       "    </tr>\n",
       "    <tr>\n",
       "      <th>DC</th>\n",
       "      <td>532.0</td>\n",
       "      <td>0</td>\n",
       "    </tr>\n",
       "    <tr>\n",
       "      <th>NH</th>\n",
       "      <td>520.0</td>\n",
       "      <td>1575</td>\n",
       "    </tr>\n",
       "    <tr>\n",
       "      <th>WY</th>\n",
       "      <td>496.0</td>\n",
       "      <td>1948</td>\n",
       "    </tr>\n",
       "    <tr>\n",
       "      <th>HI</th>\n",
       "      <td>445.0</td>\n",
       "      <td>797</td>\n",
       "    </tr>\n",
       "    <tr>\n",
       "      <th>ND</th>\n",
       "      <td>334.0</td>\n",
       "      <td>4402</td>\n",
       "    </tr>\n",
       "    <tr>\n",
       "      <th>VT</th>\n",
       "      <td>131.0</td>\n",
       "      <td>1093</td>\n",
       "    </tr>\n",
       "    <tr>\n",
       "      <th>VI</th>\n",
       "      <td>44.0</td>\n",
       "      <td>674</td>\n",
       "    </tr>\n",
       "    <tr>\n",
       "      <th>AS</th>\n",
       "      <td>0.0</td>\n",
       "      <td>0</td>\n",
       "    </tr>\n",
       "  </tbody>\n",
       "</table>\n",
       "</div>"
      ],
      "text/plain": [
       "       deaths_covid  critical_staffing_shortage_today_yes\n",
       "state                                                    \n",
       "CA          35108.0                                 35082\n",
       "TX          32889.0                                 27164\n",
       "FL          26004.0                                  7993\n",
       "NY          17620.0                                  2643\n",
       "AZ          16250.0                                 10783\n",
       "PA          13363.0                                  9160\n",
       "GA          12338.0                                 12194\n",
       "OH          12023.0                                  7330\n",
       "NC          10922.0                                  2213\n",
       "TN           9439.0                                  7188\n",
       "MI           9332.0                                  3994\n",
       "IL           7500.0                                  4178\n",
       "KY           7252.0                                  6302\n",
       "NJ           6889.0                                  2758\n",
       "VA           6479.0                                  6480\n",
       "SC           6434.0                                  8549\n",
       "AL           6390.0                                 11085\n",
       "MO           6285.0                                  9847\n",
       "IN           5846.0                                  6252\n",
       "PR           4516.0                                   469\n",
       "NV           4412.0                                   100\n",
       "OK           4180.0                                 13242\n",
       "MD           4025.0                                  1298\n",
       "WA           3847.0                                  4475\n",
       "WI           3665.0                                  7815\n",
       "MS           3664.0                                  3543\n",
       "MA           3631.0                                  4561\n",
       "LA           3624.0                                 17531\n",
       "AR           3582.0                                  6148\n",
       "CO           2835.0                                  3751\n",
       "CT           2725.0                                   741\n",
       "WV           2507.0                                  6480\n",
       "KS           2469.0                                  5934\n",
       "OR           2412.0                                  1422\n",
       "MN           2377.0                                  6198\n",
       "NM           1898.0                                  6436\n",
       "IA           1876.0                                  1206\n",
       "ID           1529.0                                  1375\n",
       "NE           1220.0                                  4516\n",
       "MT           1172.0                                  2726\n",
       "RI            914.0                                  1805\n",
       "ME            704.0                                   846\n",
       "UT            618.0                                   243\n",
       "AK            614.0                                   843\n",
       "SD            572.0                                   422\n",
       "DE            562.0                                   428\n",
       "DC            532.0                                     0\n",
       "NH            520.0                                  1575\n",
       "WY            496.0                                  1948\n",
       "HI            445.0                                   797\n",
       "ND            334.0                                  4402\n",
       "VT            131.0                                  1093\n",
       "VI             44.0                                   674\n",
       "AS              0.0                                     0"
      ]
     },
     "execution_count": 76,
     "metadata": {},
     "output_type": "execute_result"
    }
   ],
   "source": [
    "df = data_df[(data_df['date'] >= '2021-01-01') & (data_df['date'] < '2022-01-01')].copy()\n",
    "df = df[['state', 'deaths_covid', 'critical_staffing_shortage_today_yes']]\n",
    "df_grouped = df.groupby('state').sum()\n",
    "df_grouped.sort_values('deaths_covid', inplace=True, ascending=False)\n",
    "df_grouped"
   ]
  },
  {
   "cell_type": "code",
   "execution_count": 77,
   "metadata": {},
   "outputs": [
    {
     "data": {
      "image/png": "[encoded data removed]",
      "text/plain": [
       "<Figure size 504x504 with 1 Axes>"
      ]
     },
     "metadata": {
      "needs_background": "light"
     },
     "output_type": "display_data"
    }
   ],
   "source": [
    "x = df_grouped['deaths_covid']\n",
    "y = df_grouped['critical_staffing_shortage_today_yes']\n",
    "\n",
    "fig,ax = plt.subplots(figsize=(7, 7))\n",
    "sns.scatterplot(x=x, y=y, data=df_grouped)\n",
    "ax.set_xlabel('Muertes por covid')\n",
    "ax.set_ylabel('Número de hospitales con falta de personal')\n",
    "\n",
    "fig.subplots_adjust(left=0.005, right=1, top=0.8, bottom=0.1)\n",
    "fig.text(\n",
    "    0, 0.925, \"Relación entre muertes por COVID-19 y Falta de personal médico\", \n",
    "    fontsize=16, fontweight=\"bold\"\n",
    ")\n",
    "fig.text(\n",
    "    0, 0.875, \"Periodo 2020-01-01 a 2020-06-30\", \n",
    "    fontsize=14\n",
    ")\n",
    "source = \"Sources: U.S. Department of Health & Human Services - HealthData.gov\"\n",
    "fig.text(\n",
    "    0, 0, source, color=\"#a2a2a2\", \n",
    "    fontsize=14, fontfamily=\"Econ Sans Cnd\"\n",
    ")\n",
    "fig.add_artist(lines.Line2D([0, 1], [1, 1], lw=3, color='red', solid_capstyle=\"butt\"))\n",
    "fig.add_artist(patches.Rectangle((0, 0.975), 0.05, 0.025, color='red'))\n",
    "sns.despine(left=False, bottom=False)"
   ]
  },
  {
   "cell_type": "markdown",
   "metadata": {},
   "source": [
    "Para revisar la relación entre muertes por covid y la falta de personal médico se realizó un diagrama de dispersión. Si bien no se encontró una relación lineal, se puede observar que en ciertas cantidades de muertes hubo un número similar o cercano de hospitales con falta de personal. Y logicamente la falta de personal puede conllevar a que se deba cerrar unidades de cuidado intensivo, priorizar atención a ciertos pacientes o incluso negar la atención de pacientes con casos graves."
   ]
  },
  {
   "cell_type": "markdown",
   "metadata": {},
   "source": [
    "## 8 - Siguiendo las respuestas anteriores, ¿cuál fue el peor mes de la pandemia para USA en su conjunto? Puede utilizar otras medidas que considere necesarias."
   ]
  },
  {
   "cell_type": "code",
   "execution_count": 78,
   "metadata": {},
   "outputs": [
    {
     "data": {
      "text/html": [
       "<div>\n",
       "<style scoped>\n",
       "    .dataframe tbody tr th:only-of-type {\n",
       "        vertical-align: middle;\n",
       "    }\n",
       "\n",
       "    .dataframe tbody tr th {\n",
       "        vertical-align: top;\n",
       "    }\n",
       "\n",
       "    .dataframe thead th {\n",
       "        text-align: right;\n",
       "    }\n",
       "</style>\n",
       "<table border=\"1\" class=\"dataframe\">\n",
       "  <thead>\n",
       "    <tr style=\"text-align: right;\">\n",
       "      <th></th>\n",
       "      <th>year</th>\n",
       "      <th>month</th>\n",
       "      <th>deaths_covid</th>\n",
       "      <th>critical_staffing_shortage_today_yes</th>\n",
       "      <th>staffed_adult_icu_bed_occupancy</th>\n",
       "      <th>total_adult_patients_hospitalized_confirmed_covid</th>\n",
       "    </tr>\n",
       "  </thead>\n",
       "  <tbody>\n",
       "    <tr>\n",
       "      <th>0</th>\n",
       "      <td>2021</td>\n",
       "      <td>1</td>\n",
       "      <td>62030.0</td>\n",
       "      <td>30833</td>\n",
       "      <td>2102367.0</td>\n",
       "      <td>3433622.0</td>\n",
       "    </tr>\n",
       "    <tr>\n",
       "      <th>1</th>\n",
       "      <td>2020</td>\n",
       "      <td>12</td>\n",
       "      <td>56674.0</td>\n",
       "      <td>37456</td>\n",
       "      <td>2111959.0</td>\n",
       "      <td>3377012.0</td>\n",
       "    </tr>\n",
       "    <tr>\n",
       "      <th>2</th>\n",
       "      <td>2020</td>\n",
       "      <td>5</td>\n",
       "      <td>54884.0</td>\n",
       "      <td>6</td>\n",
       "      <td>0.0</td>\n",
       "      <td>24939.0</td>\n",
       "    </tr>\n",
       "    <tr>\n",
       "      <th>3</th>\n",
       "      <td>2021</td>\n",
       "      <td>9</td>\n",
       "      <td>44903.0</td>\n",
       "      <td>29035</td>\n",
       "      <td>2047394.0</td>\n",
       "      <td>2555691.0</td>\n",
       "    </tr>\n",
       "    <tr>\n",
       "      <th>4</th>\n",
       "      <td>2022</td>\n",
       "      <td>1</td>\n",
       "      <td>39927.0</td>\n",
       "      <td>26195</td>\n",
       "      <td>1946551.0</td>\n",
       "      <td>3940530.0</td>\n",
       "    </tr>\n",
       "    <tr>\n",
       "      <th>5</th>\n",
       "      <td>2021</td>\n",
       "      <td>2</td>\n",
       "      <td>33733.0</td>\n",
       "      <td>22916</td>\n",
       "      <td>1818747.0</td>\n",
       "      <td>1811779.0</td>\n",
       "    </tr>\n",
       "    <tr>\n",
       "      <th>6</th>\n",
       "      <td>2020</td>\n",
       "      <td>4</td>\n",
       "      <td>33572.0</td>\n",
       "      <td>30</td>\n",
       "      <td>1705.0</td>\n",
       "      <td>56186.0</td>\n",
       "    </tr>\n",
       "    <tr>\n",
       "      <th>7</th>\n",
       "      <td>2020</td>\n",
       "      <td>11</td>\n",
       "      <td>33444.0</td>\n",
       "      <td>32528</td>\n",
       "      <td>1912448.0</td>\n",
       "      <td>2096196.0</td>\n",
       "    </tr>\n",
       "    <tr>\n",
       "      <th>8</th>\n",
       "      <td>2021</td>\n",
       "      <td>12</td>\n",
       "      <td>32541.0</td>\n",
       "      <td>31424</td>\n",
       "      <td>1981755.0</td>\n",
       "      <td>1982693.0</td>\n",
       "    </tr>\n",
       "    <tr>\n",
       "      <th>9</th>\n",
       "      <td>2021</td>\n",
       "      <td>8</td>\n",
       "      <td>32171.0</td>\n",
       "      <td>23797</td>\n",
       "      <td>2034597.0</td>\n",
       "      <td>2446087.0</td>\n",
       "    </tr>\n",
       "    <tr>\n",
       "      <th>10</th>\n",
       "      <td>2020</td>\n",
       "      <td>8</td>\n",
       "      <td>31259.0</td>\n",
       "      <td>24210</td>\n",
       "      <td>1660287.0</td>\n",
       "      <td>1190017.0</td>\n",
       "    </tr>\n",
       "    <tr>\n",
       "      <th>11</th>\n",
       "      <td>2021</td>\n",
       "      <td>10</td>\n",
       "      <td>29631.0</td>\n",
       "      <td>30184</td>\n",
       "      <td>1983298.0</td>\n",
       "      <td>1626807.0</td>\n",
       "    </tr>\n",
       "    <tr>\n",
       "      <th>12</th>\n",
       "      <td>2021</td>\n",
       "      <td>11</td>\n",
       "      <td>21662.0</td>\n",
       "      <td>28507</td>\n",
       "      <td>1866057.0</td>\n",
       "      <td>1315386.0</td>\n",
       "    </tr>\n",
       "    <tr>\n",
       "      <th>13</th>\n",
       "      <td>2020</td>\n",
       "      <td>7</td>\n",
       "      <td>19178.0</td>\n",
       "      <td>10028</td>\n",
       "      <td>623339.0</td>\n",
       "      <td>752366.0</td>\n",
       "    </tr>\n",
       "    <tr>\n",
       "      <th>14</th>\n",
       "      <td>2022</td>\n",
       "      <td>2</td>\n",
       "      <td>18672.0</td>\n",
       "      <td>11397</td>\n",
       "      <td>1762340.0</td>\n",
       "      <td>1988911.0</td>\n",
       "    </tr>\n",
       "    <tr>\n",
       "      <th>15</th>\n",
       "      <td>2020</td>\n",
       "      <td>10</td>\n",
       "      <td>17963.0</td>\n",
       "      <td>29045</td>\n",
       "      <td>1847641.0</td>\n",
       "      <td>1078338.0</td>\n",
       "    </tr>\n",
       "    <tr>\n",
       "      <th>16</th>\n",
       "      <td>2020</td>\n",
       "      <td>6</td>\n",
       "      <td>17541.0</td>\n",
       "      <td>48</td>\n",
       "      <td>0.0</td>\n",
       "      <td>18123.0</td>\n",
       "    </tr>\n",
       "    <tr>\n",
       "      <th>17</th>\n",
       "      <td>2021</td>\n",
       "      <td>3</td>\n",
       "      <td>16700.0</td>\n",
       "      <td>21294</td>\n",
       "      <td>1870547.0</td>\n",
       "      <td>1104328.0</td>\n",
       "    </tr>\n",
       "    <tr>\n",
       "      <th>18</th>\n",
       "      <td>2020</td>\n",
       "      <td>9</td>\n",
       "      <td>15244.0</td>\n",
       "      <td>25948</td>\n",
       "      <td>1668536.0</td>\n",
       "      <td>807186.0</td>\n",
       "    </tr>\n",
       "    <tr>\n",
       "      <th>19</th>\n",
       "      <td>2021</td>\n",
       "      <td>4</td>\n",
       "      <td>14253.0</td>\n",
       "      <td>19784</td>\n",
       "      <td>1820186.0</td>\n",
       "      <td>1119390.0</td>\n",
       "    </tr>\n",
       "    <tr>\n",
       "      <th>20</th>\n",
       "      <td>2021</td>\n",
       "      <td>5</td>\n",
       "      <td>10927.0</td>\n",
       "      <td>19979</td>\n",
       "      <td>1831877.0</td>\n",
       "      <td>808230.0</td>\n",
       "    </tr>\n",
       "    <tr>\n",
       "      <th>21</th>\n",
       "      <td>2021</td>\n",
       "      <td>7</td>\n",
       "      <td>8029.0</td>\n",
       "      <td>19205</td>\n",
       "      <td>1830949.0</td>\n",
       "      <td>731988.0</td>\n",
       "    </tr>\n",
       "    <tr>\n",
       "      <th>22</th>\n",
       "      <td>2020</td>\n",
       "      <td>1</td>\n",
       "      <td>6454.0</td>\n",
       "      <td>3237</td>\n",
       "      <td>208079.0</td>\n",
       "      <td>375445.0</td>\n",
       "    </tr>\n",
       "    <tr>\n",
       "      <th>23</th>\n",
       "      <td>2021</td>\n",
       "      <td>6</td>\n",
       "      <td>6445.0</td>\n",
       "      <td>18248</td>\n",
       "      <td>1727423.0</td>\n",
       "      <td>415145.0</td>\n",
       "    </tr>\n",
       "    <tr>\n",
       "      <th>24</th>\n",
       "      <td>2022</td>\n",
       "      <td>3</td>\n",
       "      <td>5804.0</td>\n",
       "      <td>9509</td>\n",
       "      <td>1767477.0</td>\n",
       "      <td>587264.0</td>\n",
       "    </tr>\n",
       "    <tr>\n",
       "      <th>25</th>\n",
       "      <td>2022</td>\n",
       "      <td>7</td>\n",
       "      <td>5176.0</td>\n",
       "      <td>9207</td>\n",
       "      <td>1721628.0</td>\n",
       "      <td>1087821.0</td>\n",
       "    </tr>\n",
       "    <tr>\n",
       "      <th>26</th>\n",
       "      <td>2022</td>\n",
       "      <td>6</td>\n",
       "      <td>4156.0</td>\n",
       "      <td>8218</td>\n",
       "      <td>1664811.0</td>\n",
       "      <td>764447.0</td>\n",
       "    </tr>\n",
       "    <tr>\n",
       "      <th>27</th>\n",
       "      <td>2022</td>\n",
       "      <td>5</td>\n",
       "      <td>3277.0</td>\n",
       "      <td>8642</td>\n",
       "      <td>1709833.0</td>\n",
       "      <td>560548.0</td>\n",
       "    </tr>\n",
       "    <tr>\n",
       "      <th>28</th>\n",
       "      <td>2022</td>\n",
       "      <td>4</td>\n",
       "      <td>2852.0</td>\n",
       "      <td>8706</td>\n",
       "      <td>1659021.0</td>\n",
       "      <td>314237.0</td>\n",
       "    </tr>\n",
       "    <tr>\n",
       "      <th>29</th>\n",
       "      <td>2020</td>\n",
       "      <td>3</td>\n",
       "      <td>1118.0</td>\n",
       "      <td>0</td>\n",
       "      <td>0.0</td>\n",
       "      <td>806.0</td>\n",
       "    </tr>\n",
       "    <tr>\n",
       "      <th>30</th>\n",
       "      <td>2022</td>\n",
       "      <td>8</td>\n",
       "      <td>200.0</td>\n",
       "      <td>296</td>\n",
       "      <td>54211.0</td>\n",
       "      <td>38188.0</td>\n",
       "    </tr>\n",
       "    <tr>\n",
       "      <th>31</th>\n",
       "      <td>2020</td>\n",
       "      <td>2</td>\n",
       "      <td>0.0</td>\n",
       "      <td>0</td>\n",
       "      <td>0.0</td>\n",
       "      <td>0.0</td>\n",
       "    </tr>\n",
       "  </tbody>\n",
       "</table>\n",
       "</div>"
      ],
      "text/plain": [
       "    year  month  deaths_covid  critical_staffing_shortage_today_yes  \\\n",
       "0   2021      1       62030.0                                 30833   \n",
       "1   2020     12       56674.0                                 37456   \n",
       "2   2020      5       54884.0                                     6   \n",
       "3   2021      9       44903.0                                 29035   \n",
       "4   2022      1       39927.0                                 26195   \n",
       "5   2021      2       33733.0                                 22916   \n",
       "6   2020      4       33572.0                                    30   \n",
       "7   2020     11       33444.0                                 32528   \n",
       "8   2021     12       32541.0                                 31424   \n",
       "9   2021      8       32171.0                                 23797   \n",
       "10  2020      8       31259.0                                 24210   \n",
       "11  2021     10       29631.0                                 30184   \n",
       "12  2021     11       21662.0                                 28507   \n",
       "13  2020      7       19178.0                                 10028   \n",
       "14  2022      2       18672.0                                 11397   \n",
       "15  2020     10       17963.0                                 29045   \n",
       "16  2020      6       17541.0                                    48   \n",
       "17  2021      3       16700.0                                 21294   \n",
       "18  2020      9       15244.0                                 25948   \n",
       "19  2021      4       14253.0                                 19784   \n",
       "20  2021      5       10927.0                                 19979   \n",
       "21  2021      7        8029.0                                 19205   \n",
       "22  2020      1        6454.0                                  3237   \n",
       "23  2021      6        6445.0                                 18248   \n",
       "24  2022      3        5804.0                                  9509   \n",
       "25  2022      7        5176.0                                  9207   \n",
       "26  2022      6        4156.0                                  8218   \n",
       "27  2022      5        3277.0                                  8642   \n",
       "28  2022      4        2852.0                                  8706   \n",
       "29  2020      3        1118.0                                     0   \n",
       "30  2022      8         200.0                                   296   \n",
       "31  2020      2           0.0                                     0   \n",
       "\n",
       "    staffed_adult_icu_bed_occupancy  \\\n",
       "0                         2102367.0   \n",
       "1                         2111959.0   \n",
       "2                               0.0   \n",
       "3                         2047394.0   \n",
       "4                         1946551.0   \n",
       "5                         1818747.0   \n",
       "6                            1705.0   \n",
       "7                         1912448.0   \n",
       "8                         1981755.0   \n",
       "9                         2034597.0   \n",
       "10                        1660287.0   \n",
       "11                        1983298.0   \n",
       "12                        1866057.0   \n",
       "13                         623339.0   \n",
       "14                        1762340.0   \n",
       "15                        1847641.0   \n",
       "16                              0.0   \n",
       "17                        1870547.0   \n",
       "18                        1668536.0   \n",
       "19                        1820186.0   \n",
       "20                        1831877.0   \n",
       "21                        1830949.0   \n",
       "22                         208079.0   \n",
       "23                        1727423.0   \n",
       "24                        1767477.0   \n",
       "25                        1721628.0   \n",
       "26                        1664811.0   \n",
       "27                        1709833.0   \n",
       "28                        1659021.0   \n",
       "29                              0.0   \n",
       "30                          54211.0   \n",
       "31                              0.0   \n",
       "\n",
       "    total_adult_patients_hospitalized_confirmed_covid  \n",
       "0                                           3433622.0  \n",
       "1                                           3377012.0  \n",
       "2                                             24939.0  \n",
       "3                                           2555691.0  \n",
       "4                                           3940530.0  \n",
       "5                                           1811779.0  \n",
       "6                                             56186.0  \n",
       "7                                           2096196.0  \n",
       "8                                           1982693.0  \n",
       "9                                           2446087.0  \n",
       "10                                          1190017.0  \n",
       "11                                          1626807.0  \n",
       "12                                          1315386.0  \n",
       "13                                           752366.0  \n",
       "14                                          1988911.0  \n",
       "15                                          1078338.0  \n",
       "16                                            18123.0  \n",
       "17                                          1104328.0  \n",
       "18                                           807186.0  \n",
       "19                                          1119390.0  \n",
       "20                                           808230.0  \n",
       "21                                           731988.0  \n",
       "22                                           375445.0  \n",
       "23                                           415145.0  \n",
       "24                                           587264.0  \n",
       "25                                          1087821.0  \n",
       "26                                           764447.0  \n",
       "27                                           560548.0  \n",
       "28                                           314237.0  \n",
       "29                                              806.0  \n",
       "30                                            38188.0  \n",
       "31                                                0.0  "
      ]
     },
     "execution_count": 78,
     "metadata": {},
     "output_type": "execute_result"
    }
   ],
   "source": [
    "df = data_df[['date', 'state', 'deaths_covid', \n",
    "         'critical_staffing_shortage_today_yes', \n",
    "         'staffed_adult_icu_bed_occupancy', \n",
    "         'total_adult_patients_hospitalized_confirmed_covid',\n",
    "         ]].copy()\n",
    "\n",
    "df['month'] = pd.DatetimeIndex(df['date']).month\n",
    "df['year'] = df['date'].dt.isocalendar().year\n",
    "\n",
    "df_grouped = df.groupby(['year', 'month']).sum()\n",
    "df_grouped.sort_values(['deaths_covid'], inplace=True, ascending=False)\n",
    "df_grouped.reset_index(inplace=True)\n",
    "df_grouped"
   ]
  },
  {
   "cell_type": "code",
   "execution_count": 79,
   "metadata": {},
   "outputs": [
    {
     "data": {
      "image/png": "[encoded data removed]",
      "text/plain": [
       "<Figure size 864x504 with 4 Axes>"
      ]
     },
     "metadata": {
      "needs_background": "light"
     },
     "output_type": "display_data"
    }
   ],
   "source": [
    "fig,ax = plt.subplots(2,2, figsize=(12, 7))\n",
    "ax = ax.flatten()\n",
    "df_grouped.year = pd.Categorical(df_grouped.year)\n",
    "sns.lineplot(ax=ax[0], x='month', y='deaths_covid', data=df_grouped, hue='year')\n",
    "sns.lineplot(ax=ax[1], x='month', y='critical_staffing_shortage_today_yes', data=df_grouped, hue='year')\n",
    "sns.lineplot(ax=ax[2], x='month', y='staffed_adult_icu_bed_occupancy', data=df_grouped, hue='year')\n",
    "sns.lineplot(ax=ax[3], x='month', y='total_adult_patients_hospitalized_confirmed_covid', data=df_grouped, hue='year')\n",
    "\n",
    "\n",
    "ax[0].set_xlabel(\"\")\n",
    "ax[0].set_ylabel(\"Muertes por Covid\")\n",
    "\n",
    "ax[1].set_xlabel(\"\")\n",
    "ax[1].set_ylabel(\"# Hospitales sin personal\")\n",
    "\n",
    "ax[2].set_xlabel(\"\")\n",
    "ax[2].set_ylabel(\"Total camas UCI ocupadas\")\n",
    "\n",
    "ax[3].set_xlabel(\"\")\n",
    "ax[3].set_ylabel(\"Total pacientes adultos hospitalizados\")\n",
    "\n",
    "handles, labels = ax[0].get_legend_handles_labels()\n",
    "ax[0].legend(handles, labels, loc=1, bbox_to_anchor=(0.95,0.99), ncol=3, bbox_transform=fig.transFigure)\n",
    "ax[1].legend([],[], frameon=False)\n",
    "ax[2].legend([],[], frameon=False)\n",
    "ax[3].legend([],[], frameon=False)\n",
    "\n",
    "fig.subplots_adjust(left=0.005, right=1, top=0.8, bottom=0.1)\n",
    "fig.text(\n",
    "    0, 0.910, \"Muertes por covid, Número de hospitales sin personal disponible, \\nTotal camas UCI ocupadas, Total adultos hospitalizados\", \n",
    "    fontsize=16, fontweight=\"bold\"\n",
    ")\n",
    "fig.text(\n",
    "    0, 0.875, \"Periodo 2020-01-01 a 2022-08-01\", \n",
    "    fontsize=14\n",
    ")\n",
    "source = \"Sources: U.S. Department of Health & Human Services - HealthData.gov\"\n",
    "fig.text(\n",
    "    0, 0, source, color=\"#a2a2a2\", \n",
    "    fontsize=14, fontfamily=\"Econ Sans Cnd\"\n",
    ")\n",
    "fig.add_artist(lines.Line2D([0, 1], [1, 1], lw=3, color='red', solid_capstyle=\"butt\"))\n",
    "fig.add_artist(patches.Rectangle((0, 0.975), 0.05, 0.025, color='red'))\n",
    "sns.despine(left=False, bottom=False)"
   ]
  },
  {
   "cell_type": "markdown",
   "metadata": {},
   "source": [
    "Se graficó el número de muertes por covid, el número de hospitales sin personal disponible, el total de camas UCI ocupadas y el total de pacientes adultos hospitalizados para evaluar su desempeño durante los años que lleva la pandemia. Es interesante notar como todas las graficas incrementan hacia el final del año 2020. En el caso del total de camas ocupadas el año 2021 se mantuvo relativamente constante, disminuyendo un poco durante este año y luego ha tenido una caida dramatica, aunque se puede argumentar que no se debe estar reportando los datos desde Julio de este año para este item.\n",
    "Algo en común que tienen las cuatro gráficas es que para el 2020 todas finalizan en picos y el 2021 inicia con dicho pico. A excepción del total de pacientes adultos hospitalizados cuyo mayor pico ocurre en enero de 2022. Pero aún así teninedo en cuenta esto, se puede argumentar que los peores meses de la pandemia son Diciembre y Enero de 2020 y 2021 respectivamante. Eso se debe a la falta de prevención de los ciudadanos durante las fiestas de navidad y año nuevo."
   ]
  },
  {
   "cell_type": "code",
   "execution_count": 80,
   "metadata": {},
   "outputs": [
    {
     "data": {
      "image/png": "[encoded data removed]",
      "text/plain": [
       "<Figure size 1080x360 with 1 Axes>"
      ]
     },
     "metadata": {
      "needs_background": "light"
     },
     "output_type": "display_data"
    }
   ],
   "source": [
    "data_us = pd.read_csv('https://raw.githubusercontent.com/nytimes/covid-19-data/master/us.csv', parse_dates=['date'])\n",
    "plt.figure(figsize=(15, 5))\n",
    "sns.lineplot(x='date', y='cases', data=data_us)\n",
    "\n",
    "plt.xticks(rotation=45)\n",
    "\n",
    "plt.xlabel('')\n",
    "plt.ylabel('Número de casos (10 millones)')\n",
    "plt.title('Casos COVID19 Estados Unidos Enero 2020 a hoy',\n",
    "          fontsize=16)\n",
    "sns.despine(left=False, bottom=False)"
   ]
  },
  {
   "cell_type": "markdown",
   "metadata": {},
   "source": [
    "## Recomendaciones"
   ]
  },
  {
   "cell_type": "markdown",
   "metadata": {},
   "source": [
    "Dejar a un lado la división politica"
   ]
  },
  {
   "cell_type": "markdown",
   "metadata": {},
   "source": [
    "## Total hospitalizaciones en todo el dataset"
   ]
  },
  {
   "cell_type": "code",
   "execution_count": 94,
   "metadata": {},
   "outputs": [
    {
     "data": {
      "text/html": [
       "<div>\n",
       "<style scoped>\n",
       "    .dataframe tbody tr th:only-of-type {\n",
       "        vertical-align: middle;\n",
       "    }\n",
       "\n",
       "    .dataframe tbody tr th {\n",
       "        vertical-align: top;\n",
       "    }\n",
       "\n",
       "    .dataframe thead th {\n",
       "        text-align: right;\n",
       "    }\n",
       "</style>\n",
       "<table border=\"1\" class=\"dataframe\">\n",
       "  <thead>\n",
       "    <tr style=\"text-align: right;\">\n",
       "      <th></th>\n",
       "      <th>total_adult_patients_hospitalized_confirmed_covid</th>\n",
       "      <th>staffed_icu_adult_patients_confirmed_covid</th>\n",
       "      <th>total_pediatric_patients_hospitalized_confirmed_covid</th>\n",
       "      <th>total_occupation</th>\n",
       "    </tr>\n",
       "    <tr>\n",
       "      <th>state</th>\n",
       "      <th></th>\n",
       "      <th></th>\n",
       "      <th></th>\n",
       "      <th></th>\n",
       "    </tr>\n",
       "  </thead>\n",
       "  <tbody>\n",
       "    <tr>\n",
       "      <th>TX</th>\n",
       "      <td>4048445.0</td>\n",
       "      <td>1141077.0</td>\n",
       "      <td>85105.0</td>\n",
       "      <td>5274627.0</td>\n",
       "    </tr>\n",
       "    <tr>\n",
       "      <th>CA</th>\n",
       "      <td>3958334.0</td>\n",
       "      <td>896903.0</td>\n",
       "      <td>67577.0</td>\n",
       "      <td>4922814.0</td>\n",
       "    </tr>\n",
       "    <tr>\n",
       "      <th>FL</th>\n",
       "      <td>3292312.0</td>\n",
       "      <td>689918.0</td>\n",
       "      <td>46352.0</td>\n",
       "      <td>4028582.0</td>\n",
       "    </tr>\n",
       "    <tr>\n",
       "      <th>NY</th>\n",
       "      <td>2259035.0</td>\n",
       "      <td>396762.0</td>\n",
       "      <td>38714.0</td>\n",
       "      <td>2694511.0</td>\n",
       "    </tr>\n",
       "    <tr>\n",
       "      <th>PA</th>\n",
       "      <td>1608673.0</td>\n",
       "      <td>337956.0</td>\n",
       "      <td>29505.0</td>\n",
       "      <td>1976134.0</td>\n",
       "    </tr>\n",
       "  </tbody>\n",
       "</table>\n",
       "</div>"
      ],
      "text/plain": [
       "       total_adult_patients_hospitalized_confirmed_covid  \\\n",
       "state                                                      \n",
       "TX                                             4048445.0   \n",
       "CA                                             3958334.0   \n",
       "FL                                             3292312.0   \n",
       "NY                                             2259035.0   \n",
       "PA                                             1608673.0   \n",
       "\n",
       "       staffed_icu_adult_patients_confirmed_covid  \\\n",
       "state                                               \n",
       "TX                                      1141077.0   \n",
       "CA                                       896903.0   \n",
       "FL                                       689918.0   \n",
       "NY                                       396762.0   \n",
       "PA                                       337956.0   \n",
       "\n",
       "       total_pediatric_patients_hospitalized_confirmed_covid  total_occupation  \n",
       "state                                                                           \n",
       "TX                                               85105.0             5274627.0  \n",
       "CA                                               67577.0             4922814.0  \n",
       "FL                                               46352.0             4028582.0  \n",
       "NY                                               38714.0             2694511.0  \n",
       "PA                                               29505.0             1976134.0  "
      ]
     },
     "execution_count": 94,
     "metadata": {},
     "output_type": "execute_result"
    }
   ],
   "source": [
    "df_test = data_df[['state', 'total_adult_patients_hospitalized_confirmed_covid', 'staffed_icu_adult_patients_confirmed_covid',\n",
    "                          'total_pediatric_patients_hospitalized_confirmed_covid']].copy()\n",
    "df_grouped = df_test.groupby('state').sum()\n",
    "df_grouped['total_occupation'] = df_grouped[['total_adult_patients_hospitalized_confirmed_covid', 'staffed_icu_adult_patients_confirmed_covid',\n",
    "                          'total_pediatric_patients_hospitalized_confirmed_covid']].sum(axis=1)\n",
    "df_grouped.sort_values('total_occupation', ascending=False, inplace=True)\n",
    "df_grouped.head()"
   ]
  },
  {
   "cell_type": "code",
   "execution_count": 95,
   "metadata": {},
   "outputs": [
    {
     "data": {
      "application/vnd.plotly.v1+json": {
       "config": {
        "linkText": "Export to plot.ly",
        "plotlyServerURL": "https://plot.ly",
        "showLink": false
       },
       "data": [
        {
         "locationmode": "USA-states",
         "locations": [
          "TX",
          "CA",
          "FL",
          "NY",
          "PA",
          "GA",
          "OH",
          "IL",
          "MI",
          "NC",
          "TN",
          "AZ",
          "NJ",
          "MO",
          "IN",
          "AL",
          "VA",
          "LA",
          "KY",
          "SC",
          "WI",
          "MD",
          "OK",
          "NV",
          "WA",
          "CO",
          "MA",
          "MN",
          "AR",
          "MS",
          "KS",
          "WV",
          "CT",
          "IA",
          "OR",
          "UT",
          "NM",
          "NE",
          "ID",
          "PR",
          "MT",
          "DE",
          "ME",
          "DC",
          "SD",
          "RI",
          "ND",
          "NH",
          "HI",
          "WY",
          "AK",
          "VT",
          "VI",
          "AS"
         ],
         "type": "choropleth",
         "z": [
          5274627,
          4922814,
          4028582,
          2694511,
          1976134,
          1866929,
          1827849,
          1638371,
          1475350,
          1432786,
          1246331,
          1232757,
          1174151,
          1143166,
          1061976,
          996526,
          955709,
          898585,
          794449,
          763900,
          726286,
          717786,
          706889,
          683087,
          643605,
          621716,
          586424,
          581207,
          550055,
          520710,
          394985,
          387852,
          380407,
          358121,
          350896,
          304601,
          300804,
          280022,
          231435,
          203921,
          150735,
          149034,
          140285,
          135683,
          133272,
          122344,
          118788,
          111719,
          105820,
          70189,
          66593,
          29588,
          6331,
          732
         ]
        }
       ],
       "layout": {
        "geo": {
         "scope": "usa"
        },
        "height": 600,
        "template": {
         "data": {
          "bar": [
           {
            "error_x": {
             "color": "#2a3f5f"
            },
            "error_y": {
             "color": "#2a3f5f"
            },
            "marker": {
             "line": {
              "color": "#E5ECF6",
              "width": 0.5
             },
             "pattern": {
              "fillmode": "overlay",
              "size": 10,
              "solidity": 0.2
             }
            },
            "type": "bar"
           }
          ],
          "barpolar": [
           {
            "marker": {
             "line": {
              "color": "#E5ECF6",
              "width": 0.5
             },
             "pattern": {
              "fillmode": "overlay",
              "size": 10,
              "solidity": 0.2
             }
            },
            "type": "barpolar"
           }
          ],
          "carpet": [
           {
            "aaxis": {
             "endlinecolor": "#2a3f5f",
             "gridcolor": "white",
             "linecolor": "white",
             "minorgridcolor": "white",
             "startlinecolor": "#2a3f5f"
            },
            "baxis": {
             "endlinecolor": "#2a3f5f",
             "gridcolor": "white",
             "linecolor": "white",
             "minorgridcolor": "white",
             "startlinecolor": "#2a3f5f"
            },
            "type": "carpet"
           }
          ],
          "choropleth": [
           {
            "colorbar": {
             "outlinewidth": 0,
             "ticks": ""
            },
            "type": "choropleth"
           }
          ],
          "contour": [
           {
            "colorbar": {
             "outlinewidth": 0,
             "ticks": ""
            },
            "colorscale": [
             [
              0,
              "#0d0887"
             ],
             [
              0.1111111111111111,
              "#46039f"
             ],
             [
              0.2222222222222222,
              "#7201a8"
             ],
             [
              0.3333333333333333,
              "#9c179e"
             ],
             [
              0.4444444444444444,
              "#bd3786"
             ],
             [
              0.5555555555555556,
              "#d8576b"
             ],
             [
              0.6666666666666666,
              "#ed7953"
             ],
             [
              0.7777777777777778,
              "#fb9f3a"
             ],
             [
              0.8888888888888888,
              "#fdca26"
             ],
             [
              1,
              "#f0f921"
             ]
            ],
            "type": "contour"
           }
          ],
          "contourcarpet": [
           {
            "colorbar": {
             "outlinewidth": 0,
             "ticks": ""
            },
            "type": "contourcarpet"
           }
          ],
          "heatmap": [
           {
            "colorbar": {
             "outlinewidth": 0,
             "ticks": ""
            },
            "colorscale": [
             [
              0,
              "#0d0887"
             ],
             [
              0.1111111111111111,
              "#46039f"
             ],
             [
              0.2222222222222222,
              "#7201a8"
             ],
             [
              0.3333333333333333,
              "#9c179e"
             ],
             [
              0.4444444444444444,
              "#bd3786"
             ],
             [
              0.5555555555555556,
              "#d8576b"
             ],
             [
              0.6666666666666666,
              "#ed7953"
             ],
             [
              0.7777777777777778,
              "#fb9f3a"
             ],
             [
              0.8888888888888888,
              "#fdca26"
             ],
             [
              1,
              "#f0f921"
             ]
            ],
            "type": "heatmap"
           }
          ],
          "heatmapgl": [
           {
            "colorbar": {
             "outlinewidth": 0,
             "ticks": ""
            },
            "colorscale": [
             [
              0,
              "#0d0887"
             ],
             [
              0.1111111111111111,
              "#46039f"
             ],
             [
              0.2222222222222222,
              "#7201a8"
             ],
             [
              0.3333333333333333,
              "#9c179e"
             ],
             [
              0.4444444444444444,
              "#bd3786"
             ],
             [
              0.5555555555555556,
              "#d8576b"
             ],
             [
              0.6666666666666666,
              "#ed7953"
             ],
             [
              0.7777777777777778,
              "#fb9f3a"
             ],
             [
              0.8888888888888888,
              "#fdca26"
             ],
             [
              1,
              "#f0f921"
             ]
            ],
            "type": "heatmapgl"
           }
          ],
          "histogram": [
           {
            "marker": {
             "pattern": {
              "fillmode": "overlay",
              "size": 10,
              "solidity": 0.2
             }
            },
            "type": "histogram"
           }
          ],
          "histogram2d": [
           {
            "colorbar": {
             "outlinewidth": 0,
             "ticks": ""
            },
            "colorscale": [
             [
              0,
              "#0d0887"
             ],
             [
              0.1111111111111111,
              "#46039f"
             ],
             [
              0.2222222222222222,
              "#7201a8"
             ],
             [
              0.3333333333333333,
              "#9c179e"
             ],
             [
              0.4444444444444444,
              "#bd3786"
             ],
             [
              0.5555555555555556,
              "#d8576b"
             ],
             [
              0.6666666666666666,
              "#ed7953"
             ],
             [
              0.7777777777777778,
              "#fb9f3a"
             ],
             [
              0.8888888888888888,
              "#fdca26"
             ],
             [
              1,
              "#f0f921"
             ]
            ],
            "type": "histogram2d"
           }
          ],
          "histogram2dcontour": [
           {
            "colorbar": {
             "outlinewidth": 0,
             "ticks": ""
            },
            "colorscale": [
             [
              0,
              "#0d0887"
             ],
             [
              0.1111111111111111,
              "#46039f"
             ],
             [
              0.2222222222222222,
              "#7201a8"
             ],
             [
              0.3333333333333333,
              "#9c179e"
             ],
             [
              0.4444444444444444,
              "#bd3786"
             ],
             [
              0.5555555555555556,
              "#d8576b"
             ],
             [
              0.6666666666666666,
              "#ed7953"
             ],
             [
              0.7777777777777778,
              "#fb9f3a"
             ],
             [
              0.8888888888888888,
              "#fdca26"
             ],
             [
              1,
              "#f0f921"
             ]
            ],
            "type": "histogram2dcontour"
           }
          ],
          "mesh3d": [
           {
            "colorbar": {
             "outlinewidth": 0,
             "ticks": ""
            },
            "type": "mesh3d"
           }
          ],
          "parcoords": [
           {
            "line": {
             "colorbar": {
              "outlinewidth": 0,
              "ticks": ""
             }
            },
            "type": "parcoords"
           }
          ],
          "pie": [
           {
            "automargin": true,
            "type": "pie"
           }
          ],
          "scatter": [
           {
            "fillpattern": {
             "fillmode": "overlay",
             "size": 10,
             "solidity": 0.2
            },
            "type": "scatter"
           }
          ],
          "scatter3d": [
           {
            "line": {
             "colorbar": {
              "outlinewidth": 0,
              "ticks": ""
             }
            },
            "marker": {
             "colorbar": {
              "outlinewidth": 0,
              "ticks": ""
             }
            },
            "type": "scatter3d"
           }
          ],
          "scattercarpet": [
           {
            "marker": {
             "colorbar": {
              "outlinewidth": 0,
              "ticks": ""
             }
            },
            "type": "scattercarpet"
           }
          ],
          "scattergeo": [
           {
            "marker": {
             "colorbar": {
              "outlinewidth": 0,
              "ticks": ""
             }
            },
            "type": "scattergeo"
           }
          ],
          "scattergl": [
           {
            "marker": {
             "colorbar": {
              "outlinewidth": 0,
              "ticks": ""
             }
            },
            "type": "scattergl"
           }
          ],
          "scattermapbox": [
           {
            "marker": {
             "colorbar": {
              "outlinewidth": 0,
              "ticks": ""
             }
            },
            "type": "scattermapbox"
           }
          ],
          "scatterpolar": [
           {
            "marker": {
             "colorbar": {
              "outlinewidth": 0,
              "ticks": ""
             }
            },
            "type": "scatterpolar"
           }
          ],
          "scatterpolargl": [
           {
            "marker": {
             "colorbar": {
              "outlinewidth": 0,
              "ticks": ""
             }
            },
            "type": "scatterpolargl"
           }
          ],
          "scatterternary": [
           {
            "marker": {
             "colorbar": {
              "outlinewidth": 0,
              "ticks": ""
             }
            },
            "type": "scatterternary"
           }
          ],
          "surface": [
           {
            "colorbar": {
             "outlinewidth": 0,
             "ticks": ""
            },
            "colorscale": [
             [
              0,
              "#0d0887"
             ],
             [
              0.1111111111111111,
              "#46039f"
             ],
             [
              0.2222222222222222,
              "#7201a8"
             ],
             [
              0.3333333333333333,
              "#9c179e"
             ],
             [
              0.4444444444444444,
              "#bd3786"
             ],
             [
              0.5555555555555556,
              "#d8576b"
             ],
             [
              0.6666666666666666,
              "#ed7953"
             ],
             [
              0.7777777777777778,
              "#fb9f3a"
             ],
             [
              0.8888888888888888,
              "#fdca26"
             ],
             [
              1,
              "#f0f921"
             ]
            ],
            "type": "surface"
           }
          ],
          "table": [
           {
            "cells": {
             "fill": {
              "color": "#EBF0F8"
             },
             "line": {
              "color": "white"
             }
            },
            "header": {
             "fill": {
              "color": "#C8D4E3"
             },
             "line": {
              "color": "white"
             }
            },
            "type": "table"
           }
          ]
         },
         "layout": {
          "annotationdefaults": {
           "arrowcolor": "#2a3f5f",
           "arrowhead": 0,
           "arrowwidth": 1
          },
          "autotypenumbers": "strict",
          "coloraxis": {
           "colorbar": {
            "outlinewidth": 0,
            "ticks": ""
           }
          },
          "colorscale": {
           "diverging": [
            [
             0,
             "#8e0152"
            ],
            [
             0.1,
             "#c51b7d"
            ],
            [
             0.2,
             "#de77ae"
            ],
            [
             0.3,
             "#f1b6da"
            ],
            [
             0.4,
             "#fde0ef"
            ],
            [
             0.5,
             "#f7f7f7"
            ],
            [
             0.6,
             "#e6f5d0"
            ],
            [
             0.7,
             "#b8e186"
            ],
            [
             0.8,
             "#7fbc41"
            ],
            [
             0.9,
             "#4d9221"
            ],
            [
             1,
             "#276419"
            ]
           ],
           "sequential": [
            [
             0,
             "#0d0887"
            ],
            [
             0.1111111111111111,
             "#46039f"
            ],
            [
             0.2222222222222222,
             "#7201a8"
            ],
            [
             0.3333333333333333,
             "#9c179e"
            ],
            [
             0.4444444444444444,
             "#bd3786"
            ],
            [
             0.5555555555555556,
             "#d8576b"
            ],
            [
             0.6666666666666666,
             "#ed7953"
            ],
            [
             0.7777777777777778,
             "#fb9f3a"
            ],
            [
             0.8888888888888888,
             "#fdca26"
            ],
            [
             1,
             "#f0f921"
            ]
           ],
           "sequentialminus": [
            [
             0,
             "#0d0887"
            ],
            [
             0.1111111111111111,
             "#46039f"
            ],
            [
             0.2222222222222222,
             "#7201a8"
            ],
            [
             0.3333333333333333,
             "#9c179e"
            ],
            [
             0.4444444444444444,
             "#bd3786"
            ],
            [
             0.5555555555555556,
             "#d8576b"
            ],
            [
             0.6666666666666666,
             "#ed7953"
            ],
            [
             0.7777777777777778,
             "#fb9f3a"
            ],
            [
             0.8888888888888888,
             "#fdca26"
            ],
            [
             1,
             "#f0f921"
            ]
           ]
          },
          "colorway": [
           "#636efa",
           "#EF553B",
           "#00cc96",
           "#ab63fa",
           "#FFA15A",
           "#19d3f3",
           "#FF6692",
           "#B6E880",
           "#FF97FF",
           "#FECB52"
          ],
          "font": {
           "color": "#2a3f5f"
          },
          "geo": {
           "bgcolor": "white",
           "lakecolor": "white",
           "landcolor": "#E5ECF6",
           "showlakes": true,
           "showland": true,
           "subunitcolor": "white"
          },
          "hoverlabel": {
           "align": "left"
          },
          "hovermode": "closest",
          "mapbox": {
           "style": "light"
          },
          "paper_bgcolor": "white",
          "plot_bgcolor": "#E5ECF6",
          "polar": {
           "angularaxis": {
            "gridcolor": "white",
            "linecolor": "white",
            "ticks": ""
           },
           "bgcolor": "#E5ECF6",
           "radialaxis": {
            "gridcolor": "white",
            "linecolor": "white",
            "ticks": ""
           }
          },
          "scene": {
           "xaxis": {
            "backgroundcolor": "#E5ECF6",
            "gridcolor": "white",
            "gridwidth": 2,
            "linecolor": "white",
            "showbackground": true,
            "ticks": "",
            "zerolinecolor": "white"
           },
           "yaxis": {
            "backgroundcolor": "#E5ECF6",
            "gridcolor": "white",
            "gridwidth": 2,
            "linecolor": "white",
            "showbackground": true,
            "ticks": "",
            "zerolinecolor": "white"
           },
           "zaxis": {
            "backgroundcolor": "#E5ECF6",
            "gridcolor": "white",
            "gridwidth": 2,
            "linecolor": "white",
            "showbackground": true,
            "ticks": "",
            "zerolinecolor": "white"
           }
          },
          "shapedefaults": {
           "line": {
            "color": "#2a3f5f"
           }
          },
          "ternary": {
           "aaxis": {
            "gridcolor": "white",
            "linecolor": "white",
            "ticks": ""
           },
           "baxis": {
            "gridcolor": "white",
            "linecolor": "white",
            "ticks": ""
           },
           "bgcolor": "#E5ECF6",
           "caxis": {
            "gridcolor": "white",
            "linecolor": "white",
            "ticks": ""
           }
          },
          "title": {
           "x": 0.05
          },
          "xaxis": {
           "automargin": true,
           "gridcolor": "white",
           "linecolor": "white",
           "ticks": "",
           "title": {
            "standoff": 15
           },
           "zerolinecolor": "white",
           "zerolinewidth": 2
          },
          "yaxis": {
           "automargin": true,
           "gridcolor": "white",
           "linecolor": "white",
           "ticks": "",
           "title": {
            "standoff": 15
           },
           "zerolinecolor": "white",
           "zerolinewidth": 2
          }
         }
        },
        "title": {
         "text": "Total hospitalizados desde Enero 2020 a hoy"
        },
        "width": 900
       }
      }
     },
     "metadata": {},
     "output_type": "display_data"
    }
   ],
   "source": [
    "data_plot = {\n",
    "    'type':'choropleth',\n",
    "    'locations':df_grouped.index.values,\n",
    "    'locationmode': 'USA-states',\n",
    "    'z':df_grouped['total_occupation']\n",
    "}\n",
    "\n",
    "layout = {'title':'Total hospitalizados desde Enero 2020 a hoy',\n",
    "        'geo':{'scope':'usa'},\n",
    "        'height': 600,\n",
    "        'width': 900}\n",
    "\n",
    "x = pg.Figure(data = [data_plot], layout=layout)\n",
    "po.iplot(x)"
   ]
  },
  {
   "cell_type": "markdown",
   "metadata": {},
   "source": [
    "Los estados con mayor población son los estados con mayor cantidad de pacientes hospitalizados. Texas ocupa el primer lugar sobre California a pesar de ser el segundo estado más poblado de Estados Unidos, sin embargo, es uno si no el principal estado en oponerse a cualquier método de prevención de la COVID-19 debido a motivos políticos y religiosos. Ahora bien, atribuir la cantidad de pacientes hospitalizados a temas políticos y religiosos no es tan correcto cuando se evalúa el caso de California con por lo menos 300.000 hospitalizaciones menos. Este fue uno de los estados con casos más graves de ocupación hospitalaria en la que incluso se presentaron congestiones masivas en las zonas de descarga de pacientes en las salas de emergencias y esto a pesar de que este estado tuvo la cuarentena más larga del país, 453 días comprendidos entre el 19 de marzo del 2020 hasta el 15 de junio del 2021. Florida ocupa el tercer lugar y es uno de los estados en los que más polémica hubo debido a que al inicio de la pandemia no se cerró el estado ni se controló la afluencia de turistas y fue considerado un foco de expansión del virus durante las vacaciones de primavera. Nueva York, en el cuarto lugar, también fue considerado como uno de los principales focos de infección en el país, pero a diferencia de Florida, esto se da, ya que la mayoría de vuelos internacionales llegan a este estado, adicionalmente la ciudad de Nueva York es una de las más concurridas del país."
   ]
  },
  {
   "cell_type": "markdown",
   "metadata": {},
   "source": [
    "## Uso camas UCI por estado"
   ]
  },
  {
   "cell_type": "code",
   "execution_count": 96,
   "metadata": {},
   "outputs": [
    {
     "data": {
      "text/html": [
       "<div>\n",
       "<style scoped>\n",
       "    .dataframe tbody tr th:only-of-type {\n",
       "        vertical-align: middle;\n",
       "    }\n",
       "\n",
       "    .dataframe tbody tr th {\n",
       "        vertical-align: top;\n",
       "    }\n",
       "\n",
       "    .dataframe thead th {\n",
       "        text-align: right;\n",
       "    }\n",
       "</style>\n",
       "<table border=\"1\" class=\"dataframe\">\n",
       "  <thead>\n",
       "    <tr style=\"text-align: right;\">\n",
       "      <th></th>\n",
       "      <th>staffed_icu_adult_patients_confirmed_covid</th>\n",
       "      <th>staffed_adult_icu_bed_occupancy</th>\n",
       "      <th>icu_occupation</th>\n",
       "    </tr>\n",
       "    <tr>\n",
       "      <th>state</th>\n",
       "      <th></th>\n",
       "      <th></th>\n",
       "      <th></th>\n",
       "    </tr>\n",
       "  </thead>\n",
       "  <tbody>\n",
       "    <tr>\n",
       "      <th>TX</th>\n",
       "      <td>1141077.0</td>\n",
       "      <td>4381263.0</td>\n",
       "      <td>5522340.0</td>\n",
       "    </tr>\n",
       "    <tr>\n",
       "      <th>CA</th>\n",
       "      <td>896903.0</td>\n",
       "      <td>3989117.0</td>\n",
       "      <td>4886020.0</td>\n",
       "    </tr>\n",
       "    <tr>\n",
       "      <th>FL</th>\n",
       "      <td>689918.0</td>\n",
       "      <td>3722944.0</td>\n",
       "      <td>4412862.0</td>\n",
       "    </tr>\n",
       "    <tr>\n",
       "      <th>NY</th>\n",
       "      <td>396762.0</td>\n",
       "      <td>2503604.0</td>\n",
       "      <td>2900366.0</td>\n",
       "    </tr>\n",
       "    <tr>\n",
       "      <th>PA</th>\n",
       "      <td>337956.0</td>\n",
       "      <td>2102886.0</td>\n",
       "      <td>2440842.0</td>\n",
       "    </tr>\n",
       "  </tbody>\n",
       "</table>\n",
       "</div>"
      ],
      "text/plain": [
       "       staffed_icu_adult_patients_confirmed_covid  \\\n",
       "state                                               \n",
       "TX                                      1141077.0   \n",
       "CA                                       896903.0   \n",
       "FL                                       689918.0   \n",
       "NY                                       396762.0   \n",
       "PA                                       337956.0   \n",
       "\n",
       "       staffed_adult_icu_bed_occupancy  icu_occupation  \n",
       "state                                                   \n",
       "TX                           4381263.0       5522340.0  \n",
       "CA                           3989117.0       4886020.0  \n",
       "FL                           3722944.0       4412862.0  \n",
       "NY                           2503604.0       2900366.0  \n",
       "PA                           2102886.0       2440842.0  "
      ]
     },
     "execution_count": 96,
     "metadata": {},
     "output_type": "execute_result"
    }
   ],
   "source": [
    "df_test = data_df[['state', 'staffed_icu_adult_patients_confirmed_covid', 'staffed_adult_icu_bed_occupancy']].copy()\n",
    "df_grouped = df_test.groupby('state').sum()\n",
    "df_grouped['icu_occupation'] = df_grouped[['staffed_icu_adult_patients_confirmed_covid', \n",
    "                                           'staffed_adult_icu_bed_occupancy']].sum(axis=1)\n",
    "df_grouped.sort_values('icu_occupation', ascending=False, inplace=True)\n",
    "\n",
    "df_grouped.head()"
   ]
  },
  {
   "cell_type": "code",
   "execution_count": null,
   "metadata": {},
   "outputs": [
    {
     "data": {
      "application/vnd.plotly.v1+json": {
       "config": {
        "linkText": "Export to plot.ly",
        "plotlyServerURL": "https://plot.ly",
        "showLink": false
       },
       "data": [
        {
         "locationmode": "USA-states",
         "locations": [
          "TX",
          "CA",
          "FL",
          "NY",
          "PA",
          "OH",
          "GA",
          "IL",
          "MI",
          "NC",
          "TN",
          "IN",
          "MO",
          "AL",
          "VA",
          "AZ",
          "NJ",
          "LA",
          "KY",
          "MA",
          "SC",
          "WI",
          "WA",
          "MD",
          "CO",
          "OK",
          "AR",
          "NV",
          "MN",
          "MS",
          "KS",
          "CT",
          "OR",
          "WV",
          "IA",
          "PR",
          "UT",
          "NE",
          "NM",
          "DC",
          "ME",
          "ID",
          "NH",
          "MT",
          "SD",
          "DE",
          "HI",
          "ND",
          "RI",
          "AK",
          "VT",
          "WY",
          "VI",
          "AS"
         ],
         "type": "choropleth",
         "z": [
          5522340,
          4886020,
          4412862,
          2900366,
          2440842,
          2429217,
          1952514,
          1895159,
          1700689,
          1672611,
          1514091,
          1375699,
          1316380,
          1214069,
          1155426,
          1146609,
          1131784,
          1069565,
          1012601,
          870671,
          843844,
          826663,
          812112,
          806833,
          796932,
          755146,
          681270,
          626818,
          609834,
          578758,
          525611,
          494450,
          457627,
          454743,
          439319,
          371537,
          371241,
          334263,
          324608,
          215160,
          206252,
          205207,
          147773,
          130583,
          125057,
          124684,
          116340,
          110972,
          110723,
          81505,
          55276,
          53372,
          7819,
          1318
         ]
        }
       ],
       "layout": {
        "geo": {
         "scope": "usa"
        },
        "height": 600,
        "template": {
         "data": {
          "bar": [
           {
            "error_x": {
             "color": "#2a3f5f"
            },
            "error_y": {
             "color": "#2a3f5f"
            },
            "marker": {
             "line": {
              "color": "#E5ECF6",
              "width": 0.5
             },
             "pattern": {
              "fillmode": "overlay",
              "size": 10,
              "solidity": 0.2
             }
            },
            "type": "bar"
           }
          ],
          "barpolar": [
           {
            "marker": {
             "line": {
              "color": "#E5ECF6",
              "width": 0.5
             },
             "pattern": {
              "fillmode": "overlay",
              "size": 10,
              "solidity": 0.2
             }
            },
            "type": "barpolar"
           }
          ],
          "carpet": [
           {
            "aaxis": {
             "endlinecolor": "#2a3f5f",
             "gridcolor": "white",
             "linecolor": "white",
             "minorgridcolor": "white",
             "startlinecolor": "#2a3f5f"
            },
            "baxis": {
             "endlinecolor": "#2a3f5f",
             "gridcolor": "white",
             "linecolor": "white",
             "minorgridcolor": "white",
             "startlinecolor": "#2a3f5f"
            },
            "type": "carpet"
           }
          ],
          "choropleth": [
           {
            "colorbar": {
             "outlinewidth": 0,
             "ticks": ""
            },
            "type": "choropleth"
           }
          ],
          "contour": [
           {
            "colorbar": {
             "outlinewidth": 0,
             "ticks": ""
            },
            "colorscale": [
             [
              0,
              "#0d0887"
             ],
             [
              0.1111111111111111,
              "#46039f"
             ],
             [
              0.2222222222222222,
              "#7201a8"
             ],
             [
              0.3333333333333333,
              "#9c179e"
             ],
             [
              0.4444444444444444,
              "#bd3786"
             ],
             [
              0.5555555555555556,
              "#d8576b"
             ],
             [
              0.6666666666666666,
              "#ed7953"
             ],
             [
              0.7777777777777778,
              "#fb9f3a"
             ],
             [
              0.8888888888888888,
              "#fdca26"
             ],
             [
              1,
              "#f0f921"
             ]
            ],
            "type": "contour"
           }
          ],
          "contourcarpet": [
           {
            "colorbar": {
             "outlinewidth": 0,
             "ticks": ""
            },
            "type": "contourcarpet"
           }
          ],
          "heatmap": [
           {
            "colorbar": {
             "outlinewidth": 0,
             "ticks": ""
            },
            "colorscale": [
             [
              0,
              "#0d0887"
             ],
             [
              0.1111111111111111,
              "#46039f"
             ],
             [
              0.2222222222222222,
              "#7201a8"
             ],
             [
              0.3333333333333333,
              "#9c179e"
             ],
             [
              0.4444444444444444,
              "#bd3786"
             ],
             [
              0.5555555555555556,
              "#d8576b"
             ],
             [
              0.6666666666666666,
              "#ed7953"
             ],
             [
              0.7777777777777778,
              "#fb9f3a"
             ],
             [
              0.8888888888888888,
              "#fdca26"
             ],
             [
              1,
              "#f0f921"
             ]
            ],
            "type": "heatmap"
           }
          ],
          "heatmapgl": [
           {
            "colorbar": {
             "outlinewidth": 0,
             "ticks": ""
            },
            "colorscale": [
             [
              0,
              "#0d0887"
             ],
             [
              0.1111111111111111,
              "#46039f"
             ],
             [
              0.2222222222222222,
              "#7201a8"
             ],
             [
              0.3333333333333333,
              "#9c179e"
             ],
             [
              0.4444444444444444,
              "#bd3786"
             ],
             [
              0.5555555555555556,
              "#d8576b"
             ],
             [
              0.6666666666666666,
              "#ed7953"
             ],
             [
              0.7777777777777778,
              "#fb9f3a"
             ],
             [
              0.8888888888888888,
              "#fdca26"
             ],
             [
              1,
              "#f0f921"
             ]
            ],
            "type": "heatmapgl"
           }
          ],
          "histogram": [
           {
            "marker": {
             "pattern": {
              "fillmode": "overlay",
              "size": 10,
              "solidity": 0.2
             }
            },
            "type": "histogram"
           }
          ],
          "histogram2d": [
           {
            "colorbar": {
             "outlinewidth": 0,
             "ticks": ""
            },
            "colorscale": [
             [
              0,
              "#0d0887"
             ],
             [
              0.1111111111111111,
              "#46039f"
             ],
             [
              0.2222222222222222,
              "#7201a8"
             ],
             [
              0.3333333333333333,
              "#9c179e"
             ],
             [
              0.4444444444444444,
              "#bd3786"
             ],
             [
              0.5555555555555556,
              "#d8576b"
             ],
             [
              0.6666666666666666,
              "#ed7953"
             ],
             [
              0.7777777777777778,
              "#fb9f3a"
             ],
             [
              0.8888888888888888,
              "#fdca26"
             ],
             [
              1,
              "#f0f921"
             ]
            ],
            "type": "histogram2d"
           }
          ],
          "histogram2dcontour": [
           {
            "colorbar": {
             "outlinewidth": 0,
             "ticks": ""
            },
            "colorscale": [
             [
              0,
              "#0d0887"
             ],
             [
              0.1111111111111111,
              "#46039f"
             ],
             [
              0.2222222222222222,
              "#7201a8"
             ],
             [
              0.3333333333333333,
              "#9c179e"
             ],
             [
              0.4444444444444444,
              "#bd3786"
             ],
             [
              0.5555555555555556,
              "#d8576b"
             ],
             [
              0.6666666666666666,
              "#ed7953"
             ],
             [
              0.7777777777777778,
              "#fb9f3a"
             ],
             [
              0.8888888888888888,
              "#fdca26"
             ],
             [
              1,
              "#f0f921"
             ]
            ],
            "type": "histogram2dcontour"
           }
          ],
          "mesh3d": [
           {
            "colorbar": {
             "outlinewidth": 0,
             "ticks": ""
            },
            "type": "mesh3d"
           }
          ],
          "parcoords": [
           {
            "line": {
             "colorbar": {
              "outlinewidth": 0,
              "ticks": ""
             }
            },
            "type": "parcoords"
           }
          ],
          "pie": [
           {
            "automargin": true,
            "type": "pie"
           }
          ],
          "scatter": [
           {
            "fillpattern": {
             "fillmode": "overlay",
             "size": 10,
             "solidity": 0.2
            },
            "type": "scatter"
           }
          ],
          "scatter3d": [
           {
            "line": {
             "colorbar": {
              "outlinewidth": 0,
              "ticks": ""
             }
            },
            "marker": {
             "colorbar": {
              "outlinewidth": 0,
              "ticks": ""
             }
            },
            "type": "scatter3d"
           }
          ],
          "scattercarpet": [
           {
            "marker": {
             "colorbar": {
              "outlinewidth": 0,
              "ticks": ""
             }
            },
            "type": "scattercarpet"
           }
          ],
          "scattergeo": [
           {
            "marker": {
             "colorbar": {
              "outlinewidth": 0,
              "ticks": ""
             }
            },
            "type": "scattergeo"
           }
          ],
          "scattergl": [
           {
            "marker": {
             "colorbar": {
              "outlinewidth": 0,
              "ticks": ""
             }
            },
            "type": "scattergl"
           }
          ],
          "scattermapbox": [
           {
            "marker": {
             "colorbar": {
              "outlinewidth": 0,
              "ticks": ""
             }
            },
            "type": "scattermapbox"
           }
          ],
          "scatterpolar": [
           {
            "marker": {
             "colorbar": {
              "outlinewidth": 0,
              "ticks": ""
             }
            },
            "type": "scatterpolar"
           }
          ],
          "scatterpolargl": [
           {
            "marker": {
             "colorbar": {
              "outlinewidth": 0,
              "ticks": ""
             }
            },
            "type": "scatterpolargl"
           }
          ],
          "scatterternary": [
           {
            "marker": {
             "colorbar": {
              "outlinewidth": 0,
              "ticks": ""
             }
            },
            "type": "scatterternary"
           }
          ],
          "surface": [
           {
            "colorbar": {
             "outlinewidth": 0,
             "ticks": ""
            },
            "colorscale": [
             [
              0,
              "#0d0887"
             ],
             [
              0.1111111111111111,
              "#46039f"
             ],
             [
              0.2222222222222222,
              "#7201a8"
             ],
             [
              0.3333333333333333,
              "#9c179e"
             ],
             [
              0.4444444444444444,
              "#bd3786"
             ],
             [
              0.5555555555555556,
              "#d8576b"
             ],
             [
              0.6666666666666666,
              "#ed7953"
             ],
             [
              0.7777777777777778,
              "#fb9f3a"
             ],
             [
              0.8888888888888888,
              "#fdca26"
             ],
             [
              1,
              "#f0f921"
             ]
            ],
            "type": "surface"
           }
          ],
          "table": [
           {
            "cells": {
             "fill": {
              "color": "#EBF0F8"
             },
             "line": {
              "color": "white"
             }
            },
            "header": {
             "fill": {
              "color": "#C8D4E3"
             },
             "line": {
              "color": "white"
             }
            },
            "type": "table"
           }
          ]
         },
         "layout": {
          "annotationdefaults": {
           "arrowcolor": "#2a3f5f",
           "arrowhead": 0,
           "arrowwidth": 1
          },
          "autotypenumbers": "strict",
          "coloraxis": {
           "colorbar": {
            "outlinewidth": 0,
            "ticks": ""
           }
          },
          "colorscale": {
           "diverging": [
            [
             0,
             "#8e0152"
            ],
            [
             0.1,
             "#c51b7d"
            ],
            [
             0.2,
             "#de77ae"
            ],
            [
             0.3,
             "#f1b6da"
            ],
            [
             0.4,
             "#fde0ef"
            ],
            [
             0.5,
             "#f7f7f7"
            ],
            [
             0.6,
             "#e6f5d0"
            ],
            [
             0.7,
             "#b8e186"
            ],
            [
             0.8,
             "#7fbc41"
            ],
            [
             0.9,
             "#4d9221"
            ],
            [
             1,
             "#276419"
            ]
           ],
           "sequential": [
            [
             0,
             "#0d0887"
            ],
            [
             0.1111111111111111,
             "#46039f"
            ],
            [
             0.2222222222222222,
             "#7201a8"
            ],
            [
             0.3333333333333333,
             "#9c179e"
            ],
            [
             0.4444444444444444,
             "#bd3786"
            ],
            [
             0.5555555555555556,
             "#d8576b"
            ],
            [
             0.6666666666666666,
             "#ed7953"
            ],
            [
             0.7777777777777778,
             "#fb9f3a"
            ],
            [
             0.8888888888888888,
             "#fdca26"
            ],
            [
             1,
             "#f0f921"
            ]
           ],
           "sequentialminus": [
            [
             0,
             "#0d0887"
            ],
            [
             0.1111111111111111,
             "#46039f"
            ],
            [
             0.2222222222222222,
             "#7201a8"
            ],
            [
             0.3333333333333333,
             "#9c179e"
            ],
            [
             0.4444444444444444,
             "#bd3786"
            ],
            [
             0.5555555555555556,
             "#d8576b"
            ],
            [
             0.6666666666666666,
             "#ed7953"
            ],
            [
             0.7777777777777778,
             "#fb9f3a"
            ],
            [
             0.8888888888888888,
             "#fdca26"
            ],
            [
             1,
             "#f0f921"
            ]
           ]
          },
          "colorway": [
           "#636efa",
           "#EF553B",
           "#00cc96",
           "#ab63fa",
           "#FFA15A",
           "#19d3f3",
           "#FF6692",
           "#B6E880",
           "#FF97FF",
           "#FECB52"
          ],
          "font": {
           "color": "#2a3f5f"
          },
          "geo": {
           "bgcolor": "white",
           "lakecolor": "white",
           "landcolor": "#E5ECF6",
           "showlakes": true,
           "showland": true,
           "subunitcolor": "white"
          },
          "hoverlabel": {
           "align": "left"
          },
          "hovermode": "closest",
          "mapbox": {
           "style": "light"
          },
          "paper_bgcolor": "white",
          "plot_bgcolor": "#E5ECF6",
          "polar": {
           "angularaxis": {
            "gridcolor": "white",
            "linecolor": "white",
            "ticks": ""
           },
           "bgcolor": "#E5ECF6",
           "radialaxis": {
            "gridcolor": "white",
            "linecolor": "white",
            "ticks": ""
           }
          },
          "scene": {
           "xaxis": {
            "backgroundcolor": "#E5ECF6",
            "gridcolor": "white",
            "gridwidth": 2,
            "linecolor": "white",
            "showbackground": true,
            "ticks": "",
            "zerolinecolor": "white"
           },
           "yaxis": {
            "backgroundcolor": "#E5ECF6",
            "gridcolor": "white",
            "gridwidth": 2,
            "linecolor": "white",
            "showbackground": true,
            "ticks": "",
            "zerolinecolor": "white"
           },
           "zaxis": {
            "backgroundcolor": "#E5ECF6",
            "gridcolor": "white",
            "gridwidth": 2,
            "linecolor": "white",
            "showbackground": true,
            "ticks": "",
            "zerolinecolor": "white"
           }
          },
          "shapedefaults": {
           "line": {
            "color": "#2a3f5f"
           }
          },
          "ternary": {
           "aaxis": {
            "gridcolor": "white",
            "linecolor": "white",
            "ticks": ""
           },
           "baxis": {
            "gridcolor": "white",
            "linecolor": "white",
            "ticks": ""
           },
           "bgcolor": "#E5ECF6",
           "caxis": {
            "gridcolor": "white",
            "linecolor": "white",
            "ticks": ""
           }
          },
          "title": {
           "x": 0.05
          },
          "xaxis": {
           "automargin": true,
           "gridcolor": "white",
           "linecolor": "white",
           "ticks": "",
           "title": {
            "standoff": 15
           },
           "zerolinecolor": "white",
           "zerolinewidth": 2
          },
          "yaxis": {
           "automargin": true,
           "gridcolor": "white",
           "linecolor": "white",
           "ticks": "",
           "title": {
            "standoff": 15
           },
           "zerolinecolor": "white",
           "zerolinewidth": 2
          }
         }
        },
        "title": {
         "text": "Total ocupación camas UCI desde Enero 2020 a hoy"
        },
        "width": 900
       }
      }
     },
     "metadata": {},
     "output_type": "display_data"
    }
   ],
   "source": [
    "data_plot = {\n",
    "    'type':'choropleth',\n",
    "    'locations':df_grouped.index.values,\n",
    "    'locationmode': 'USA-states',\n",
    "    'z':df_grouped['icu_occupation']\n",
    "}\n",
    "\n",
    "layout = {'title':'Total ocupación camas UCI desde Enero 2020 a hoy',\n",
    "        'geo':{'scope':'usa'},\n",
    "        'height': 600,\n",
    "        'width': 900}\n",
    "\n",
    "x = pg.Figure(data = [data_plot], layout=layout)\n",
    "po.iplot(x)"
   ]
  },
  {
   "cell_type": "markdown",
   "metadata": {},
   "source": [
    "En el caso de la ocupación de camas de cuidados intensivos tenemos la misma distribución que la cantidad de hospitalizados, y es que a las unidades de cuidados intensivos llegaban los casos graves de COVID-19. Es interesante que los números de ocupación de camas UCI y de hospitalización son similares. Si bien la columna staffed_icu_adult_patients_confirmed_covid se usó en el cálculo del número de hospitalizaciones, no se encuentra una explicación para haber obtenido números similares a menos que se considere que Estados Unidos al día de hoy ha reportado más de 92 millones de casos y debido a la gran cantidad de casos efectivamente 5 millones de personas en Texas han ocupado una cama UCI."
   ]
  },
  {
   "cell_type": "markdown",
   "metadata": {},
   "source": [
    "## Estados con mayor ocupación hospitalaria"
   ]
  },
  {
   "cell_type": "code",
   "execution_count": 88,
   "metadata": {},
   "outputs": [
    {
     "data": {
      "text/html": [
       "<div>\n",
       "<style scoped>\n",
       "    .dataframe tbody tr th:only-of-type {\n",
       "        vertical-align: middle;\n",
       "    }\n",
       "\n",
       "    .dataframe tbody tr th {\n",
       "        vertical-align: top;\n",
       "    }\n",
       "\n",
       "    .dataframe thead th {\n",
       "        text-align: right;\n",
       "    }\n",
       "</style>\n",
       "<table border=\"1\" class=\"dataframe\">\n",
       "  <thead>\n",
       "    <tr style=\"text-align: right;\">\n",
       "      <th></th>\n",
       "      <th>beds_covid</th>\n",
       "      <th>total_cases</th>\n",
       "    </tr>\n",
       "    <tr>\n",
       "      <th>state</th>\n",
       "      <th></th>\n",
       "      <th></th>\n",
       "    </tr>\n",
       "  </thead>\n",
       "  <tbody>\n",
       "    <tr>\n",
       "      <th>TX</th>\n",
       "      <td>4978171</td>\n",
       "      <td>5279048.0</td>\n",
       "    </tr>\n",
       "    <tr>\n",
       "      <th>CA</th>\n",
       "      <td>4908805</td>\n",
       "      <td>4929777.0</td>\n",
       "    </tr>\n",
       "    <tr>\n",
       "      <th>FL</th>\n",
       "      <td>4142129</td>\n",
       "      <td>4032176.0</td>\n",
       "    </tr>\n",
       "    <tr>\n",
       "      <th>NY</th>\n",
       "      <td>3424839</td>\n",
       "      <td>2697750.0</td>\n",
       "    </tr>\n",
       "    <tr>\n",
       "      <th>PA</th>\n",
       "      <td>2129091</td>\n",
       "      <td>1977828.0</td>\n",
       "    </tr>\n",
       "  </tbody>\n",
       "</table>\n",
       "</div>"
      ],
      "text/plain": [
       "       beds_covid  total_cases\n",
       "state                         \n",
       "TX        4978171    5279048.0\n",
       "CA        4908805    4929777.0\n",
       "FL        4142129    4032176.0\n",
       "NY        3424839    2697750.0\n",
       "PA        2129091    1977828.0"
      ]
     },
     "execution_count": 88,
     "metadata": {},
     "output_type": "execute_result"
    }
   ],
   "source": [
    "df = data_df.copy()\n",
    "df = df[['state', 'date', 'inpatient_beds_used_covid',\n",
    "'total_adult_patients_hospitalized_confirmed_covid',\n",
    "'staffed_icu_adult_patients_confirmed_covid',\n",
    "'total_pediatric_patients_hospitalized_confirmed_covid',\n",
    "'staffed_icu_pediatric_patients_confirmed_covid']]\n",
    "\n",
    "df.rename(columns={\n",
    "    'inpatient_beds_used_covid': 'beds_covid',\n",
    "    'total_adult_patients_hospitalized_confirmed_covid': 'adults_hospt',\n",
    "    'staffed_icu_adult_patients_confirmed_covid': 'adults_uci',\n",
    "    'total_pediatric_patients_hospitalized_confirmed_covid': 'children_hospt',\n",
    "    'staffed_icu_pediatric_patients_confirmed_covid': 'children_uci'\n",
    "}, inplace=True)\n",
    "\n",
    "df.fillna(0, inplace=True)\n",
    "df['total_cases'] = df.iloc[:, 3:7].sum(axis=1)\n",
    "\n",
    "df['month_string'] = [d.strftime('%b') for d in df.date]\n",
    "df_group = df.groupby('state')[['beds_covid','total_cases']].sum()\n",
    "df_group.sort_values('beds_covid', ascending=False, inplace=True)\n",
    "top_5 = df_group.head(5).copy()\n",
    "top_5['beds_covid'] = [int(i) for i in top_5['beds_covid']]\n",
    "\n",
    "top_5"
   ]
  },
  {
   "cell_type": "code",
   "execution_count": 90,
   "metadata": {},
   "outputs": [
    {
     "data": {
      "text/plain": [
       "<matplotlib.patches.Rectangle at 0x290712560a0>"
      ]
     },
     "execution_count": 90,
     "metadata": {},
     "output_type": "execute_result"
    },
    {
     "data": {
      "image/png": "[encoded data removed]",
      "text/plain": [
       "<Figure size 720x360 with 1 Axes>"
      ]
     },
     "metadata": {
      "needs_background": "light"
     },
     "output_type": "display_data"
    }
   ],
   "source": [
    "fig,ax = plt.subplots(figsize=(10, 5))\n",
    "sns.barplot(x='beds_covid', y=top_5.index, data=top_5)\n",
    "\n",
    "ax.set_axisbelow(True)\n",
    "ax.grid(axis = \"x\", color=\"#A8BAC4\", lw=1.2)\n",
    "ax.spines[\"right\"].set_visible(False)\n",
    "ax.spines[\"top\"].set_visible(False)\n",
    "ax.spines[\"bottom\"].set_visible(False)\n",
    "ax.spines[\"left\"].set_lw(1.5)\n",
    "ax.xaxis.set_tick_params(labelbottom=False, labeltop=True, length=0)\n",
    "\n",
    "plt.ylabel('')\n",
    "plt.xlabel('')\n",
    "\n",
    "fig.subplots_adjust(left=0.005, right=1, top=0.8, bottom=0.1)\n",
    "fig.text(\n",
    "    0, 0.925, \"Número de camas ocupadas\", \n",
    "    fontsize=16, fontweight=\"bold\"\n",
    ")\n",
    "fig.text(\n",
    "    0, 0.875, \"Periodo 2020-01-01 a 2022-08-01\", \n",
    "    fontsize=14\n",
    ")\n",
    "source = \"Fuente: U.S. Department of Health & Human Services - HealthData.gov\"\n",
    "fig.text(\n",
    "    0, 0.06, source, color=\"#a2a2a2\", \n",
    "    fontsize=14, fontfamily=\"Econ Sans Cnd\"\n",
    ")\n",
    "fig.add_artist(lines.Line2D([0, 1], [1, 1], lw=3, color='red', solid_capstyle=\"butt\"))\n",
    "fig.add_artist(patches.Rectangle((0, 0.975), 0.05, 0.025, color='red'))"
   ]
  },
  {
   "cell_type": "code",
   "execution_count": null,
   "metadata": {},
   "outputs": [],
   "source": [
    "#df = data_df[(data_df['date'] >= start_date_trans) & (data_df['date'] <= end_date_trans)]\n",
    "df = data_df[['state', 'inpatient_beds_used_covid']].copy()\n",
    "df_group = df.groupby('state').sum()\n",
    "df_group.sort_values('inpatient_beds_used_covid', ascending=False, inplace=True)\n",
    "camas = df_group.head(5).copy()\n",
    "fig,ax = plt.subplots(figsize=(12, 7))\n",
    "sns.barplot(x='inpatient_beds_used_covid', y=camas.index, data=camas)\n",
    "\n",
    "ax.set_axisbelow(True)\n",
    "ax.grid(axis = \"x\", color=\"#A8BAC4\", lw=1.2)\n",
    "ax.spines[\"right\"].set_visible(False)\n",
    "ax.spines[\"top\"].set_visible(False)\n",
    "ax.spines[\"bottom\"].set_visible(False)\n",
    "ax.spines[\"left\"].set_lw(1.5)\n",
    "ax.xaxis.set_tick_params(labelbottom=False, labeltop=True, length=0)\n",
    "\n",
    "plt.ylabel('')\n",
    "plt.xlabel('')\n",
    "\n",
    "fig.subplots_adjust(left=0.005, right=1, top=0.8, bottom=0.1)\n",
    "fig.text(\n",
    "    0, 0.925, \"Número de camas ocupadas pacientes con COVID-19\", \n",
    "    fontsize=16, fontweight=\"bold\"\n",
    ")\n",
    "fig.text(\n",
    "    0, 0.875, f\"Periodo 2020-01-01 a 2022-08-01\", \n",
    "    fontsize=14\n",
    ")\n",
    "source = \"Sources: U.S. Department of Health & Human Services - HealthData.gov\"\n",
    "fig.text(\n",
    "    0, 0.06, source, color=\"#a2a2a2\", \n",
    "    fontsize=14, fontfamily=\"Econ Sans Cnd\"\n",
    ")\n",
    "fig.add_artist(lines.Line2D([0, 1], [1, 1], lw=3, color='red', solid_capstyle=\"butt\"))\n",
    "fig.add_artist(patches.Rectangle((0, 0.975), 0.05, 0.025, color='red'))"
   ]
  }
 ],
 "metadata": {
  "kernelspec": {
   "display_name": "Python 3.9.12 ('Streamlit')",
   "language": "python",
   "name": "python3"
  },
  "language_info": {
   "codemirror_mode": {
    "name": "ipython",
    "version": 3
   },
   "file_extension": ".py",
   "mimetype": "text/x-python",
   "name": "python",
   "nbconvert_exporter": "python",
   "pygments_lexer": "ipython3",
   "version": "3.9.12"
  },
  "orig_nbformat": 4,
  "vscode": {
   "interpreter": {
    "hash": "db7a108f02b2ff19846449fa282dcc432ebb986fe62e8331b15d93c1373a2764"
   }
  }
 },
 "nbformat": 4,
 "nbformat_minor": 2
}
